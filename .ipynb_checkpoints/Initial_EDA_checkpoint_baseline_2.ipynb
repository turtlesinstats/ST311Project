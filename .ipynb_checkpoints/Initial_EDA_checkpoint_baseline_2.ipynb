{
  "cells": [
    {
      "cell_type": "markdown",
      "id": "2647157e",
      "metadata": {
        "id": "2647157e"
      },
      "source": [
        "# EDA and Pre-Processing"
      ]
    },
    {
      "cell_type": "markdown",
      "id": "c7cc729f",
      "metadata": {
        "id": "c7cc729f"
      },
      "source": [
        "## Initial EDA"
      ]
    },
    {
      "cell_type": "code",
      "execution_count": 3,
      "id": "f58d28a8",
      "metadata": {
        "id": "f58d28a8"
      },
      "outputs": [],
      "source": [
        "import pandas as pd"
      ]
    },
    {
      "cell_type": "code",
      "execution_count": null,
      "id": "11ee2cbc",
      "metadata": {
        "id": "11ee2cbc",
        "outputId": "a282e080-e77b-444b-cba8-eaf44bb3ee06"
      },
      "outputs": [
        {
          "ename": "FileNotFoundError",
          "evalue": "[Errno 2] No such file or directory: 'cleaned_lyrics_gender.csv'",
          "output_type": "error",
          "traceback": [
            "\u001b[1;31m---------------------------------------------------------------------------\u001b[0m",
            "\u001b[1;31mFileNotFoundError\u001b[0m                         Traceback (most recent call last)",
            "Input \u001b[1;32mIn [3]\u001b[0m, in \u001b[0;36m<cell line: 1>\u001b[1;34m()\u001b[0m\n\u001b[1;32m----> 1\u001b[0m df \u001b[38;5;241m=\u001b[39m \u001b[43mpd\u001b[49m\u001b[38;5;241;43m.\u001b[39;49m\u001b[43mread_csv\u001b[49m\u001b[43m(\u001b[49m\u001b[38;5;124;43m'\u001b[39;49m\u001b[38;5;124;43mcleaned_lyrics_gender.csv\u001b[39;49m\u001b[38;5;124;43m'\u001b[39;49m\u001b[43m)\u001b[49m\n\u001b[0;32m      2\u001b[0m df\u001b[38;5;241m.\u001b[39mhead()\n",
            "File \u001b[1;32m~\\anaconda3\\lib\\site-packages\\pandas\\util\\_decorators.py:311\u001b[0m, in \u001b[0;36mdeprecate_nonkeyword_arguments.<locals>.decorate.<locals>.wrapper\u001b[1;34m(*args, **kwargs)\u001b[0m\n\u001b[0;32m    305\u001b[0m \u001b[38;5;28;01mif\u001b[39;00m \u001b[38;5;28mlen\u001b[39m(args) \u001b[38;5;241m>\u001b[39m num_allow_args:\n\u001b[0;32m    306\u001b[0m     warnings\u001b[38;5;241m.\u001b[39mwarn(\n\u001b[0;32m    307\u001b[0m         msg\u001b[38;5;241m.\u001b[39mformat(arguments\u001b[38;5;241m=\u001b[39marguments),\n\u001b[0;32m    308\u001b[0m         \u001b[38;5;167;01mFutureWarning\u001b[39;00m,\n\u001b[0;32m    309\u001b[0m         stacklevel\u001b[38;5;241m=\u001b[39mstacklevel,\n\u001b[0;32m    310\u001b[0m     )\n\u001b[1;32m--> 311\u001b[0m \u001b[38;5;28;01mreturn\u001b[39;00m func(\u001b[38;5;241m*\u001b[39margs, \u001b[38;5;241m*\u001b[39m\u001b[38;5;241m*\u001b[39mkwargs)\n",
            "File \u001b[1;32m~\\anaconda3\\lib\\site-packages\\pandas\\io\\parsers\\readers.py:680\u001b[0m, in \u001b[0;36mread_csv\u001b[1;34m(filepath_or_buffer, sep, delimiter, header, names, index_col, usecols, squeeze, prefix, mangle_dupe_cols, dtype, engine, converters, true_values, false_values, skipinitialspace, skiprows, skipfooter, nrows, na_values, keep_default_na, na_filter, verbose, skip_blank_lines, parse_dates, infer_datetime_format, keep_date_col, date_parser, dayfirst, cache_dates, iterator, chunksize, compression, thousands, decimal, lineterminator, quotechar, quoting, doublequote, escapechar, comment, encoding, encoding_errors, dialect, error_bad_lines, warn_bad_lines, on_bad_lines, delim_whitespace, low_memory, memory_map, float_precision, storage_options)\u001b[0m\n\u001b[0;32m    665\u001b[0m kwds_defaults \u001b[38;5;241m=\u001b[39m _refine_defaults_read(\n\u001b[0;32m    666\u001b[0m     dialect,\n\u001b[0;32m    667\u001b[0m     delimiter,\n\u001b[1;32m   (...)\u001b[0m\n\u001b[0;32m    676\u001b[0m     defaults\u001b[38;5;241m=\u001b[39m{\u001b[38;5;124m\"\u001b[39m\u001b[38;5;124mdelimiter\u001b[39m\u001b[38;5;124m\"\u001b[39m: \u001b[38;5;124m\"\u001b[39m\u001b[38;5;124m,\u001b[39m\u001b[38;5;124m\"\u001b[39m},\n\u001b[0;32m    677\u001b[0m )\n\u001b[0;32m    678\u001b[0m kwds\u001b[38;5;241m.\u001b[39mupdate(kwds_defaults)\n\u001b[1;32m--> 680\u001b[0m \u001b[38;5;28;01mreturn\u001b[39;00m \u001b[43m_read\u001b[49m\u001b[43m(\u001b[49m\u001b[43mfilepath_or_buffer\u001b[49m\u001b[43m,\u001b[49m\u001b[43m \u001b[49m\u001b[43mkwds\u001b[49m\u001b[43m)\u001b[49m\n",
            "File \u001b[1;32m~\\anaconda3\\lib\\site-packages\\pandas\\io\\parsers\\readers.py:575\u001b[0m, in \u001b[0;36m_read\u001b[1;34m(filepath_or_buffer, kwds)\u001b[0m\n\u001b[0;32m    572\u001b[0m _validate_names(kwds\u001b[38;5;241m.\u001b[39mget(\u001b[38;5;124m\"\u001b[39m\u001b[38;5;124mnames\u001b[39m\u001b[38;5;124m\"\u001b[39m, \u001b[38;5;28;01mNone\u001b[39;00m))\n\u001b[0;32m    574\u001b[0m \u001b[38;5;66;03m# Create the parser.\u001b[39;00m\n\u001b[1;32m--> 575\u001b[0m parser \u001b[38;5;241m=\u001b[39m TextFileReader(filepath_or_buffer, \u001b[38;5;241m*\u001b[39m\u001b[38;5;241m*\u001b[39mkwds)\n\u001b[0;32m    577\u001b[0m \u001b[38;5;28;01mif\u001b[39;00m chunksize \u001b[38;5;129;01mor\u001b[39;00m iterator:\n\u001b[0;32m    578\u001b[0m     \u001b[38;5;28;01mreturn\u001b[39;00m parser\n",
            "File \u001b[1;32m~\\anaconda3\\lib\\site-packages\\pandas\\io\\parsers\\readers.py:933\u001b[0m, in \u001b[0;36mTextFileReader.__init__\u001b[1;34m(self, f, engine, **kwds)\u001b[0m\n\u001b[0;32m    930\u001b[0m     \u001b[38;5;28mself\u001b[39m\u001b[38;5;241m.\u001b[39moptions[\u001b[38;5;124m\"\u001b[39m\u001b[38;5;124mhas_index_names\u001b[39m\u001b[38;5;124m\"\u001b[39m] \u001b[38;5;241m=\u001b[39m kwds[\u001b[38;5;124m\"\u001b[39m\u001b[38;5;124mhas_index_names\u001b[39m\u001b[38;5;124m\"\u001b[39m]\n\u001b[0;32m    932\u001b[0m \u001b[38;5;28mself\u001b[39m\u001b[38;5;241m.\u001b[39mhandles: IOHandles \u001b[38;5;241m|\u001b[39m \u001b[38;5;28;01mNone\u001b[39;00m \u001b[38;5;241m=\u001b[39m \u001b[38;5;28;01mNone\u001b[39;00m\n\u001b[1;32m--> 933\u001b[0m \u001b[38;5;28mself\u001b[39m\u001b[38;5;241m.\u001b[39m_engine \u001b[38;5;241m=\u001b[39m \u001b[38;5;28;43mself\u001b[39;49m\u001b[38;5;241;43m.\u001b[39;49m\u001b[43m_make_engine\u001b[49m\u001b[43m(\u001b[49m\u001b[43mf\u001b[49m\u001b[43m,\u001b[49m\u001b[43m \u001b[49m\u001b[38;5;28;43mself\u001b[39;49m\u001b[38;5;241;43m.\u001b[39;49m\u001b[43mengine\u001b[49m\u001b[43m)\u001b[49m\n",
            "File \u001b[1;32m~\\anaconda3\\lib\\site-packages\\pandas\\io\\parsers\\readers.py:1217\u001b[0m, in \u001b[0;36mTextFileReader._make_engine\u001b[1;34m(self, f, engine)\u001b[0m\n\u001b[0;32m   1213\u001b[0m     mode \u001b[38;5;241m=\u001b[39m \u001b[38;5;124m\"\u001b[39m\u001b[38;5;124mrb\u001b[39m\u001b[38;5;124m\"\u001b[39m\n\u001b[0;32m   1214\u001b[0m \u001b[38;5;66;03m# error: No overload variant of \"get_handle\" matches argument types\u001b[39;00m\n\u001b[0;32m   1215\u001b[0m \u001b[38;5;66;03m# \"Union[str, PathLike[str], ReadCsvBuffer[bytes], ReadCsvBuffer[str]]\"\u001b[39;00m\n\u001b[0;32m   1216\u001b[0m \u001b[38;5;66;03m# , \"str\", \"bool\", \"Any\", \"Any\", \"Any\", \"Any\", \"Any\"\u001b[39;00m\n\u001b[1;32m-> 1217\u001b[0m \u001b[38;5;28mself\u001b[39m\u001b[38;5;241m.\u001b[39mhandles \u001b[38;5;241m=\u001b[39m \u001b[43mget_handle\u001b[49m\u001b[43m(\u001b[49m\u001b[43m  \u001b[49m\u001b[38;5;66;43;03m# type: ignore[call-overload]\u001b[39;49;00m\n\u001b[0;32m   1218\u001b[0m \u001b[43m    \u001b[49m\u001b[43mf\u001b[49m\u001b[43m,\u001b[49m\n\u001b[0;32m   1219\u001b[0m \u001b[43m    \u001b[49m\u001b[43mmode\u001b[49m\u001b[43m,\u001b[49m\n\u001b[0;32m   1220\u001b[0m \u001b[43m    \u001b[49m\u001b[43mencoding\u001b[49m\u001b[38;5;241;43m=\u001b[39;49m\u001b[38;5;28;43mself\u001b[39;49m\u001b[38;5;241;43m.\u001b[39;49m\u001b[43moptions\u001b[49m\u001b[38;5;241;43m.\u001b[39;49m\u001b[43mget\u001b[49m\u001b[43m(\u001b[49m\u001b[38;5;124;43m\"\u001b[39;49m\u001b[38;5;124;43mencoding\u001b[39;49m\u001b[38;5;124;43m\"\u001b[39;49m\u001b[43m,\u001b[49m\u001b[43m \u001b[49m\u001b[38;5;28;43;01mNone\u001b[39;49;00m\u001b[43m)\u001b[49m\u001b[43m,\u001b[49m\n\u001b[0;32m   1221\u001b[0m \u001b[43m    \u001b[49m\u001b[43mcompression\u001b[49m\u001b[38;5;241;43m=\u001b[39;49m\u001b[38;5;28;43mself\u001b[39;49m\u001b[38;5;241;43m.\u001b[39;49m\u001b[43moptions\u001b[49m\u001b[38;5;241;43m.\u001b[39;49m\u001b[43mget\u001b[49m\u001b[43m(\u001b[49m\u001b[38;5;124;43m\"\u001b[39;49m\u001b[38;5;124;43mcompression\u001b[39;49m\u001b[38;5;124;43m\"\u001b[39;49m\u001b[43m,\u001b[49m\u001b[43m \u001b[49m\u001b[38;5;28;43;01mNone\u001b[39;49;00m\u001b[43m)\u001b[49m\u001b[43m,\u001b[49m\n\u001b[0;32m   1222\u001b[0m \u001b[43m    \u001b[49m\u001b[43mmemory_map\u001b[49m\u001b[38;5;241;43m=\u001b[39;49m\u001b[38;5;28;43mself\u001b[39;49m\u001b[38;5;241;43m.\u001b[39;49m\u001b[43moptions\u001b[49m\u001b[38;5;241;43m.\u001b[39;49m\u001b[43mget\u001b[49m\u001b[43m(\u001b[49m\u001b[38;5;124;43m\"\u001b[39;49m\u001b[38;5;124;43mmemory_map\u001b[39;49m\u001b[38;5;124;43m\"\u001b[39;49m\u001b[43m,\u001b[49m\u001b[43m \u001b[49m\u001b[38;5;28;43;01mFalse\u001b[39;49;00m\u001b[43m)\u001b[49m\u001b[43m,\u001b[49m\n\u001b[0;32m   1223\u001b[0m \u001b[43m    \u001b[49m\u001b[43mis_text\u001b[49m\u001b[38;5;241;43m=\u001b[39;49m\u001b[43mis_text\u001b[49m\u001b[43m,\u001b[49m\n\u001b[0;32m   1224\u001b[0m \u001b[43m    \u001b[49m\u001b[43merrors\u001b[49m\u001b[38;5;241;43m=\u001b[39;49m\u001b[38;5;28;43mself\u001b[39;49m\u001b[38;5;241;43m.\u001b[39;49m\u001b[43moptions\u001b[49m\u001b[38;5;241;43m.\u001b[39;49m\u001b[43mget\u001b[49m\u001b[43m(\u001b[49m\u001b[38;5;124;43m\"\u001b[39;49m\u001b[38;5;124;43mencoding_errors\u001b[39;49m\u001b[38;5;124;43m\"\u001b[39;49m\u001b[43m,\u001b[49m\u001b[43m \u001b[49m\u001b[38;5;124;43m\"\u001b[39;49m\u001b[38;5;124;43mstrict\u001b[39;49m\u001b[38;5;124;43m\"\u001b[39;49m\u001b[43m)\u001b[49m\u001b[43m,\u001b[49m\n\u001b[0;32m   1225\u001b[0m \u001b[43m    \u001b[49m\u001b[43mstorage_options\u001b[49m\u001b[38;5;241;43m=\u001b[39;49m\u001b[38;5;28;43mself\u001b[39;49m\u001b[38;5;241;43m.\u001b[39;49m\u001b[43moptions\u001b[49m\u001b[38;5;241;43m.\u001b[39;49m\u001b[43mget\u001b[49m\u001b[43m(\u001b[49m\u001b[38;5;124;43m\"\u001b[39;49m\u001b[38;5;124;43mstorage_options\u001b[39;49m\u001b[38;5;124;43m\"\u001b[39;49m\u001b[43m,\u001b[49m\u001b[43m \u001b[49m\u001b[38;5;28;43;01mNone\u001b[39;49;00m\u001b[43m)\u001b[49m\u001b[43m,\u001b[49m\n\u001b[0;32m   1226\u001b[0m \u001b[43m\u001b[49m\u001b[43m)\u001b[49m\n\u001b[0;32m   1227\u001b[0m \u001b[38;5;28;01massert\u001b[39;00m \u001b[38;5;28mself\u001b[39m\u001b[38;5;241m.\u001b[39mhandles \u001b[38;5;129;01mis\u001b[39;00m \u001b[38;5;129;01mnot\u001b[39;00m \u001b[38;5;28;01mNone\u001b[39;00m\n\u001b[0;32m   1228\u001b[0m f \u001b[38;5;241m=\u001b[39m \u001b[38;5;28mself\u001b[39m\u001b[38;5;241m.\u001b[39mhandles\u001b[38;5;241m.\u001b[39mhandle\n",
            "File \u001b[1;32m~\\anaconda3\\lib\\site-packages\\pandas\\io\\common.py:789\u001b[0m, in \u001b[0;36mget_handle\u001b[1;34m(path_or_buf, mode, encoding, compression, memory_map, is_text, errors, storage_options)\u001b[0m\n\u001b[0;32m    784\u001b[0m \u001b[38;5;28;01melif\u001b[39;00m \u001b[38;5;28misinstance\u001b[39m(handle, \u001b[38;5;28mstr\u001b[39m):\n\u001b[0;32m    785\u001b[0m     \u001b[38;5;66;03m# Check whether the filename is to be opened in binary mode.\u001b[39;00m\n\u001b[0;32m    786\u001b[0m     \u001b[38;5;66;03m# Binary mode does not support 'encoding' and 'newline'.\u001b[39;00m\n\u001b[0;32m    787\u001b[0m     \u001b[38;5;28;01mif\u001b[39;00m ioargs\u001b[38;5;241m.\u001b[39mencoding \u001b[38;5;129;01mand\u001b[39;00m \u001b[38;5;124m\"\u001b[39m\u001b[38;5;124mb\u001b[39m\u001b[38;5;124m\"\u001b[39m \u001b[38;5;129;01mnot\u001b[39;00m \u001b[38;5;129;01min\u001b[39;00m ioargs\u001b[38;5;241m.\u001b[39mmode:\n\u001b[0;32m    788\u001b[0m         \u001b[38;5;66;03m# Encoding\u001b[39;00m\n\u001b[1;32m--> 789\u001b[0m         handle \u001b[38;5;241m=\u001b[39m \u001b[38;5;28;43mopen\u001b[39;49m\u001b[43m(\u001b[49m\n\u001b[0;32m    790\u001b[0m \u001b[43m            \u001b[49m\u001b[43mhandle\u001b[49m\u001b[43m,\u001b[49m\n\u001b[0;32m    791\u001b[0m \u001b[43m            \u001b[49m\u001b[43mioargs\u001b[49m\u001b[38;5;241;43m.\u001b[39;49m\u001b[43mmode\u001b[49m\u001b[43m,\u001b[49m\n\u001b[0;32m    792\u001b[0m \u001b[43m            \u001b[49m\u001b[43mencoding\u001b[49m\u001b[38;5;241;43m=\u001b[39;49m\u001b[43mioargs\u001b[49m\u001b[38;5;241;43m.\u001b[39;49m\u001b[43mencoding\u001b[49m\u001b[43m,\u001b[49m\n\u001b[0;32m    793\u001b[0m \u001b[43m            \u001b[49m\u001b[43merrors\u001b[49m\u001b[38;5;241;43m=\u001b[39;49m\u001b[43merrors\u001b[49m\u001b[43m,\u001b[49m\n\u001b[0;32m    794\u001b[0m \u001b[43m            \u001b[49m\u001b[43mnewline\u001b[49m\u001b[38;5;241;43m=\u001b[39;49m\u001b[38;5;124;43m\"\u001b[39;49m\u001b[38;5;124;43m\"\u001b[39;49m\u001b[43m,\u001b[49m\n\u001b[0;32m    795\u001b[0m \u001b[43m        \u001b[49m\u001b[43m)\u001b[49m\n\u001b[0;32m    796\u001b[0m     \u001b[38;5;28;01melse\u001b[39;00m:\n\u001b[0;32m    797\u001b[0m         \u001b[38;5;66;03m# Binary mode\u001b[39;00m\n\u001b[0;32m    798\u001b[0m         handle \u001b[38;5;241m=\u001b[39m \u001b[38;5;28mopen\u001b[39m(handle, ioargs\u001b[38;5;241m.\u001b[39mmode)\n",
            "\u001b[1;31mFileNotFoundError\u001b[0m: [Errno 2] No such file or directory: 'cleaned_lyrics_gender.csv'"
          ]
        }
      ],
      "source": [
        "df = pd.read_csv('cleaned_lyrics_gender.csv')\n",
        "df.head()"
      ]
    },
    {
      "cell_type": "code",
      "execution_count": null,
      "id": "1e07b59a",
      "metadata": {
        "id": "1e07b59a",
        "outputId": "1196f816-0c95-4862-a705-fb2fe791320c"
      },
      "outputs": [
        {
          "name": "stdout",
          "output_type": "stream",
          "text": [
            "<class 'pandas.core.frame.DataFrame'>\n",
            "RangeIndex: 21057 entries, 0 to 21056\n",
            "Data columns (total 4 columns):\n",
            " #   Column   Non-Null Count  Dtype \n",
            "---  ------   --------------  ----- \n",
            " 0   artist   21057 non-null  object\n",
            " 1   seq      21057 non-null  object\n",
            " 2   GENDER   21057 non-null  object\n",
            " 3   IS_BAND  21054 non-null  object\n",
            "dtypes: object(4)\n",
            "memory usage: 658.2+ KB\n"
          ]
        }
      ],
      "source": [
        "df.info()"
      ]
    },
    {
      "cell_type": "code",
      "execution_count": null,
      "id": "a6607af6",
      "metadata": {
        "id": "a6607af6"
      },
      "outputs": [],
      "source": [
        "df = df[df['GENDER'].isin(['female', 'male'])]"
      ]
    },
    {
      "cell_type": "code",
      "execution_count": null,
      "id": "8e561c67",
      "metadata": {
        "id": "8e561c67",
        "outputId": "9aa6a3e1-a894-4b8a-bc1e-91e9f886215d"
      },
      "outputs": [
        {
          "data": {
            "text/plain": [
              "19721"
            ]
          },
          "execution_count": 7,
          "metadata": {},
          "output_type": "execute_result"
        }
      ],
      "source": [
        "len(df)"
      ]
    },
    {
      "cell_type": "code",
      "execution_count": null,
      "id": "0b825cd8",
      "metadata": {
        "id": "0b825cd8",
        "outputId": "e43bd66d-50f0-4dfd-bce3-ed7480a23dcd"
      },
      "outputs": [
        {
          "data": {
            "text/plain": [
              "male      0.777952\n",
              "female    0.222048\n",
              "Name: GENDER, dtype: float64"
            ]
          },
          "execution_count": 8,
          "metadata": {},
          "output_type": "execute_result"
        }
      ],
      "source": [
        "gender_proportions = df['GENDER'].value_counts(normalize=True)\n",
        "gender_proportions"
      ]
    },
    {
      "cell_type": "code",
      "execution_count": null,
      "id": "140ead5f",
      "metadata": {
        "id": "140ead5f",
        "outputId": "0a3d5c81-6720-4a2a-fb77-49f7291c619c"
      },
      "outputs": [
        {
          "data": {
            "text/plain": [
              "False    0.600771\n",
              "True     0.399229\n",
              "Name: IS_BAND, dtype: float64"
            ]
          },
          "execution_count": 9,
          "metadata": {},
          "output_type": "execute_result"
        }
      ],
      "source": [
        "band_proportions = df['IS_BAND'].value_counts(normalize=True)\n",
        "band_proportions"
      ]
    },
    {
      "cell_type": "markdown",
      "id": "40531f85",
      "metadata": {
        "id": "40531f85"
      },
      "source": [
        "Now look at lyrics"
      ]
    },
    {
      "cell_type": "code",
      "execution_count": null,
      "id": "f5a5ab5f",
      "metadata": {
        "id": "f5a5ab5f",
        "outputId": "77d18c03-6eb7-4f16-b95e-b4039613d346"
      },
      "outputs": [
        {
          "data": {
            "text/plain": [
              "\"Oh, Danny boy, the pipes, the pipes are calling\\r\\nFrom glen to glen, and down the mountain side.\\r\\nThe summer's gone, and all the roses falling,\\r\\nIt's you, it's you must go and I must bide.\\r\\n\\r\\nBut come ye back when summer's in the meadow,\\r\\nOr when the valley's hushed and white with snow,\\r\\nIt's I'll be here in sunshine or in shadow,\\r\\nOh, Danny boy, oh Danny boy, I love you so!\\r\\n\\r\\nBut when ye come, and all the flowers are dying,\\r\\nIf I am dead, as dead I well may be,\\r\\nYou'll come and find the place where I am lying,\\r\\nAnd kneel and say an Ave there for me.\\r\\nAnd I shall hear, though soft you tread above me,\\r\\nAnd all my grave will warmer, sweeter be,\\r\\nFor you will bend and tell me that you love me,\\r\\nAnd I shall sleep in peace until you come to me!\""
            ]
          },
          "execution_count": 10,
          "metadata": {},
          "output_type": "execute_result"
        }
      ],
      "source": [
        "df['seq'].iloc[0]"
      ]
    },
    {
      "cell_type": "markdown",
      "id": "14c1b2b7",
      "metadata": {
        "id": "14c1b2b7"
      },
      "source": [
        "## Data Pre-Procesing"
      ]
    },
    {
      "cell_type": "markdown",
      "id": "945b4a2a",
      "metadata": {
        "id": "945b4a2a"
      },
      "source": [
        "### Loading Libraries"
      ]
    },
    {
      "cell_type": "code",
      "execution_count": null,
      "id": "43d4f0ea",
      "metadata": {
        "id": "43d4f0ea"
      },
      "outputs": [],
      "source": [
        "import re\n",
        "\n",
        "import nltk\n",
        "from nltk.corpus import stopwords\n",
        "from nltk.tokenize import word_tokenize\n",
        "from nltk.stem import WordNetLemmatizer"
      ]
    },
    {
      "cell_type": "code",
      "execution_count": null,
      "id": "c3525cde",
      "metadata": {
        "id": "c3525cde",
        "outputId": "615efe6e-9137-430a-8549-9458923e8676"
      },
      "outputs": [
        {
          "name": "stderr",
          "output_type": "stream",
          "text": [
            "[nltk_data] Downloading package stopwords to\n",
            "[nltk_data]     C:\\Users\\asus\\AppData\\Roaming\\nltk_data...\n",
            "[nltk_data]   Unzipping corpora\\stopwords.zip.\n",
            "[nltk_data] Downloading package punkt to\n",
            "[nltk_data]     C:\\Users\\asus\\AppData\\Roaming\\nltk_data...\n",
            "[nltk_data]   Package punkt is already up-to-date!\n",
            "[nltk_data] Downloading package wordnet to\n",
            "[nltk_data]     C:\\Users\\asus\\AppData\\Roaming\\nltk_data...\n",
            "[nltk_data]   Package wordnet is already up-to-date!\n"
          ]
        },
        {
          "data": {
            "text/plain": [
              "True"
            ]
          },
          "execution_count": 12,
          "metadata": {},
          "output_type": "execute_result"
        }
      ],
      "source": [
        "nltk.download('stopwords')\n",
        "nltk.download('punkt')\n",
        "nltk.download('wordnet')"
      ]
    },
    {
      "cell_type": "code",
      "execution_count": null,
      "id": "70df6ab8",
      "metadata": {
        "id": "70df6ab8",
        "outputId": "79370aef-6ab6-4238-d12a-14fe6b54b0ed"
      },
      "outputs": [
        {
          "name": "stderr",
          "output_type": "stream",
          "text": [
            "[nltk_data] Downloading package omw-1.4 to\n",
            "[nltk_data]     C:\\Users\\asus\\AppData\\Roaming\\nltk_data...\n",
            "[nltk_data]   Package omw-1.4 is already up-to-date!\n"
          ]
        },
        {
          "data": {
            "text/plain": [
              "True"
            ]
          },
          "execution_count": 13,
          "metadata": {},
          "output_type": "execute_result"
        }
      ],
      "source": [
        "nltk.download('omw-1.4')"
      ]
    },
    {
      "cell_type": "markdown",
      "id": "92fc6709",
      "metadata": {
        "id": "92fc6709"
      },
      "source": [
        "### Cleaning Lyrics"
      ]
    },
    {
      "cell_type": "markdown",
      "id": "84ce02cc",
      "metadata": {
        "id": "84ce02cc"
      },
      "source": [
        "Here, we use the `re` library to clean the lyrics by keeping only desired charachters, turnig to lowercase and removing spaces."
      ]
    },
    {
      "cell_type": "code",
      "execution_count": null,
      "id": "026d343b",
      "metadata": {
        "id": "026d343b"
      },
      "outputs": [],
      "source": [
        "def clean_lyrics(text):\n",
        "    text = re.sub(r'[^a-zA-Z0-9\\s!?]', '', text)\n",
        "    text = text.lower()\n",
        "    text = re.sub(r'\\s+', ' ', text).strip()\n",
        "    return text"
      ]
    },
    {
      "cell_type": "code",
      "execution_count": null,
      "id": "53097978",
      "metadata": {
        "id": "53097978"
      },
      "outputs": [],
      "source": [
        "df['clean_lyrics'] = df['seq'].apply(clean_lyrics)"
      ]
    },
    {
      "cell_type": "code",
      "execution_count": null,
      "id": "48e588c4",
      "metadata": {
        "id": "48e588c4",
        "outputId": "d1ac029a-8f02-4cbb-c30d-44670d71aee3"
      },
      "outputs": [
        {
          "data": {
            "text/html": [
              "<div>\n",
              "<style scoped>\n",
              "    .dataframe tbody tr th:only-of-type {\n",
              "        vertical-align: middle;\n",
              "    }\n",
              "\n",
              "    .dataframe tbody tr th {\n",
              "        vertical-align: top;\n",
              "    }\n",
              "\n",
              "    .dataframe thead th {\n",
              "        text-align: right;\n",
              "    }\n",
              "</style>\n",
              "<table border=\"1\" class=\"dataframe\">\n",
              "  <thead>\n",
              "    <tr style=\"text-align: right;\">\n",
              "      <th></th>\n",
              "      <th>artist</th>\n",
              "      <th>seq</th>\n",
              "      <th>GENDER</th>\n",
              "      <th>IS_BAND</th>\n",
              "      <th>clean_lyrics</th>\n",
              "    </tr>\n",
              "  </thead>\n",
              "  <tbody>\n",
              "    <tr>\n",
              "      <th>0</th>\n",
              "      <td>Elizabeth Naccarato</td>\n",
              "      <td>Oh, Danny boy, the pipes, the pipes are callin...</td>\n",
              "      <td>female</td>\n",
              "      <td>False</td>\n",
              "      <td>oh danny boy the pipes the pipes are calling f...</td>\n",
              "    </tr>\n",
              "    <tr>\n",
              "      <th>1</th>\n",
              "      <td>Ella Fitzgerald</td>\n",
              "      <td>I never feel a thing is real\\r\\nWhen I'm away ...</td>\n",
              "      <td>female</td>\n",
              "      <td>False</td>\n",
              "      <td>i never feel a thing is real when im away from...</td>\n",
              "    </tr>\n",
              "    <tr>\n",
              "      <th>2</th>\n",
              "      <td>Ella Fitzgerald</td>\n",
              "      <td>I really can't stay\\r\\nBut, baby, it's cold ou...</td>\n",
              "      <td>female</td>\n",
              "      <td>False</td>\n",
              "      <td>i really cant stay but baby its cold outside i...</td>\n",
              "    </tr>\n",
              "    <tr>\n",
              "      <th>3</th>\n",
              "      <td>Ella Fitzgerald</td>\n",
              "      <td>All my life\\r\\nI've been waiting for you\\r\\nMy...</td>\n",
              "      <td>female</td>\n",
              "      <td>False</td>\n",
              "      <td>all my life ive been waiting for you my wonder...</td>\n",
              "    </tr>\n",
              "    <tr>\n",
              "      <th>4</th>\n",
              "      <td>Ella Fitzgerald</td>\n",
              "      <td>I'll be down to get you in a taxi honey\\r\\nBet...</td>\n",
              "      <td>female</td>\n",
              "      <td>False</td>\n",
              "      <td>ill be down to get you in a taxi honey better ...</td>\n",
              "    </tr>\n",
              "  </tbody>\n",
              "</table>\n",
              "</div>"
            ],
            "text/plain": [
              "                artist                                                seq  \\\n",
              "0  Elizabeth Naccarato  Oh, Danny boy, the pipes, the pipes are callin...   \n",
              "1      Ella Fitzgerald  I never feel a thing is real\\r\\nWhen I'm away ...   \n",
              "2      Ella Fitzgerald  I really can't stay\\r\\nBut, baby, it's cold ou...   \n",
              "3      Ella Fitzgerald  All my life\\r\\nI've been waiting for you\\r\\nMy...   \n",
              "4      Ella Fitzgerald  I'll be down to get you in a taxi honey\\r\\nBet...   \n",
              "\n",
              "   GENDER IS_BAND                                       clean_lyrics  \n",
              "0  female   False  oh danny boy the pipes the pipes are calling f...  \n",
              "1  female   False  i never feel a thing is real when im away from...  \n",
              "2  female   False  i really cant stay but baby its cold outside i...  \n",
              "3  female   False  all my life ive been waiting for you my wonder...  \n",
              "4  female   False  ill be down to get you in a taxi honey better ...  "
            ]
          },
          "execution_count": 16,
          "metadata": {},
          "output_type": "execute_result"
        }
      ],
      "source": [
        "df.head()"
      ]
    },
    {
      "cell_type": "markdown",
      "id": "3643e95f",
      "metadata": {
        "id": "3643e95f"
      },
      "source": [
        "### Tokenize Lyrics"
      ]
    },
    {
      "cell_type": "markdown",
      "id": "ff697f70",
      "metadata": {
        "id": "ff697f70"
      },
      "source": [
        "Tokenize from `NLTK` will be used to tokenoze the lyrics.\n",
        "For reference if needed: https://www.nltk.org/api/nltk.tokenize.word_tokenize.html#nltk-tokenize-word-tokenize"
      ]
    },
    {
      "cell_type": "code",
      "execution_count": null,
      "id": "79111819",
      "metadata": {
        "id": "79111819"
      },
      "outputs": [],
      "source": [
        "def tokenize_lyrics(text):\n",
        "    return word_tokenize(text)\n",
        "\n",
        "df['tokenized_lyrics'] = df['clean_lyrics'].apply(tokenize_lyrics)"
      ]
    },
    {
      "cell_type": "code",
      "execution_count": null,
      "id": "fb0b2a9b",
      "metadata": {
        "id": "fb0b2a9b",
        "outputId": "8523d2e1-9529-403f-b586-4f3e97e3e335"
      },
      "outputs": [
        {
          "data": {
            "text/html": [
              "<div>\n",
              "<style scoped>\n",
              "    .dataframe tbody tr th:only-of-type {\n",
              "        vertical-align: middle;\n",
              "    }\n",
              "\n",
              "    .dataframe tbody tr th {\n",
              "        vertical-align: top;\n",
              "    }\n",
              "\n",
              "    .dataframe thead th {\n",
              "        text-align: right;\n",
              "    }\n",
              "</style>\n",
              "<table border=\"1\" class=\"dataframe\">\n",
              "  <thead>\n",
              "    <tr style=\"text-align: right;\">\n",
              "      <th></th>\n",
              "      <th>artist</th>\n",
              "      <th>seq</th>\n",
              "      <th>GENDER</th>\n",
              "      <th>IS_BAND</th>\n",
              "      <th>clean_lyrics</th>\n",
              "      <th>tokenized_lyrics</th>\n",
              "    </tr>\n",
              "  </thead>\n",
              "  <tbody>\n",
              "    <tr>\n",
              "      <th>0</th>\n",
              "      <td>Elizabeth Naccarato</td>\n",
              "      <td>Oh, Danny boy, the pipes, the pipes are callin...</td>\n",
              "      <td>female</td>\n",
              "      <td>False</td>\n",
              "      <td>oh danny boy the pipes the pipes are calling f...</td>\n",
              "      <td>[oh, danny, boy, the, pipes, the, pipes, are, ...</td>\n",
              "    </tr>\n",
              "    <tr>\n",
              "      <th>1</th>\n",
              "      <td>Ella Fitzgerald</td>\n",
              "      <td>I never feel a thing is real\\r\\nWhen I'm away ...</td>\n",
              "      <td>female</td>\n",
              "      <td>False</td>\n",
              "      <td>i never feel a thing is real when im away from...</td>\n",
              "      <td>[i, never, feel, a, thing, is, real, when, im,...</td>\n",
              "    </tr>\n",
              "    <tr>\n",
              "      <th>2</th>\n",
              "      <td>Ella Fitzgerald</td>\n",
              "      <td>I really can't stay\\r\\nBut, baby, it's cold ou...</td>\n",
              "      <td>female</td>\n",
              "      <td>False</td>\n",
              "      <td>i really cant stay but baby its cold outside i...</td>\n",
              "      <td>[i, really, cant, stay, but, baby, its, cold, ...</td>\n",
              "    </tr>\n",
              "    <tr>\n",
              "      <th>3</th>\n",
              "      <td>Ella Fitzgerald</td>\n",
              "      <td>All my life\\r\\nI've been waiting for you\\r\\nMy...</td>\n",
              "      <td>female</td>\n",
              "      <td>False</td>\n",
              "      <td>all my life ive been waiting for you my wonder...</td>\n",
              "      <td>[all, my, life, ive, been, waiting, for, you, ...</td>\n",
              "    </tr>\n",
              "    <tr>\n",
              "      <th>4</th>\n",
              "      <td>Ella Fitzgerald</td>\n",
              "      <td>I'll be down to get you in a taxi honey\\r\\nBet...</td>\n",
              "      <td>female</td>\n",
              "      <td>False</td>\n",
              "      <td>ill be down to get you in a taxi honey better ...</td>\n",
              "      <td>[ill, be, down, to, get, you, in, a, taxi, hon...</td>\n",
              "    </tr>\n",
              "  </tbody>\n",
              "</table>\n",
              "</div>"
            ],
            "text/plain": [
              "                artist                                                seq  \\\n",
              "0  Elizabeth Naccarato  Oh, Danny boy, the pipes, the pipes are callin...   \n",
              "1      Ella Fitzgerald  I never feel a thing is real\\r\\nWhen I'm away ...   \n",
              "2      Ella Fitzgerald  I really can't stay\\r\\nBut, baby, it's cold ou...   \n",
              "3      Ella Fitzgerald  All my life\\r\\nI've been waiting for you\\r\\nMy...   \n",
              "4      Ella Fitzgerald  I'll be down to get you in a taxi honey\\r\\nBet...   \n",
              "\n",
              "   GENDER IS_BAND                                       clean_lyrics  \\\n",
              "0  female   False  oh danny boy the pipes the pipes are calling f...   \n",
              "1  female   False  i never feel a thing is real when im away from...   \n",
              "2  female   False  i really cant stay but baby its cold outside i...   \n",
              "3  female   False  all my life ive been waiting for you my wonder...   \n",
              "4  female   False  ill be down to get you in a taxi honey better ...   \n",
              "\n",
              "                                    tokenized_lyrics  \n",
              "0  [oh, danny, boy, the, pipes, the, pipes, are, ...  \n",
              "1  [i, never, feel, a, thing, is, real, when, im,...  \n",
              "2  [i, really, cant, stay, but, baby, its, cold, ...  \n",
              "3  [all, my, life, ive, been, waiting, for, you, ...  \n",
              "4  [ill, be, down, to, get, you, in, a, taxi, hon...  "
            ]
          },
          "execution_count": 18,
          "metadata": {},
          "output_type": "execute_result"
        }
      ],
      "source": [
        "df.head()"
      ]
    },
    {
      "cell_type": "markdown",
      "id": "c1294605",
      "metadata": {
        "id": "c1294605"
      },
      "source": [
        "### Stopword Removal"
      ]
    },
    {
      "cell_type": "markdown",
      "id": "61fcd835",
      "metadata": {
        "id": "61fcd835"
      },
      "source": [
        "We loop through every token to see if it present in the stopwords, and remove it if it is."
      ]
    },
    {
      "cell_type": "code",
      "execution_count": null,
      "id": "69b62310",
      "metadata": {
        "id": "69b62310"
      },
      "outputs": [],
      "source": [
        "stop_words = set(stopwords.words('english'))"
      ]
    },
    {
      "cell_type": "code",
      "execution_count": null,
      "id": "edaa951e",
      "metadata": {
        "id": "edaa951e"
      },
      "outputs": [],
      "source": [
        "def remove_stopwords(tokens):\n",
        "    return [word for word in tokens if word not in stop_words]\n",
        "\n",
        "df['filtered_lyrics'] = df['tokenized_lyrics'].apply(remove_stopwords)"
      ]
    },
    {
      "cell_type": "code",
      "execution_count": null,
      "id": "685876d0",
      "metadata": {
        "id": "685876d0",
        "outputId": "12ce1dd1-3e51-4caf-fe96-bc485fe8f528"
      },
      "outputs": [
        {
          "data": {
            "text/html": [
              "<div>\n",
              "<style scoped>\n",
              "    .dataframe tbody tr th:only-of-type {\n",
              "        vertical-align: middle;\n",
              "    }\n",
              "\n",
              "    .dataframe tbody tr th {\n",
              "        vertical-align: top;\n",
              "    }\n",
              "\n",
              "    .dataframe thead th {\n",
              "        text-align: right;\n",
              "    }\n",
              "</style>\n",
              "<table border=\"1\" class=\"dataframe\">\n",
              "  <thead>\n",
              "    <tr style=\"text-align: right;\">\n",
              "      <th></th>\n",
              "      <th>artist</th>\n",
              "      <th>seq</th>\n",
              "      <th>GENDER</th>\n",
              "      <th>IS_BAND</th>\n",
              "      <th>clean_lyrics</th>\n",
              "      <th>tokenized_lyrics</th>\n",
              "      <th>filtered_lyrics</th>\n",
              "    </tr>\n",
              "  </thead>\n",
              "  <tbody>\n",
              "    <tr>\n",
              "      <th>0</th>\n",
              "      <td>Elizabeth Naccarato</td>\n",
              "      <td>Oh, Danny boy, the pipes, the pipes are callin...</td>\n",
              "      <td>female</td>\n",
              "      <td>False</td>\n",
              "      <td>oh danny boy the pipes the pipes are calling f...</td>\n",
              "      <td>[oh, danny, boy, the, pipes, the, pipes, are, ...</td>\n",
              "      <td>[oh, danny, boy, pipes, pipes, calling, glen, ...</td>\n",
              "    </tr>\n",
              "    <tr>\n",
              "      <th>1</th>\n",
              "      <td>Ella Fitzgerald</td>\n",
              "      <td>I never feel a thing is real\\r\\nWhen I'm away ...</td>\n",
              "      <td>female</td>\n",
              "      <td>False</td>\n",
              "      <td>i never feel a thing is real when im away from...</td>\n",
              "      <td>[i, never, feel, a, thing, is, real, when, im,...</td>\n",
              "      <td>[never, feel, thing, real, im, away, embrace, ...</td>\n",
              "    </tr>\n",
              "    <tr>\n",
              "      <th>2</th>\n",
              "      <td>Ella Fitzgerald</td>\n",
              "      <td>I really can't stay\\r\\nBut, baby, it's cold ou...</td>\n",
              "      <td>female</td>\n",
              "      <td>False</td>\n",
              "      <td>i really cant stay but baby its cold outside i...</td>\n",
              "      <td>[i, really, cant, stay, but, baby, its, cold, ...</td>\n",
              "      <td>[really, cant, stay, baby, cold, outside, got,...</td>\n",
              "    </tr>\n",
              "    <tr>\n",
              "      <th>3</th>\n",
              "      <td>Ella Fitzgerald</td>\n",
              "      <td>All my life\\r\\nI've been waiting for you\\r\\nMy...</td>\n",
              "      <td>female</td>\n",
              "      <td>False</td>\n",
              "      <td>all my life ive been waiting for you my wonder...</td>\n",
              "      <td>[all, my, life, ive, been, waiting, for, you, ...</td>\n",
              "      <td>[life, ive, waiting, wonderful, one, ive, begu...</td>\n",
              "    </tr>\n",
              "    <tr>\n",
              "      <th>4</th>\n",
              "      <td>Ella Fitzgerald</td>\n",
              "      <td>I'll be down to get you in a taxi honey\\r\\nBet...</td>\n",
              "      <td>female</td>\n",
              "      <td>False</td>\n",
              "      <td>ill be down to get you in a taxi honey better ...</td>\n",
              "      <td>[ill, be, down, to, get, you, in, a, taxi, hon...</td>\n",
              "      <td>[ill, get, taxi, honey, better, ready, bout, h...</td>\n",
              "    </tr>\n",
              "  </tbody>\n",
              "</table>\n",
              "</div>"
            ],
            "text/plain": [
              "                artist                                                seq  \\\n",
              "0  Elizabeth Naccarato  Oh, Danny boy, the pipes, the pipes are callin...   \n",
              "1      Ella Fitzgerald  I never feel a thing is real\\r\\nWhen I'm away ...   \n",
              "2      Ella Fitzgerald  I really can't stay\\r\\nBut, baby, it's cold ou...   \n",
              "3      Ella Fitzgerald  All my life\\r\\nI've been waiting for you\\r\\nMy...   \n",
              "4      Ella Fitzgerald  I'll be down to get you in a taxi honey\\r\\nBet...   \n",
              "\n",
              "   GENDER IS_BAND                                       clean_lyrics  \\\n",
              "0  female   False  oh danny boy the pipes the pipes are calling f...   \n",
              "1  female   False  i never feel a thing is real when im away from...   \n",
              "2  female   False  i really cant stay but baby its cold outside i...   \n",
              "3  female   False  all my life ive been waiting for you my wonder...   \n",
              "4  female   False  ill be down to get you in a taxi honey better ...   \n",
              "\n",
              "                                    tokenized_lyrics  \\\n",
              "0  [oh, danny, boy, the, pipes, the, pipes, are, ...   \n",
              "1  [i, never, feel, a, thing, is, real, when, im,...   \n",
              "2  [i, really, cant, stay, but, baby, its, cold, ...   \n",
              "3  [all, my, life, ive, been, waiting, for, you, ...   \n",
              "4  [ill, be, down, to, get, you, in, a, taxi, hon...   \n",
              "\n",
              "                                     filtered_lyrics  \n",
              "0  [oh, danny, boy, pipes, pipes, calling, glen, ...  \n",
              "1  [never, feel, thing, real, im, away, embrace, ...  \n",
              "2  [really, cant, stay, baby, cold, outside, got,...  \n",
              "3  [life, ive, waiting, wonderful, one, ive, begu...  \n",
              "4  [ill, get, taxi, honey, better, ready, bout, h...  "
            ]
          },
          "execution_count": 21,
          "metadata": {},
          "output_type": "execute_result"
        }
      ],
      "source": [
        "df.head()"
      ]
    },
    {
      "cell_type": "markdown",
      "id": "d073f93e",
      "metadata": {
        "id": "d073f93e"
      },
      "source": [
        "### Lemmatization"
      ]
    },
    {
      "cell_type": "markdown",
      "id": "8dd2ca67",
      "metadata": {
        "id": "8dd2ca67"
      },
      "source": [
        "Now we lemmatize the words\n",
        "Source: https://www.nltk.org/api/nltk.stem.WordNetLemmatizer.html?highlight=wordnet"
      ]
    },
    {
      "cell_type": "code",
      "execution_count": null,
      "id": "daf28177",
      "metadata": {
        "id": "daf28177"
      },
      "outputs": [],
      "source": [
        "wnl = WordNetLemmatizer()"
      ]
    },
    {
      "cell_type": "code",
      "execution_count": null,
      "id": "c919b5ce",
      "metadata": {
        "id": "c919b5ce"
      },
      "outputs": [],
      "source": [
        "def lemmatize_lyrics(tokens):\n",
        "    return [wnl.lemmatize(word) for word in tokens]\n",
        "\n",
        "df['lemmatized_lyrics'] = df['filtered_lyrics'].apply(lemmatize_lyrics)"
      ]
    },
    {
      "cell_type": "code",
      "execution_count": null,
      "id": "a2895f3e",
      "metadata": {
        "id": "a2895f3e",
        "outputId": "6f52bb51-1e32-4444-b584-379c748e987e"
      },
      "outputs": [
        {
          "data": {
            "text/html": [
              "<div>\n",
              "<style scoped>\n",
              "    .dataframe tbody tr th:only-of-type {\n",
              "        vertical-align: middle;\n",
              "    }\n",
              "\n",
              "    .dataframe tbody tr th {\n",
              "        vertical-align: top;\n",
              "    }\n",
              "\n",
              "    .dataframe thead th {\n",
              "        text-align: right;\n",
              "    }\n",
              "</style>\n",
              "<table border=\"1\" class=\"dataframe\">\n",
              "  <thead>\n",
              "    <tr style=\"text-align: right;\">\n",
              "      <th></th>\n",
              "      <th>artist</th>\n",
              "      <th>seq</th>\n",
              "      <th>GENDER</th>\n",
              "      <th>IS_BAND</th>\n",
              "      <th>clean_lyrics</th>\n",
              "      <th>tokenized_lyrics</th>\n",
              "      <th>filtered_lyrics</th>\n",
              "      <th>lemmatized_lyrics</th>\n",
              "    </tr>\n",
              "  </thead>\n",
              "  <tbody>\n",
              "    <tr>\n",
              "      <th>0</th>\n",
              "      <td>Elizabeth Naccarato</td>\n",
              "      <td>Oh, Danny boy, the pipes, the pipes are callin...</td>\n",
              "      <td>female</td>\n",
              "      <td>False</td>\n",
              "      <td>oh danny boy the pipes the pipes are calling f...</td>\n",
              "      <td>[oh, danny, boy, the, pipes, the, pipes, are, ...</td>\n",
              "      <td>[oh, danny, boy, pipes, pipes, calling, glen, ...</td>\n",
              "      <td>[oh, danny, boy, pipe, pipe, calling, glen, gl...</td>\n",
              "    </tr>\n",
              "    <tr>\n",
              "      <th>1</th>\n",
              "      <td>Ella Fitzgerald</td>\n",
              "      <td>I never feel a thing is real\\r\\nWhen I'm away ...</td>\n",
              "      <td>female</td>\n",
              "      <td>False</td>\n",
              "      <td>i never feel a thing is real when im away from...</td>\n",
              "      <td>[i, never, feel, a, thing, is, real, when, im,...</td>\n",
              "      <td>[never, feel, thing, real, im, away, embrace, ...</td>\n",
              "      <td>[never, feel, thing, real, im, away, embrace, ...</td>\n",
              "    </tr>\n",
              "    <tr>\n",
              "      <th>2</th>\n",
              "      <td>Ella Fitzgerald</td>\n",
              "      <td>I really can't stay\\r\\nBut, baby, it's cold ou...</td>\n",
              "      <td>female</td>\n",
              "      <td>False</td>\n",
              "      <td>i really cant stay but baby its cold outside i...</td>\n",
              "      <td>[i, really, cant, stay, but, baby, its, cold, ...</td>\n",
              "      <td>[really, cant, stay, baby, cold, outside, got,...</td>\n",
              "      <td>[really, cant, stay, baby, cold, outside, got,...</td>\n",
              "    </tr>\n",
              "    <tr>\n",
              "      <th>3</th>\n",
              "      <td>Ella Fitzgerald</td>\n",
              "      <td>All my life\\r\\nI've been waiting for you\\r\\nMy...</td>\n",
              "      <td>female</td>\n",
              "      <td>False</td>\n",
              "      <td>all my life ive been waiting for you my wonder...</td>\n",
              "      <td>[all, my, life, ive, been, waiting, for, you, ...</td>\n",
              "      <td>[life, ive, waiting, wonderful, one, ive, begu...</td>\n",
              "      <td>[life, ive, waiting, wonderful, one, ive, begu...</td>\n",
              "    </tr>\n",
              "    <tr>\n",
              "      <th>4</th>\n",
              "      <td>Ella Fitzgerald</td>\n",
              "      <td>I'll be down to get you in a taxi honey\\r\\nBet...</td>\n",
              "      <td>female</td>\n",
              "      <td>False</td>\n",
              "      <td>ill be down to get you in a taxi honey better ...</td>\n",
              "      <td>[ill, be, down, to, get, you, in, a, taxi, hon...</td>\n",
              "      <td>[ill, get, taxi, honey, better, ready, bout, h...</td>\n",
              "      <td>[ill, get, taxi, honey, better, ready, bout, h...</td>\n",
              "    </tr>\n",
              "  </tbody>\n",
              "</table>\n",
              "</div>"
            ],
            "text/plain": [
              "                artist                                                seq  \\\n",
              "0  Elizabeth Naccarato  Oh, Danny boy, the pipes, the pipes are callin...   \n",
              "1      Ella Fitzgerald  I never feel a thing is real\\r\\nWhen I'm away ...   \n",
              "2      Ella Fitzgerald  I really can't stay\\r\\nBut, baby, it's cold ou...   \n",
              "3      Ella Fitzgerald  All my life\\r\\nI've been waiting for you\\r\\nMy...   \n",
              "4      Ella Fitzgerald  I'll be down to get you in a taxi honey\\r\\nBet...   \n",
              "\n",
              "   GENDER IS_BAND                                       clean_lyrics  \\\n",
              "0  female   False  oh danny boy the pipes the pipes are calling f...   \n",
              "1  female   False  i never feel a thing is real when im away from...   \n",
              "2  female   False  i really cant stay but baby its cold outside i...   \n",
              "3  female   False  all my life ive been waiting for you my wonder...   \n",
              "4  female   False  ill be down to get you in a taxi honey better ...   \n",
              "\n",
              "                                    tokenized_lyrics  \\\n",
              "0  [oh, danny, boy, the, pipes, the, pipes, are, ...   \n",
              "1  [i, never, feel, a, thing, is, real, when, im,...   \n",
              "2  [i, really, cant, stay, but, baby, its, cold, ...   \n",
              "3  [all, my, life, ive, been, waiting, for, you, ...   \n",
              "4  [ill, be, down, to, get, you, in, a, taxi, hon...   \n",
              "\n",
              "                                     filtered_lyrics  \\\n",
              "0  [oh, danny, boy, pipes, pipes, calling, glen, ...   \n",
              "1  [never, feel, thing, real, im, away, embrace, ...   \n",
              "2  [really, cant, stay, baby, cold, outside, got,...   \n",
              "3  [life, ive, waiting, wonderful, one, ive, begu...   \n",
              "4  [ill, get, taxi, honey, better, ready, bout, h...   \n",
              "\n",
              "                                   lemmatized_lyrics  \n",
              "0  [oh, danny, boy, pipe, pipe, calling, glen, gl...  \n",
              "1  [never, feel, thing, real, im, away, embrace, ...  \n",
              "2  [really, cant, stay, baby, cold, outside, got,...  \n",
              "3  [life, ive, waiting, wonderful, one, ive, begu...  \n",
              "4  [ill, get, taxi, honey, better, ready, bout, h...  "
            ]
          },
          "execution_count": 24,
          "metadata": {},
          "output_type": "execute_result"
        }
      ],
      "source": [
        "df.head()"
      ]
    },
    {
      "cell_type": "markdown",
      "id": "8d8dfbce",
      "metadata": {
        "id": "8d8dfbce"
      },
      "source": [
        "### Updated Data Frame"
      ]
    },
    {
      "cell_type": "code",
      "execution_count": null,
      "id": "948184e2",
      "metadata": {
        "id": "948184e2",
        "outputId": "d262529d-bb0a-40a4-8c38-6ba1439ee826"
      },
      "outputs": [
        {
          "data": {
            "text/html": [
              "<div>\n",
              "<style scoped>\n",
              "    .dataframe tbody tr th:only-of-type {\n",
              "        vertical-align: middle;\n",
              "    }\n",
              "\n",
              "    .dataframe tbody tr th {\n",
              "        vertical-align: top;\n",
              "    }\n",
              "\n",
              "    .dataframe thead th {\n",
              "        text-align: right;\n",
              "    }\n",
              "</style>\n",
              "<table border=\"1\" class=\"dataframe\">\n",
              "  <thead>\n",
              "    <tr style=\"text-align: right;\">\n",
              "      <th></th>\n",
              "      <th>lemmatized_lyrics</th>\n",
              "      <th>GENDER</th>\n",
              "    </tr>\n",
              "  </thead>\n",
              "  <tbody>\n",
              "    <tr>\n",
              "      <th>0</th>\n",
              "      <td>[oh, danny, boy, pipe, pipe, calling, glen, gl...</td>\n",
              "      <td>female</td>\n",
              "    </tr>\n",
              "    <tr>\n",
              "      <th>1</th>\n",
              "      <td>[never, feel, thing, real, im, away, embrace, ...</td>\n",
              "      <td>female</td>\n",
              "    </tr>\n",
              "    <tr>\n",
              "      <th>2</th>\n",
              "      <td>[really, cant, stay, baby, cold, outside, got,...</td>\n",
              "      <td>female</td>\n",
              "    </tr>\n",
              "    <tr>\n",
              "      <th>3</th>\n",
              "      <td>[life, ive, waiting, wonderful, one, ive, begu...</td>\n",
              "      <td>female</td>\n",
              "    </tr>\n",
              "    <tr>\n",
              "      <th>4</th>\n",
              "      <td>[ill, get, taxi, honey, better, ready, bout, h...</td>\n",
              "      <td>female</td>\n",
              "    </tr>\n",
              "  </tbody>\n",
              "</table>\n",
              "</div>"
            ],
            "text/plain": [
              "                                   lemmatized_lyrics  GENDER\n",
              "0  [oh, danny, boy, pipe, pipe, calling, glen, gl...  female\n",
              "1  [never, feel, thing, real, im, away, embrace, ...  female\n",
              "2  [really, cant, stay, baby, cold, outside, got,...  female\n",
              "3  [life, ive, waiting, wonderful, one, ive, begu...  female\n",
              "4  [ill, get, taxi, honey, better, ready, bout, h...  female"
            ]
          },
          "execution_count": 25,
          "metadata": {},
          "output_type": "execute_result"
        }
      ],
      "source": [
        "df2 = df[[\"lemmatized_lyrics\", \"GENDER\"]]\n",
        "df2.head()"
      ]
    },
    {
      "cell_type": "code",
      "execution_count": null,
      "id": "a175573d",
      "metadata": {
        "id": "a175573d",
        "outputId": "b126b270-f88f-442d-b0fd-1a3a2e0345eb"
      },
      "outputs": [
        {
          "data": {
            "text/plain": [
              "['oh',\n",
              " 'danny',\n",
              " 'boy',\n",
              " 'pipe',\n",
              " 'pipe',\n",
              " 'calling',\n",
              " 'glen',\n",
              " 'glen',\n",
              " 'mountain',\n",
              " 'side',\n",
              " 'summer',\n",
              " 'gone',\n",
              " 'rose',\n",
              " 'falling',\n",
              " 'must',\n",
              " 'go',\n",
              " 'must',\n",
              " 'bide',\n",
              " 'come',\n",
              " 'ye',\n",
              " 'back',\n",
              " 'summer',\n",
              " 'meadow',\n",
              " 'valley',\n",
              " 'hushed',\n",
              " 'white',\n",
              " 'snow',\n",
              " 'ill',\n",
              " 'sunshine',\n",
              " 'shadow',\n",
              " 'oh',\n",
              " 'danny',\n",
              " 'boy',\n",
              " 'oh',\n",
              " 'danny',\n",
              " 'boy',\n",
              " 'love',\n",
              " '!',\n",
              " 'ye',\n",
              " 'come',\n",
              " 'flower',\n",
              " 'dying',\n",
              " 'dead',\n",
              " 'dead',\n",
              " 'well',\n",
              " 'may',\n",
              " 'youll',\n",
              " 'come',\n",
              " 'find',\n",
              " 'place',\n",
              " 'lying',\n",
              " 'kneel',\n",
              " 'say',\n",
              " 'ave',\n",
              " 'shall',\n",
              " 'hear',\n",
              " 'though',\n",
              " 'soft',\n",
              " 'tread',\n",
              " 'grave',\n",
              " 'warmer',\n",
              " 'sweeter',\n",
              " 'bend',\n",
              " 'tell',\n",
              " 'love',\n",
              " 'shall',\n",
              " 'sleep',\n",
              " 'peace',\n",
              " 'come',\n",
              " '!']"
            ]
          },
          "execution_count": 26,
          "metadata": {},
          "output_type": "execute_result"
        }
      ],
      "source": [
        "df2['lemmatized_lyrics'].iloc[0]"
      ]
    },
    {
      "cell_type": "markdown",
      "id": "19e922cb",
      "metadata": {
        "id": "19e922cb"
      },
      "source": [
        "### Set Threshold for Minimum Token Count"
      ]
    },
    {
      "cell_type": "markdown",
      "id": "6863e78e",
      "metadata": {
        "id": "6863e78e"
      },
      "source": [
        "There may be songs that have very few lyrics, so we can't extract as much information. For now, an arbitrary minimum threshold of `25` tokens is set."
      ]
    },
    {
      "cell_type": "code",
      "execution_count": null,
      "id": "5d6d75d6",
      "metadata": {
        "id": "5d6d75d6",
        "outputId": "d59bf947-c6ad-43d2-cc10-1e0ee146d27d"
      },
      "outputs": [
        {
          "name": "stderr",
          "output_type": "stream",
          "text": [
            "C:\\Users\\asus\\AppData\\Local\\Temp\\ipykernel_12636\\3386239075.py:1: SettingWithCopyWarning: \n",
            "A value is trying to be set on a copy of a slice from a DataFrame.\n",
            "Try using .loc[row_indexer,col_indexer] = value instead\n",
            "\n",
            "See the caveats in the documentation: https://pandas.pydata.org/pandas-docs/stable/user_guide/indexing.html#returning-a-view-versus-a-copy\n",
            "  df2['lemmatized_lyrics_length'] = df2['lemmatized_lyrics'].apply(len)\n"
          ]
        }
      ],
      "source": [
        "df2['lemmatized_lyrics_length'] = df2['lemmatized_lyrics'].apply(len)"
      ]
    },
    {
      "cell_type": "code",
      "execution_count": null,
      "id": "4060bc17",
      "metadata": {
        "id": "4060bc17"
      },
      "outputs": [],
      "source": [
        "threshold = 25"
      ]
    },
    {
      "cell_type": "code",
      "execution_count": null,
      "id": "90569210",
      "metadata": {
        "id": "90569210"
      },
      "outputs": [],
      "source": [
        "df_length_count = df2[df2['lemmatized_lyrics_length'] >= threshold]\n",
        "df3 = df_length_count[[\"lemmatized_lyrics\", \"GENDER\"]]"
      ]
    },
    {
      "cell_type": "code",
      "execution_count": null,
      "id": "177392f8",
      "metadata": {
        "id": "177392f8",
        "outputId": "37251e1c-cd9d-440c-85a7-9c51d5e3bf89"
      },
      "outputs": [
        {
          "data": {
            "text/plain": [
              "19487"
            ]
          },
          "execution_count": 30,
          "metadata": {},
          "output_type": "execute_result"
        }
      ],
      "source": [
        "len(df3) #Decreased from 19721"
      ]
    },
    {
      "cell_type": "code",
      "execution_count": null,
      "id": "06602526",
      "metadata": {
        "id": "06602526",
        "outputId": "eb7b0cc5-0418-487a-b6f1-72f5d0fff5b4"
      },
      "outputs": [
        {
          "data": {
            "text/html": [
              "<div>\n",
              "<style scoped>\n",
              "    .dataframe tbody tr th:only-of-type {\n",
              "        vertical-align: middle;\n",
              "    }\n",
              "\n",
              "    .dataframe tbody tr th {\n",
              "        vertical-align: top;\n",
              "    }\n",
              "\n",
              "    .dataframe thead th {\n",
              "        text-align: right;\n",
              "    }\n",
              "</style>\n",
              "<table border=\"1\" class=\"dataframe\">\n",
              "  <thead>\n",
              "    <tr style=\"text-align: right;\">\n",
              "      <th></th>\n",
              "      <th>lemmatized_lyrics</th>\n",
              "      <th>GENDER</th>\n",
              "    </tr>\n",
              "  </thead>\n",
              "  <tbody>\n",
              "    <tr>\n",
              "      <th>0</th>\n",
              "      <td>[oh, danny, boy, pipe, pipe, calling, glen, gl...</td>\n",
              "      <td>female</td>\n",
              "    </tr>\n",
              "    <tr>\n",
              "      <th>1</th>\n",
              "      <td>[never, feel, thing, real, im, away, embrace, ...</td>\n",
              "      <td>female</td>\n",
              "    </tr>\n",
              "    <tr>\n",
              "      <th>2</th>\n",
              "      <td>[really, cant, stay, baby, cold, outside, got,...</td>\n",
              "      <td>female</td>\n",
              "    </tr>\n",
              "    <tr>\n",
              "      <th>3</th>\n",
              "      <td>[life, ive, waiting, wonderful, one, ive, begu...</td>\n",
              "      <td>female</td>\n",
              "    </tr>\n",
              "    <tr>\n",
              "      <th>4</th>\n",
              "      <td>[ill, get, taxi, honey, better, ready, bout, h...</td>\n",
              "      <td>female</td>\n",
              "    </tr>\n",
              "    <tr>\n",
              "      <th>...</th>\n",
              "      <td>...</td>\n",
              "      <td>...</td>\n",
              "    </tr>\n",
              "    <tr>\n",
              "      <th>21052</th>\n",
              "      <td>[tomboy, hail, mary, never, need, dress, make,...</td>\n",
              "      <td>female</td>\n",
              "    </tr>\n",
              "    <tr>\n",
              "      <th>21053</th>\n",
              "      <td>[throw, line, cant, reel, throw, dart, cant, m...</td>\n",
              "      <td>female</td>\n",
              "    </tr>\n",
              "    <tr>\n",
              "      <th>21054</th>\n",
              "      <td>[mind, cluttered, kitchen, sink, heart, empty,...</td>\n",
              "      <td>female</td>\n",
              "    </tr>\n",
              "    <tr>\n",
              "      <th>21055</th>\n",
              "      <td>[well, moment, heavy, im, ready, like, caged, ...</td>\n",
              "      <td>female</td>\n",
              "    </tr>\n",
              "    <tr>\n",
              "      <th>21056</th>\n",
              "      <td>[wouldnt, know, saw, wake, front, door, youll,...</td>\n",
              "      <td>female</td>\n",
              "    </tr>\n",
              "  </tbody>\n",
              "</table>\n",
              "<p>19487 rows × 2 columns</p>\n",
              "</div>"
            ],
            "text/plain": [
              "                                       lemmatized_lyrics  GENDER\n",
              "0      [oh, danny, boy, pipe, pipe, calling, glen, gl...  female\n",
              "1      [never, feel, thing, real, im, away, embrace, ...  female\n",
              "2      [really, cant, stay, baby, cold, outside, got,...  female\n",
              "3      [life, ive, waiting, wonderful, one, ive, begu...  female\n",
              "4      [ill, get, taxi, honey, better, ready, bout, h...  female\n",
              "...                                                  ...     ...\n",
              "21052  [tomboy, hail, mary, never, need, dress, make,...  female\n",
              "21053  [throw, line, cant, reel, throw, dart, cant, m...  female\n",
              "21054  [mind, cluttered, kitchen, sink, heart, empty,...  female\n",
              "21055  [well, moment, heavy, im, ready, like, caged, ...  female\n",
              "21056  [wouldnt, know, saw, wake, front, door, youll,...  female\n",
              "\n",
              "[19487 rows x 2 columns]"
            ]
          },
          "execution_count": 31,
          "metadata": {},
          "output_type": "execute_result"
        }
      ],
      "source": [
        "df3"
      ]
    },
    {
      "cell_type": "code",
      "execution_count": null,
      "id": "0b604a56",
      "metadata": {
        "id": "0b604a56",
        "outputId": "ebb7774c-db4a-42ca-a779-033028f146fb"
      },
      "outputs": [
        {
          "data": {
            "text/plain": [
              "male      0.777236\n",
              "female    0.222764\n",
              "Name: GENDER, dtype: float64"
            ]
          },
          "execution_count": 32,
          "metadata": {},
          "output_type": "execute_result"
        }
      ],
      "source": [
        "gender_proportions = df3['GENDER'].value_counts(normalize=True) # We have similar split\n",
        "gender_proportions"
      ]
    },
    {
      "cell_type": "code",
      "execution_count": null,
      "id": "a28ae2a0",
      "metadata": {
        "id": "a28ae2a0"
      },
      "outputs": [],
      "source": [
        "df3.to_csv(\"data/cleaned_eda.csv\", index = False)"
      ]
    },
    {
      "cell_type": "code",
      "source": [
        "from google.colab import files\n",
        "import pandas as pd\n",
        "\n",
        "uploaded = files.upload()\n",
        "\n",
        "df4 = pd.read_csv('cleaned_eda.csv')\n",
        "df4.head()\n"
      ],
      "metadata": {
        "colab": {
          "base_uri": "https://localhost:8080/",
          "height": 267
        },
        "id": "itw3bpst-1UK",
        "outputId": "a453afb6-0fb6-460d-dc44-bc2c65acc232"
      },
      "id": "itw3bpst-1UK",
      "execution_count": 3,
      "outputs": [
        {
          "output_type": "display_data",
          "data": {
            "text/plain": [
              "<IPython.core.display.HTML object>"
            ],
            "text/html": [
              "\n",
              "     <input type=\"file\" id=\"files-f3a386c5-3eb3-4912-9d33-d8c6e133459f\" name=\"files[]\" multiple disabled\n",
              "        style=\"border:none\" />\n",
              "     <output id=\"result-f3a386c5-3eb3-4912-9d33-d8c6e133459f\">\n",
              "      Upload widget is only available when the cell has been executed in the\n",
              "      current browser session. Please rerun this cell to enable.\n",
              "      </output>\n",
              "      <script>// Copyright 2017 Google LLC\n",
              "//\n",
              "// Licensed under the Apache License, Version 2.0 (the \"License\");\n",
              "// you may not use this file except in compliance with the License.\n",
              "// You may obtain a copy of the License at\n",
              "//\n",
              "//      http://www.apache.org/licenses/LICENSE-2.0\n",
              "//\n",
              "// Unless required by applicable law or agreed to in writing, software\n",
              "// distributed under the License is distributed on an \"AS IS\" BASIS,\n",
              "// WITHOUT WARRANTIES OR CONDITIONS OF ANY KIND, either express or implied.\n",
              "// See the License for the specific language governing permissions and\n",
              "// limitations under the License.\n",
              "\n",
              "/**\n",
              " * @fileoverview Helpers for google.colab Python module.\n",
              " */\n",
              "(function(scope) {\n",
              "function span(text, styleAttributes = {}) {\n",
              "  const element = document.createElement('span');\n",
              "  element.textContent = text;\n",
              "  for (const key of Object.keys(styleAttributes)) {\n",
              "    element.style[key] = styleAttributes[key];\n",
              "  }\n",
              "  return element;\n",
              "}\n",
              "\n",
              "// Max number of bytes which will be uploaded at a time.\n",
              "const MAX_PAYLOAD_SIZE = 100 * 1024;\n",
              "\n",
              "function _uploadFiles(inputId, outputId) {\n",
              "  const steps = uploadFilesStep(inputId, outputId);\n",
              "  const outputElement = document.getElementById(outputId);\n",
              "  // Cache steps on the outputElement to make it available for the next call\n",
              "  // to uploadFilesContinue from Python.\n",
              "  outputElement.steps = steps;\n",
              "\n",
              "  return _uploadFilesContinue(outputId);\n",
              "}\n",
              "\n",
              "// This is roughly an async generator (not supported in the browser yet),\n",
              "// where there are multiple asynchronous steps and the Python side is going\n",
              "// to poll for completion of each step.\n",
              "// This uses a Promise to block the python side on completion of each step,\n",
              "// then passes the result of the previous step as the input to the next step.\n",
              "function _uploadFilesContinue(outputId) {\n",
              "  const outputElement = document.getElementById(outputId);\n",
              "  const steps = outputElement.steps;\n",
              "\n",
              "  const next = steps.next(outputElement.lastPromiseValue);\n",
              "  return Promise.resolve(next.value.promise).then((value) => {\n",
              "    // Cache the last promise value to make it available to the next\n",
              "    // step of the generator.\n",
              "    outputElement.lastPromiseValue = value;\n",
              "    return next.value.response;\n",
              "  });\n",
              "}\n",
              "\n",
              "/**\n",
              " * Generator function which is called between each async step of the upload\n",
              " * process.\n",
              " * @param {string} inputId Element ID of the input file picker element.\n",
              " * @param {string} outputId Element ID of the output display.\n",
              " * @return {!Iterable<!Object>} Iterable of next steps.\n",
              " */\n",
              "function* uploadFilesStep(inputId, outputId) {\n",
              "  const inputElement = document.getElementById(inputId);\n",
              "  inputElement.disabled = false;\n",
              "\n",
              "  const outputElement = document.getElementById(outputId);\n",
              "  outputElement.innerHTML = '';\n",
              "\n",
              "  const pickedPromise = new Promise((resolve) => {\n",
              "    inputElement.addEventListener('change', (e) => {\n",
              "      resolve(e.target.files);\n",
              "    });\n",
              "  });\n",
              "\n",
              "  const cancel = document.createElement('button');\n",
              "  inputElement.parentElement.appendChild(cancel);\n",
              "  cancel.textContent = 'Cancel upload';\n",
              "  const cancelPromise = new Promise((resolve) => {\n",
              "    cancel.onclick = () => {\n",
              "      resolve(null);\n",
              "    };\n",
              "  });\n",
              "\n",
              "  // Wait for the user to pick the files.\n",
              "  const files = yield {\n",
              "    promise: Promise.race([pickedPromise, cancelPromise]),\n",
              "    response: {\n",
              "      action: 'starting',\n",
              "    }\n",
              "  };\n",
              "\n",
              "  cancel.remove();\n",
              "\n",
              "  // Disable the input element since further picks are not allowed.\n",
              "  inputElement.disabled = true;\n",
              "\n",
              "  if (!files) {\n",
              "    return {\n",
              "      response: {\n",
              "        action: 'complete',\n",
              "      }\n",
              "    };\n",
              "  }\n",
              "\n",
              "  for (const file of files) {\n",
              "    const li = document.createElement('li');\n",
              "    li.append(span(file.name, {fontWeight: 'bold'}));\n",
              "    li.append(span(\n",
              "        `(${file.type || 'n/a'}) - ${file.size} bytes, ` +\n",
              "        `last modified: ${\n",
              "            file.lastModifiedDate ? file.lastModifiedDate.toLocaleDateString() :\n",
              "                                    'n/a'} - `));\n",
              "    const percent = span('0% done');\n",
              "    li.appendChild(percent);\n",
              "\n",
              "    outputElement.appendChild(li);\n",
              "\n",
              "    const fileDataPromise = new Promise((resolve) => {\n",
              "      const reader = new FileReader();\n",
              "      reader.onload = (e) => {\n",
              "        resolve(e.target.result);\n",
              "      };\n",
              "      reader.readAsArrayBuffer(file);\n",
              "    });\n",
              "    // Wait for the data to be ready.\n",
              "    let fileData = yield {\n",
              "      promise: fileDataPromise,\n",
              "      response: {\n",
              "        action: 'continue',\n",
              "      }\n",
              "    };\n",
              "\n",
              "    // Use a chunked sending to avoid message size limits. See b/62115660.\n",
              "    let position = 0;\n",
              "    do {\n",
              "      const length = Math.min(fileData.byteLength - position, MAX_PAYLOAD_SIZE);\n",
              "      const chunk = new Uint8Array(fileData, position, length);\n",
              "      position += length;\n",
              "\n",
              "      const base64 = btoa(String.fromCharCode.apply(null, chunk));\n",
              "      yield {\n",
              "        response: {\n",
              "          action: 'append',\n",
              "          file: file.name,\n",
              "          data: base64,\n",
              "        },\n",
              "      };\n",
              "\n",
              "      let percentDone = fileData.byteLength === 0 ?\n",
              "          100 :\n",
              "          Math.round((position / fileData.byteLength) * 100);\n",
              "      percent.textContent = `${percentDone}% done`;\n",
              "\n",
              "    } while (position < fileData.byteLength);\n",
              "  }\n",
              "\n",
              "  // All done.\n",
              "  yield {\n",
              "    response: {\n",
              "      action: 'complete',\n",
              "    }\n",
              "  };\n",
              "}\n",
              "\n",
              "scope.google = scope.google || {};\n",
              "scope.google.colab = scope.google.colab || {};\n",
              "scope.google.colab._files = {\n",
              "  _uploadFiles,\n",
              "  _uploadFilesContinue,\n",
              "};\n",
              "})(self);\n",
              "</script> "
            ]
          },
          "metadata": {}
        },
        {
          "output_type": "stream",
          "name": "stdout",
          "text": [
            "Saving cleaned_eda.csv to cleaned_eda.csv\n"
          ]
        },
        {
          "output_type": "execute_result",
          "data": {
            "text/plain": [
              "                                   lemmatized_lyrics  GENDER\n",
              "0  ['oh', 'danny', 'boy', 'pipe', 'pipe', 'callin...  female\n",
              "1  ['never', 'feel', 'thing', 'real', 'im', 'away...  female\n",
              "2  ['really', 'cant', 'stay', 'baby', 'cold', 'ou...  female\n",
              "3  ['life', 'ive', 'waiting', 'wonderful', 'one',...  female\n",
              "4  ['ill', 'get', 'taxi', 'honey', 'better', 'rea...  female"
            ],
            "text/html": [
              "\n",
              "  <div id=\"df-23430022-a2e0-41fe-b4ee-9efc8f4db782\" class=\"colab-df-container\">\n",
              "    <div>\n",
              "<style scoped>\n",
              "    .dataframe tbody tr th:only-of-type {\n",
              "        vertical-align: middle;\n",
              "    }\n",
              "\n",
              "    .dataframe tbody tr th {\n",
              "        vertical-align: top;\n",
              "    }\n",
              "\n",
              "    .dataframe thead th {\n",
              "        text-align: right;\n",
              "    }\n",
              "</style>\n",
              "<table border=\"1\" class=\"dataframe\">\n",
              "  <thead>\n",
              "    <tr style=\"text-align: right;\">\n",
              "      <th></th>\n",
              "      <th>lemmatized_lyrics</th>\n",
              "      <th>GENDER</th>\n",
              "    </tr>\n",
              "  </thead>\n",
              "  <tbody>\n",
              "    <tr>\n",
              "      <th>0</th>\n",
              "      <td>['oh', 'danny', 'boy', 'pipe', 'pipe', 'callin...</td>\n",
              "      <td>female</td>\n",
              "    </tr>\n",
              "    <tr>\n",
              "      <th>1</th>\n",
              "      <td>['never', 'feel', 'thing', 'real', 'im', 'away...</td>\n",
              "      <td>female</td>\n",
              "    </tr>\n",
              "    <tr>\n",
              "      <th>2</th>\n",
              "      <td>['really', 'cant', 'stay', 'baby', 'cold', 'ou...</td>\n",
              "      <td>female</td>\n",
              "    </tr>\n",
              "    <tr>\n",
              "      <th>3</th>\n",
              "      <td>['life', 'ive', 'waiting', 'wonderful', 'one',...</td>\n",
              "      <td>female</td>\n",
              "    </tr>\n",
              "    <tr>\n",
              "      <th>4</th>\n",
              "      <td>['ill', 'get', 'taxi', 'honey', 'better', 'rea...</td>\n",
              "      <td>female</td>\n",
              "    </tr>\n",
              "  </tbody>\n",
              "</table>\n",
              "</div>\n",
              "    <div class=\"colab-df-buttons\">\n",
              "\n",
              "  <div class=\"colab-df-container\">\n",
              "    <button class=\"colab-df-convert\" onclick=\"convertToInteractive('df-23430022-a2e0-41fe-b4ee-9efc8f4db782')\"\n",
              "            title=\"Convert this dataframe to an interactive table.\"\n",
              "            style=\"display:none;\">\n",
              "\n",
              "  <svg xmlns=\"http://www.w3.org/2000/svg\" height=\"24px\" viewBox=\"0 -960 960 960\">\n",
              "    <path d=\"M120-120v-720h720v720H120Zm60-500h600v-160H180v160Zm220 220h160v-160H400v160Zm0 220h160v-160H400v160ZM180-400h160v-160H180v160Zm440 0h160v-160H620v160ZM180-180h160v-160H180v160Zm440 0h160v-160H620v160Z\"/>\n",
              "  </svg>\n",
              "    </button>\n",
              "\n",
              "  <style>\n",
              "    .colab-df-container {\n",
              "      display:flex;\n",
              "      gap: 12px;\n",
              "    }\n",
              "\n",
              "    .colab-df-convert {\n",
              "      background-color: #E8F0FE;\n",
              "      border: none;\n",
              "      border-radius: 50%;\n",
              "      cursor: pointer;\n",
              "      display: none;\n",
              "      fill: #1967D2;\n",
              "      height: 32px;\n",
              "      padding: 0 0 0 0;\n",
              "      width: 32px;\n",
              "    }\n",
              "\n",
              "    .colab-df-convert:hover {\n",
              "      background-color: #E2EBFA;\n",
              "      box-shadow: 0px 1px 2px rgba(60, 64, 67, 0.3), 0px 1px 3px 1px rgba(60, 64, 67, 0.15);\n",
              "      fill: #174EA6;\n",
              "    }\n",
              "\n",
              "    .colab-df-buttons div {\n",
              "      margin-bottom: 4px;\n",
              "    }\n",
              "\n",
              "    [theme=dark] .colab-df-convert {\n",
              "      background-color: #3B4455;\n",
              "      fill: #D2E3FC;\n",
              "    }\n",
              "\n",
              "    [theme=dark] .colab-df-convert:hover {\n",
              "      background-color: #434B5C;\n",
              "      box-shadow: 0px 1px 3px 1px rgba(0, 0, 0, 0.15);\n",
              "      filter: drop-shadow(0px 1px 2px rgba(0, 0, 0, 0.3));\n",
              "      fill: #FFFFFF;\n",
              "    }\n",
              "  </style>\n",
              "\n",
              "    <script>\n",
              "      const buttonEl =\n",
              "        document.querySelector('#df-23430022-a2e0-41fe-b4ee-9efc8f4db782 button.colab-df-convert');\n",
              "      buttonEl.style.display =\n",
              "        google.colab.kernel.accessAllowed ? 'block' : 'none';\n",
              "\n",
              "      async function convertToInteractive(key) {\n",
              "        const element = document.querySelector('#df-23430022-a2e0-41fe-b4ee-9efc8f4db782');\n",
              "        const dataTable =\n",
              "          await google.colab.kernel.invokeFunction('convertToInteractive',\n",
              "                                                    [key], {});\n",
              "        if (!dataTable) return;\n",
              "\n",
              "        const docLinkHtml = 'Like what you see? Visit the ' +\n",
              "          '<a target=\"_blank\" href=https://colab.research.google.com/notebooks/data_table.ipynb>data table notebook</a>'\n",
              "          + ' to learn more about interactive tables.';\n",
              "        element.innerHTML = '';\n",
              "        dataTable['output_type'] = 'display_data';\n",
              "        await google.colab.output.renderOutput(dataTable, element);\n",
              "        const docLink = document.createElement('div');\n",
              "        docLink.innerHTML = docLinkHtml;\n",
              "        element.appendChild(docLink);\n",
              "      }\n",
              "    </script>\n",
              "  </div>\n",
              "\n",
              "\n",
              "<div id=\"df-a4101a9e-488c-4629-82e2-9cca28f9568a\">\n",
              "  <button class=\"colab-df-quickchart\" onclick=\"quickchart('df-a4101a9e-488c-4629-82e2-9cca28f9568a')\"\n",
              "            title=\"Suggest charts\"\n",
              "            style=\"display:none;\">\n",
              "\n",
              "<svg xmlns=\"http://www.w3.org/2000/svg\" height=\"24px\"viewBox=\"0 0 24 24\"\n",
              "     width=\"24px\">\n",
              "    <g>\n",
              "        <path d=\"M19 3H5c-1.1 0-2 .9-2 2v14c0 1.1.9 2 2 2h14c1.1 0 2-.9 2-2V5c0-1.1-.9-2-2-2zM9 17H7v-7h2v7zm4 0h-2V7h2v10zm4 0h-2v-4h2v4z\"/>\n",
              "    </g>\n",
              "</svg>\n",
              "  </button>\n",
              "\n",
              "<style>\n",
              "  .colab-df-quickchart {\n",
              "      --bg-color: #E8F0FE;\n",
              "      --fill-color: #1967D2;\n",
              "      --hover-bg-color: #E2EBFA;\n",
              "      --hover-fill-color: #174EA6;\n",
              "      --disabled-fill-color: #AAA;\n",
              "      --disabled-bg-color: #DDD;\n",
              "  }\n",
              "\n",
              "  [theme=dark] .colab-df-quickchart {\n",
              "      --bg-color: #3B4455;\n",
              "      --fill-color: #D2E3FC;\n",
              "      --hover-bg-color: #434B5C;\n",
              "      --hover-fill-color: #FFFFFF;\n",
              "      --disabled-bg-color: #3B4455;\n",
              "      --disabled-fill-color: #666;\n",
              "  }\n",
              "\n",
              "  .colab-df-quickchart {\n",
              "    background-color: var(--bg-color);\n",
              "    border: none;\n",
              "    border-radius: 50%;\n",
              "    cursor: pointer;\n",
              "    display: none;\n",
              "    fill: var(--fill-color);\n",
              "    height: 32px;\n",
              "    padding: 0;\n",
              "    width: 32px;\n",
              "  }\n",
              "\n",
              "  .colab-df-quickchart:hover {\n",
              "    background-color: var(--hover-bg-color);\n",
              "    box-shadow: 0 1px 2px rgba(60, 64, 67, 0.3), 0 1px 3px 1px rgba(60, 64, 67, 0.15);\n",
              "    fill: var(--button-hover-fill-color);\n",
              "  }\n",
              "\n",
              "  .colab-df-quickchart-complete:disabled,\n",
              "  .colab-df-quickchart-complete:disabled:hover {\n",
              "    background-color: var(--disabled-bg-color);\n",
              "    fill: var(--disabled-fill-color);\n",
              "    box-shadow: none;\n",
              "  }\n",
              "\n",
              "  .colab-df-spinner {\n",
              "    border: 2px solid var(--fill-color);\n",
              "    border-color: transparent;\n",
              "    border-bottom-color: var(--fill-color);\n",
              "    animation:\n",
              "      spin 1s steps(1) infinite;\n",
              "  }\n",
              "\n",
              "  @keyframes spin {\n",
              "    0% {\n",
              "      border-color: transparent;\n",
              "      border-bottom-color: var(--fill-color);\n",
              "      border-left-color: var(--fill-color);\n",
              "    }\n",
              "    20% {\n",
              "      border-color: transparent;\n",
              "      border-left-color: var(--fill-color);\n",
              "      border-top-color: var(--fill-color);\n",
              "    }\n",
              "    30% {\n",
              "      border-color: transparent;\n",
              "      border-left-color: var(--fill-color);\n",
              "      border-top-color: var(--fill-color);\n",
              "      border-right-color: var(--fill-color);\n",
              "    }\n",
              "    40% {\n",
              "      border-color: transparent;\n",
              "      border-right-color: var(--fill-color);\n",
              "      border-top-color: var(--fill-color);\n",
              "    }\n",
              "    60% {\n",
              "      border-color: transparent;\n",
              "      border-right-color: var(--fill-color);\n",
              "    }\n",
              "    80% {\n",
              "      border-color: transparent;\n",
              "      border-right-color: var(--fill-color);\n",
              "      border-bottom-color: var(--fill-color);\n",
              "    }\n",
              "    90% {\n",
              "      border-color: transparent;\n",
              "      border-bottom-color: var(--fill-color);\n",
              "    }\n",
              "  }\n",
              "</style>\n",
              "\n",
              "  <script>\n",
              "    async function quickchart(key) {\n",
              "      const quickchartButtonEl =\n",
              "        document.querySelector('#' + key + ' button');\n",
              "      quickchartButtonEl.disabled = true;  // To prevent multiple clicks.\n",
              "      quickchartButtonEl.classList.add('colab-df-spinner');\n",
              "      try {\n",
              "        const charts = await google.colab.kernel.invokeFunction(\n",
              "            'suggestCharts', [key], {});\n",
              "      } catch (error) {\n",
              "        console.error('Error during call to suggestCharts:', error);\n",
              "      }\n",
              "      quickchartButtonEl.classList.remove('colab-df-spinner');\n",
              "      quickchartButtonEl.classList.add('colab-df-quickchart-complete');\n",
              "    }\n",
              "    (() => {\n",
              "      let quickchartButtonEl =\n",
              "        document.querySelector('#df-a4101a9e-488c-4629-82e2-9cca28f9568a button');\n",
              "      quickchartButtonEl.style.display =\n",
              "        google.colab.kernel.accessAllowed ? 'block' : 'none';\n",
              "    })();\n",
              "  </script>\n",
              "</div>\n",
              "\n",
              "    </div>\n",
              "  </div>\n"
            ],
            "application/vnd.google.colaboratory.intrinsic+json": {
              "type": "dataframe",
              "variable_name": "df4",
              "summary": "{\n  \"name\": \"df4\",\n  \"rows\": 19487,\n  \"fields\": [\n    {\n      \"column\": \"lemmatized_lyrics\",\n      \"properties\": {\n        \"dtype\": \"string\",\n        \"num_unique_values\": 18254,\n        \"samples\": [\n          \"['woman', 'certain', 'age', 'learn', 'rely', 'judge', 'response', 'played', 'mating', 'game', 'doesnt', 'waste', 'time', 'cause', 'want', 'really', 'honest', 'emotion', 'one', 'cant', 'help', 'show', 'though', 'hardly', 'know', 'name', 'know', 'love', 'know', 'dont', 'want', 'lose', 'dont', 'even', 'want', 'say', 'goodbye', 'want', 'hold', 'true', 'love', 'true', 'love', 'woman', 'made', 'mistake', 'little', 'afraid', 'dont', 'like', 'taking', 'chance', 'play', 'waiting', 'game', 'shes', 'never', 'impressed', 'manly', 'advance', 'know', 'ive', 'met', 'maybe', 'know', 'better', 'look', 'way', 'there', 'something', 'inside', 'thats', 'right', 'dont', 'want', 'lose', 'dont', 'even', 'want', 'say', 'goodbye', 'oh', 'want', 'hold', 'true', 'love', 'true', 'love', 'dont', 'want', 'lose', 'always', 'want', 'feel', 'way', 'oh', 'yeah', 'cause', 'every', 'time', 'im', 'feel', 'true', 'love', 'true', 'love', 'true', 'love', 'tell', 'youre', 'real', 'youre', 'pretending', 'let', 'make', 'deal', 'cause', 'heart', 'depending', 'dont', 'want', 'lose', 'dont', 'even', 'want', 'say', 'goodbye', 'oh', 'want', 'hold', 'true', 'love', 'true', 'love', 'dont', 'want', 'lose', 'always', 'want', 'feel', 'way', 'oh', 'yeah', 'cause', 'every', 'time', 'im', 'feel', 'true', 'love', 'true', 'love', 'true', 'love', 'dont', 'want', 'lose', 'dont', 'even', 'want', 'say', 'goodbye', 'oh', 'want', 'hold', 'true', 'love', 'true', 'love', 'dont', 'want', 'lose', 'always', 'want', 'feel', 'way', 'cause', 'every', 'time', 'im', 'feel', 'true', 'love', 'true', 'love', 'true', 'love', 'dont', 'want', 'lose', 'dont', 'even', 'want', 'say', 'goodbye']\",\n          \"['created', 'likeness', 'fraud', 'hell', 'something', 'scary', 'prefer', 'loving', 'god', 'center', 'funny', 'universe', 'something', 'worse', 'serve', 'fear', 'curse', 'shallow', 'thy', 'game', 'two', 'thousand', 'year', 'look', 'mirror', 'play', 'game', 'shame', 'tell', 'people', 'live', 'fear', 'rival', 'way', 'see', 'bible', 'let', 'im', 'threat', 'survival', 'control', 'company', 'youll', 'never', 'burn', 'youll', 'never', 'burn', 'ill', 'heretic', 'cant', 'contain', 'power', 'free', 'truth', 'belongs', 'everybody', 'anyone', 'who', 'listenin', 'youre', 'born', 'sin', 'guilt', 'try', 'give', 'puke', 'nearest', 'bin', 'missionary', 'madness', 'sweep', 'culture', 'broom', 'trashing', 'ancient', 'way', 'par', 'course', 'fucking', 'rude', 'think', 'youre', 'law', 'nature', 'joke', 'purple', 'sash', 'feeding', 'mass', 'smoke', 'choke', 'might', 'monkey', 'come', 'holy', 'fundamental', 'hatred', 'get', 'knee', 'youll', 'never', 'burn', 'youll', 'never', 'burn', 'ill', 'heretic', 'cant', 'contain', 'power', 'free', 'truth', 'belongs', 'everybody']\",\n          \"['im', 'gettin', 'smell', 'perfume', 'sound', 'bare', 'foot', 'walkin', 'round', 'room', 'im', 'gettin', 'taste', 'lipstick', 'finger', 'hair', 'little', 'trick', 'chorus', 'im', 'alright', 'everything', 'still', 'got', 'problem', 'cutoff', 'jean', 'thats', 'whats', 'driving', 'crazy', 'deen', 'driving', 'crazy', 'driving', 'crazy', 'im', 'gettin', 'comeandgetme', 'eye', 'got', 'going', 'little', 'moan', 'sign', 'im', 'gettin', 'thing', 'used', 'thinking', 'le', 'late', 'night', 'rendezvous', 'chorus', 'doctor', 'doctor', 'doctor', 'help', 'something', 'cutoff', 'jean', 'keeping', 'doubt', 'thats', 'whats', 'driving', 'crazy', 'driving', 'crazy']\"\n        ],\n        \"semantic_type\": \"\",\n        \"description\": \"\"\n      }\n    },\n    {\n      \"column\": \"GENDER\",\n      \"properties\": {\n        \"dtype\": \"category\",\n        \"num_unique_values\": 2,\n        \"samples\": [\n          \"male\",\n          \"female\"\n        ],\n        \"semantic_type\": \"\",\n        \"description\": \"\"\n      }\n    }\n  ]\n}"
            }
          },
          "metadata": {},
          "execution_count": 3
        }
      ]
    },
    {
      "cell_type": "code",
      "execution_count": 43,
      "id": "c4330d42",
      "metadata": {
        "colab": {
          "base_uri": "https://localhost:8080/",
          "height": 206
        },
        "id": "c4330d42",
        "outputId": "6804110f-743d-43b2-8a91-729ea6e71147"
      },
      "outputs": [
        {
          "output_type": "execute_result",
          "data": {
            "text/plain": [
              "                                   lemmatized_lyrics  GENDER\n",
              "0  ['oh', 'danny', 'boy', 'pipe', 'pipe', 'callin...  female\n",
              "1  ['never', 'feel', 'thing', 'real', 'im', 'away...  female\n",
              "2  ['really', 'cant', 'stay', 'baby', 'cold', 'ou...  female\n",
              "3  ['life', 'ive', 'waiting', 'wonderful', 'one',...  female\n",
              "4  ['ill', 'get', 'taxi', 'honey', 'better', 'rea...  female"
            ],
            "text/html": [
              "\n",
              "  <div id=\"df-64401a8d-c0d1-43db-a5c1-eaf9496d749c\" class=\"colab-df-container\">\n",
              "    <div>\n",
              "<style scoped>\n",
              "    .dataframe tbody tr th:only-of-type {\n",
              "        vertical-align: middle;\n",
              "    }\n",
              "\n",
              "    .dataframe tbody tr th {\n",
              "        vertical-align: top;\n",
              "    }\n",
              "\n",
              "    .dataframe thead th {\n",
              "        text-align: right;\n",
              "    }\n",
              "</style>\n",
              "<table border=\"1\" class=\"dataframe\">\n",
              "  <thead>\n",
              "    <tr style=\"text-align: right;\">\n",
              "      <th></th>\n",
              "      <th>lemmatized_lyrics</th>\n",
              "      <th>GENDER</th>\n",
              "    </tr>\n",
              "  </thead>\n",
              "  <tbody>\n",
              "    <tr>\n",
              "      <th>0</th>\n",
              "      <td>['oh', 'danny', 'boy', 'pipe', 'pipe', 'callin...</td>\n",
              "      <td>female</td>\n",
              "    </tr>\n",
              "    <tr>\n",
              "      <th>1</th>\n",
              "      <td>['never', 'feel', 'thing', 'real', 'im', 'away...</td>\n",
              "      <td>female</td>\n",
              "    </tr>\n",
              "    <tr>\n",
              "      <th>2</th>\n",
              "      <td>['really', 'cant', 'stay', 'baby', 'cold', 'ou...</td>\n",
              "      <td>female</td>\n",
              "    </tr>\n",
              "    <tr>\n",
              "      <th>3</th>\n",
              "      <td>['life', 'ive', 'waiting', 'wonderful', 'one',...</td>\n",
              "      <td>female</td>\n",
              "    </tr>\n",
              "    <tr>\n",
              "      <th>4</th>\n",
              "      <td>['ill', 'get', 'taxi', 'honey', 'better', 'rea...</td>\n",
              "      <td>female</td>\n",
              "    </tr>\n",
              "  </tbody>\n",
              "</table>\n",
              "</div>\n",
              "    <div class=\"colab-df-buttons\">\n",
              "\n",
              "  <div class=\"colab-df-container\">\n",
              "    <button class=\"colab-df-convert\" onclick=\"convertToInteractive('df-64401a8d-c0d1-43db-a5c1-eaf9496d749c')\"\n",
              "            title=\"Convert this dataframe to an interactive table.\"\n",
              "            style=\"display:none;\">\n",
              "\n",
              "  <svg xmlns=\"http://www.w3.org/2000/svg\" height=\"24px\" viewBox=\"0 -960 960 960\">\n",
              "    <path d=\"M120-120v-720h720v720H120Zm60-500h600v-160H180v160Zm220 220h160v-160H400v160Zm0 220h160v-160H400v160ZM180-400h160v-160H180v160Zm440 0h160v-160H620v160ZM180-180h160v-160H180v160Zm440 0h160v-160H620v160Z\"/>\n",
              "  </svg>\n",
              "    </button>\n",
              "\n",
              "  <style>\n",
              "    .colab-df-container {\n",
              "      display:flex;\n",
              "      gap: 12px;\n",
              "    }\n",
              "\n",
              "    .colab-df-convert {\n",
              "      background-color: #E8F0FE;\n",
              "      border: none;\n",
              "      border-radius: 50%;\n",
              "      cursor: pointer;\n",
              "      display: none;\n",
              "      fill: #1967D2;\n",
              "      height: 32px;\n",
              "      padding: 0 0 0 0;\n",
              "      width: 32px;\n",
              "    }\n",
              "\n",
              "    .colab-df-convert:hover {\n",
              "      background-color: #E2EBFA;\n",
              "      box-shadow: 0px 1px 2px rgba(60, 64, 67, 0.3), 0px 1px 3px 1px rgba(60, 64, 67, 0.15);\n",
              "      fill: #174EA6;\n",
              "    }\n",
              "\n",
              "    .colab-df-buttons div {\n",
              "      margin-bottom: 4px;\n",
              "    }\n",
              "\n",
              "    [theme=dark] .colab-df-convert {\n",
              "      background-color: #3B4455;\n",
              "      fill: #D2E3FC;\n",
              "    }\n",
              "\n",
              "    [theme=dark] .colab-df-convert:hover {\n",
              "      background-color: #434B5C;\n",
              "      box-shadow: 0px 1px 3px 1px rgba(0, 0, 0, 0.15);\n",
              "      filter: drop-shadow(0px 1px 2px rgba(0, 0, 0, 0.3));\n",
              "      fill: #FFFFFF;\n",
              "    }\n",
              "  </style>\n",
              "\n",
              "    <script>\n",
              "      const buttonEl =\n",
              "        document.querySelector('#df-64401a8d-c0d1-43db-a5c1-eaf9496d749c button.colab-df-convert');\n",
              "      buttonEl.style.display =\n",
              "        google.colab.kernel.accessAllowed ? 'block' : 'none';\n",
              "\n",
              "      async function convertToInteractive(key) {\n",
              "        const element = document.querySelector('#df-64401a8d-c0d1-43db-a5c1-eaf9496d749c');\n",
              "        const dataTable =\n",
              "          await google.colab.kernel.invokeFunction('convertToInteractive',\n",
              "                                                    [key], {});\n",
              "        if (!dataTable) return;\n",
              "\n",
              "        const docLinkHtml = 'Like what you see? Visit the ' +\n",
              "          '<a target=\"_blank\" href=https://colab.research.google.com/notebooks/data_table.ipynb>data table notebook</a>'\n",
              "          + ' to learn more about interactive tables.';\n",
              "        element.innerHTML = '';\n",
              "        dataTable['output_type'] = 'display_data';\n",
              "        await google.colab.output.renderOutput(dataTable, element);\n",
              "        const docLink = document.createElement('div');\n",
              "        docLink.innerHTML = docLinkHtml;\n",
              "        element.appendChild(docLink);\n",
              "      }\n",
              "    </script>\n",
              "  </div>\n",
              "\n",
              "\n",
              "<div id=\"df-c85d454c-dea2-429f-b5fb-05c314b15305\">\n",
              "  <button class=\"colab-df-quickchart\" onclick=\"quickchart('df-c85d454c-dea2-429f-b5fb-05c314b15305')\"\n",
              "            title=\"Suggest charts\"\n",
              "            style=\"display:none;\">\n",
              "\n",
              "<svg xmlns=\"http://www.w3.org/2000/svg\" height=\"24px\"viewBox=\"0 0 24 24\"\n",
              "     width=\"24px\">\n",
              "    <g>\n",
              "        <path d=\"M19 3H5c-1.1 0-2 .9-2 2v14c0 1.1.9 2 2 2h14c1.1 0 2-.9 2-2V5c0-1.1-.9-2-2-2zM9 17H7v-7h2v7zm4 0h-2V7h2v10zm4 0h-2v-4h2v4z\"/>\n",
              "    </g>\n",
              "</svg>\n",
              "  </button>\n",
              "\n",
              "<style>\n",
              "  .colab-df-quickchart {\n",
              "      --bg-color: #E8F0FE;\n",
              "      --fill-color: #1967D2;\n",
              "      --hover-bg-color: #E2EBFA;\n",
              "      --hover-fill-color: #174EA6;\n",
              "      --disabled-fill-color: #AAA;\n",
              "      --disabled-bg-color: #DDD;\n",
              "  }\n",
              "\n",
              "  [theme=dark] .colab-df-quickchart {\n",
              "      --bg-color: #3B4455;\n",
              "      --fill-color: #D2E3FC;\n",
              "      --hover-bg-color: #434B5C;\n",
              "      --hover-fill-color: #FFFFFF;\n",
              "      --disabled-bg-color: #3B4455;\n",
              "      --disabled-fill-color: #666;\n",
              "  }\n",
              "\n",
              "  .colab-df-quickchart {\n",
              "    background-color: var(--bg-color);\n",
              "    border: none;\n",
              "    border-radius: 50%;\n",
              "    cursor: pointer;\n",
              "    display: none;\n",
              "    fill: var(--fill-color);\n",
              "    height: 32px;\n",
              "    padding: 0;\n",
              "    width: 32px;\n",
              "  }\n",
              "\n",
              "  .colab-df-quickchart:hover {\n",
              "    background-color: var(--hover-bg-color);\n",
              "    box-shadow: 0 1px 2px rgba(60, 64, 67, 0.3), 0 1px 3px 1px rgba(60, 64, 67, 0.15);\n",
              "    fill: var(--button-hover-fill-color);\n",
              "  }\n",
              "\n",
              "  .colab-df-quickchart-complete:disabled,\n",
              "  .colab-df-quickchart-complete:disabled:hover {\n",
              "    background-color: var(--disabled-bg-color);\n",
              "    fill: var(--disabled-fill-color);\n",
              "    box-shadow: none;\n",
              "  }\n",
              "\n",
              "  .colab-df-spinner {\n",
              "    border: 2px solid var(--fill-color);\n",
              "    border-color: transparent;\n",
              "    border-bottom-color: var(--fill-color);\n",
              "    animation:\n",
              "      spin 1s steps(1) infinite;\n",
              "  }\n",
              "\n",
              "  @keyframes spin {\n",
              "    0% {\n",
              "      border-color: transparent;\n",
              "      border-bottom-color: var(--fill-color);\n",
              "      border-left-color: var(--fill-color);\n",
              "    }\n",
              "    20% {\n",
              "      border-color: transparent;\n",
              "      border-left-color: var(--fill-color);\n",
              "      border-top-color: var(--fill-color);\n",
              "    }\n",
              "    30% {\n",
              "      border-color: transparent;\n",
              "      border-left-color: var(--fill-color);\n",
              "      border-top-color: var(--fill-color);\n",
              "      border-right-color: var(--fill-color);\n",
              "    }\n",
              "    40% {\n",
              "      border-color: transparent;\n",
              "      border-right-color: var(--fill-color);\n",
              "      border-top-color: var(--fill-color);\n",
              "    }\n",
              "    60% {\n",
              "      border-color: transparent;\n",
              "      border-right-color: var(--fill-color);\n",
              "    }\n",
              "    80% {\n",
              "      border-color: transparent;\n",
              "      border-right-color: var(--fill-color);\n",
              "      border-bottom-color: var(--fill-color);\n",
              "    }\n",
              "    90% {\n",
              "      border-color: transparent;\n",
              "      border-bottom-color: var(--fill-color);\n",
              "    }\n",
              "  }\n",
              "</style>\n",
              "\n",
              "  <script>\n",
              "    async function quickchart(key) {\n",
              "      const quickchartButtonEl =\n",
              "        document.querySelector('#' + key + ' button');\n",
              "      quickchartButtonEl.disabled = true;  // To prevent multiple clicks.\n",
              "      quickchartButtonEl.classList.add('colab-df-spinner');\n",
              "      try {\n",
              "        const charts = await google.colab.kernel.invokeFunction(\n",
              "            'suggestCharts', [key], {});\n",
              "      } catch (error) {\n",
              "        console.error('Error during call to suggestCharts:', error);\n",
              "      }\n",
              "      quickchartButtonEl.classList.remove('colab-df-spinner');\n",
              "      quickchartButtonEl.classList.add('colab-df-quickchart-complete');\n",
              "    }\n",
              "    (() => {\n",
              "      let quickchartButtonEl =\n",
              "        document.querySelector('#df-c85d454c-dea2-429f-b5fb-05c314b15305 button');\n",
              "      quickchartButtonEl.style.display =\n",
              "        google.colab.kernel.accessAllowed ? 'block' : 'none';\n",
              "    })();\n",
              "  </script>\n",
              "</div>\n",
              "\n",
              "    </div>\n",
              "  </div>\n"
            ],
            "application/vnd.google.colaboratory.intrinsic+json": {
              "type": "dataframe",
              "variable_name": "df4",
              "summary": "{\n  \"name\": \"df4\",\n  \"rows\": 19487,\n  \"fields\": [\n    {\n      \"column\": \"lemmatized_lyrics\",\n      \"properties\": {\n        \"dtype\": \"string\",\n        \"num_unique_values\": 18254,\n        \"samples\": [\n          \"['woman', 'certain', 'age', 'learn', 'rely', 'judge', 'response', 'played', 'mating', 'game', 'doesnt', 'waste', 'time', 'cause', 'want', 'really', 'honest', 'emotion', 'one', 'cant', 'help', 'show', 'though', 'hardly', 'know', 'name', 'know', 'love', 'know', 'dont', 'want', 'lose', 'dont', 'even', 'want', 'say', 'goodbye', 'want', 'hold', 'true', 'love', 'true', 'love', 'woman', 'made', 'mistake', 'little', 'afraid', 'dont', 'like', 'taking', 'chance', 'play', 'waiting', 'game', 'shes', 'never', 'impressed', 'manly', 'advance', 'know', 'ive', 'met', 'maybe', 'know', 'better', 'look', 'way', 'there', 'something', 'inside', 'thats', 'right', 'dont', 'want', 'lose', 'dont', 'even', 'want', 'say', 'goodbye', 'oh', 'want', 'hold', 'true', 'love', 'true', 'love', 'dont', 'want', 'lose', 'always', 'want', 'feel', 'way', 'oh', 'yeah', 'cause', 'every', 'time', 'im', 'feel', 'true', 'love', 'true', 'love', 'true', 'love', 'tell', 'youre', 'real', 'youre', 'pretending', 'let', 'make', 'deal', 'cause', 'heart', 'depending', 'dont', 'want', 'lose', 'dont', 'even', 'want', 'say', 'goodbye', 'oh', 'want', 'hold', 'true', 'love', 'true', 'love', 'dont', 'want', 'lose', 'always', 'want', 'feel', 'way', 'oh', 'yeah', 'cause', 'every', 'time', 'im', 'feel', 'true', 'love', 'true', 'love', 'true', 'love', 'dont', 'want', 'lose', 'dont', 'even', 'want', 'say', 'goodbye', 'oh', 'want', 'hold', 'true', 'love', 'true', 'love', 'dont', 'want', 'lose', 'always', 'want', 'feel', 'way', 'cause', 'every', 'time', 'im', 'feel', 'true', 'love', 'true', 'love', 'true', 'love', 'dont', 'want', 'lose', 'dont', 'even', 'want', 'say', 'goodbye']\",\n          \"['created', 'likeness', 'fraud', 'hell', 'something', 'scary', 'prefer', 'loving', 'god', 'center', 'funny', 'universe', 'something', 'worse', 'serve', 'fear', 'curse', 'shallow', 'thy', 'game', 'two', 'thousand', 'year', 'look', 'mirror', 'play', 'game', 'shame', 'tell', 'people', 'live', 'fear', 'rival', 'way', 'see', 'bible', 'let', 'im', 'threat', 'survival', 'control', 'company', 'youll', 'never', 'burn', 'youll', 'never', 'burn', 'ill', 'heretic', 'cant', 'contain', 'power', 'free', 'truth', 'belongs', 'everybody', 'anyone', 'who', 'listenin', 'youre', 'born', 'sin', 'guilt', 'try', 'give', 'puke', 'nearest', 'bin', 'missionary', 'madness', 'sweep', 'culture', 'broom', 'trashing', 'ancient', 'way', 'par', 'course', 'fucking', 'rude', 'think', 'youre', 'law', 'nature', 'joke', 'purple', 'sash', 'feeding', 'mass', 'smoke', 'choke', 'might', 'monkey', 'come', 'holy', 'fundamental', 'hatred', 'get', 'knee', 'youll', 'never', 'burn', 'youll', 'never', 'burn', 'ill', 'heretic', 'cant', 'contain', 'power', 'free', 'truth', 'belongs', 'everybody']\",\n          \"['im', 'gettin', 'smell', 'perfume', 'sound', 'bare', 'foot', 'walkin', 'round', 'room', 'im', 'gettin', 'taste', 'lipstick', 'finger', 'hair', 'little', 'trick', 'chorus', 'im', 'alright', 'everything', 'still', 'got', 'problem', 'cutoff', 'jean', 'thats', 'whats', 'driving', 'crazy', 'deen', 'driving', 'crazy', 'driving', 'crazy', 'im', 'gettin', 'comeandgetme', 'eye', 'got', 'going', 'little', 'moan', 'sign', 'im', 'gettin', 'thing', 'used', 'thinking', 'le', 'late', 'night', 'rendezvous', 'chorus', 'doctor', 'doctor', 'doctor', 'help', 'something', 'cutoff', 'jean', 'keeping', 'doubt', 'thats', 'whats', 'driving', 'crazy', 'driving', 'crazy']\"\n        ],\n        \"semantic_type\": \"\",\n        \"description\": \"\"\n      }\n    },\n    {\n      \"column\": \"GENDER\",\n      \"properties\": {\n        \"dtype\": \"category\",\n        \"num_unique_values\": 2,\n        \"samples\": [\n          \"male\",\n          \"female\"\n        ],\n        \"semantic_type\": \"\",\n        \"description\": \"\"\n      }\n    }\n  ]\n}"
            }
          },
          "metadata": {},
          "execution_count": 43
        }
      ],
      "source": [
        "\n",
        "df4 = pd.read_csv('cleaned_eda.csv')\n",
        "df4.head()"
      ]
    },
    {
      "cell_type": "code",
      "execution_count": 44,
      "id": "784bae9f",
      "metadata": {
        "colab": {
          "base_uri": "https://localhost:8080/"
        },
        "id": "784bae9f",
        "outputId": "789908a2-908b-4ab6-84d8-ea1ec24e5f97"
      },
      "outputs": [
        {
          "output_type": "stream",
          "name": "stderr",
          "text": [
            "[nltk_data] Downloading package punkt_tab to /root/nltk_data...\n",
            "[nltk_data]   Package punkt_tab is already up-to-date!\n",
            "[nltk_data] Downloading package wordnet to /root/nltk_data...\n",
            "[nltk_data]   Package wordnet is already up-to-date!\n"
          ]
        }
      ],
      "source": [
        "import pandas as pd\n",
        "import re\n",
        "from nltk.tokenize import word_tokenize\n",
        "from nltk.corpus import stopwords\n",
        "from nltk.stem import WordNetLemmatizer\n",
        "\n",
        "# Create a simple clean-up function for the lyrics\n",
        "def clean_lyrics(text):\n",
        "    text = re.sub(r'[^a-zA-Z0-9\\s!?]', '', text)\n",
        "    text = text.lower()\n",
        "    text = re.sub(r'\\s+', ' ', text).strip()\n",
        "    return text\n",
        "\n",
        "# Tokenize the lyrics using nltk's word_tokenize\n",
        "def tokenize_lyrics(text):\n",
        "    return word_tokenize(text)\n",
        "\n",
        "# Lemmatize the tokens using WordNetLemmatizer\n",
        "wnl = WordNetLemmatizer()\n",
        "def lemmatize_lyrics(tokens):\n",
        "    return [wnl.lemmatize(word) for word in tokens]\n",
        "\n",
        "df = df4\n",
        "\n",
        "df['clean_lyrics'] = df['lemmatized_lyrics'].apply(clean_lyrics)\n",
        "import nltk\n",
        "nltk.download('punkt_tab')\n",
        "nltk.download('wordnet')\n",
        "df['tokenized_lyrics'] = df['clean_lyrics'].apply(tokenize_lyrics)\n",
        "df['lemmatized_lyrics'] = df['tokenized_lyrics'].apply(lemmatize_lyrics)\n"
      ]
    },
    {
      "cell_type": "code",
      "execution_count": 45,
      "id": "55dde7f2",
      "metadata": {
        "id": "55dde7f2"
      },
      "outputs": [],
      "source": [
        "# Create vocabulary and encode sequences\n",
        "all_words = [word for sentence in df['lemmatized_lyrics'] for word in sentence]\n",
        "vocab = {word: idx + 1 for idx, word in enumerate(set(all_words))}  # Map words to indices\n",
        "\n",
        "def text_to_sequence(text, vocab):\n",
        "    return [vocab.get(word, 0) for word in text]  # Use 0 for out-of-vocab words\n",
        "\n",
        "df['lyrics_seq'] = df['lemmatized_lyrics'].apply(lambda x: text_to_sequence(x, vocab))\n"
      ]
    },
    {
      "cell_type": "code",
      "source": [
        "#Padding sequences to the same length\n",
        "max_len = 100\n",
        "def pad_sequence(sequences, max_len):\n",
        "    return [seq[:max_len] + [0] * (max_len - len(seq)) if len(seq) < max_len else seq[:max_len] for seq in sequences]\n",
        "\n",
        "df['padded_lyrics'] = pad_sequence(df['lyrics_seq'], max_len)\n"
      ],
      "metadata": {
        "id": "tUN0CYlyCAZc"
      },
      "id": "tUN0CYlyCAZc",
      "execution_count": 46,
      "outputs": []
    },
    {
      "cell_type": "code",
      "source": [
        "from sklearn.preprocessing import LabelEncoder\n",
        "\n",
        "# Convert labels (gender) to numeric values using LabelEncoder\n",
        "label_encoder = LabelEncoder()\n",
        "df['gender_label'] = label_encoder.fit_transform(df['GENDER'])\n"
      ],
      "metadata": {
        "id": "EK4ovuOACPI3"
      },
      "id": "EK4ovuOACPI3",
      "execution_count": 47,
      "outputs": []
    },
    {
      "cell_type": "code",
      "source": [
        "import numpy as np # Import numpy and assign it to the alias 'np'\n",
        "\n",
        "from sklearn.model_selection import train_test_split\n",
        "\n",
        "# Split data into training and testing sets\n",
        "X = np.array(df['padded_lyrics'].tolist())\n",
        "y = np.array(df['gender_label'])\n",
        "\n",
        "X_train, X_test, y_train, y_test = train_test_split(X, y, test_size=0.2, random_state=42)"
      ],
      "metadata": {
        "id": "wAdWQMMOCS-r"
      },
      "id": "wAdWQMMOCS-r",
      "execution_count": 48,
      "outputs": []
    },
    {
      "cell_type": "code",
      "source": [
        "import torch\n",
        "\n",
        "# Convert to PyTorch tensors\n",
        "X_train = torch.tensor(X_train).float()\n",
        "X_test = torch.tensor(X_test).float()\n",
        "y_train = torch.tensor(y_train)\n",
        "y_test = torch.tensor(y_test)\n"
      ],
      "metadata": {
        "id": "gb6BzrZsCWY4"
      },
      "id": "gb6BzrZsCWY4",
      "execution_count": 49,
      "outputs": []
    },
    {
      "cell_type": "code",
      "source": [
        "from torch.utils.data import DataLoader, TensorDataset\n",
        "\n",
        "# Create DataLoader for batching\n",
        "train_dataset = TensorDataset(X_train, y_train)\n",
        "test_dataset = TensorDataset(X_test, y_test)\n",
        "\n",
        "train_loader = DataLoader(train_dataset, batch_size=32, shuffle=True)\n",
        "test_loader = DataLoader(test_dataset, batch_size=32, shuffle=False)\n"
      ],
      "metadata": {
        "id": "a0snBW8XCZkm"
      },
      "id": "a0snBW8XCZkm",
      "execution_count": 50,
      "outputs": []
    },
    {
      "cell_type": "code",
      "source": [
        "import torch.nn as nn\n",
        "\n",
        "class RNNModel(nn.Module):\n",
        "    def __init__(self, vocab_size, embed_dim, hidden_size, output_size, num_layers=2):\n",
        "        super().__init__()\n",
        "        self.embedding = nn.Embedding(vocab_size+1, embed_dim, padding_idx=0)\n",
        "        self.rnn = nn.RNN(embed_dim, hidden_size, num_layers, batch_first=True)\n",
        "        self.fc = nn.Linear(hidden_size, output_size)\n",
        "\n",
        "    def forward(self, x):\n",
        "        x = self.embedding(x.long())\n",
        "        rnn_out, _ = self.rnn(x)\n",
        "        last = rnn_out[:, -1, :]\n",
        "        return self.fc(last)\n"
      ],
      "metadata": {
        "id": "3Upj_cCKCcA4"
      },
      "id": "3Upj_cCKCcA4",
      "execution_count": 51,
      "outputs": []
    },
    {
      "cell_type": "code",
      "source": [
        "vocab_size = len(vocab)\n",
        "embed_dim  = 100\n",
        "hidden_size= 128\n",
        "num_classes= 2\n",
        "\n",
        "model = RNNModel(vocab_size, embed_dim, hidden_size, num_classes)\n"
      ],
      "metadata": {
        "id": "4gBSVEeHQFYL"
      },
      "id": "4gBSVEeHQFYL",
      "execution_count": 52,
      "outputs": []
    },
    {
      "cell_type": "code",
      "source": [
        "X_train = torch.tensor(X_train, dtype=torch.long)\n",
        "X_test  = torch.tensor(X_test,  dtype=torch.long)\n"
      ],
      "metadata": {
        "colab": {
          "base_uri": "https://localhost:8080/"
        },
        "id": "AUzx0X-hQKhz",
        "outputId": "d7fbb687-1daf-42ad-e626-9d62fecfc58f"
      },
      "id": "AUzx0X-hQKhz",
      "execution_count": 53,
      "outputs": [
        {
          "output_type": "stream",
          "name": "stderr",
          "text": [
            "<ipython-input-53-e3852df3472b>:1: UserWarning: To copy construct from a tensor, it is recommended to use sourceTensor.clone().detach() or sourceTensor.clone().detach().requires_grad_(True), rather than torch.tensor(sourceTensor).\n",
            "  X_train = torch.tensor(X_train, dtype=torch.long)\n",
            "<ipython-input-53-e3852df3472b>:2: UserWarning: To copy construct from a tensor, it is recommended to use sourceTensor.clone().detach() or sourceTensor.clone().detach().requires_grad_(True), rather than torch.tensor(sourceTensor).\n",
            "  X_test  = torch.tensor(X_test,  dtype=torch.long)\n"
          ]
        }
      ]
    },
    {
      "cell_type": "code",
      "source": [
        "import torch\n",
        "\n",
        "counts = np.bincount(y_train.numpy())\n",
        "weights = 1. / counts\n",
        "class_weights = torch.tensor(weights, dtype=torch.float)\n",
        "\n",
        "criterion = nn.CrossEntropyLoss(weight=class_weights)\n"
      ],
      "metadata": {
        "id": "ygH0xB0dQPnr"
      },
      "id": "ygH0xB0dQPnr",
      "execution_count": 54,
      "outputs": []
    },
    {
      "cell_type": "code",
      "source": [
        "\n",
        "optimizer = torch.optim.SGD(model.parameters(), lr=0.001, momentum=0.9)\n",
        "\n",
        "\n",
        "# learning rate\n",
        "lr = 0.001\n",
        "\n",
        "for epoch in range(num_epochs):\n",
        "    model.train()\n",
        "    total_loss = 0.0\n",
        "\n",
        "    for inputs, labels in train_loader:\n",
        "        model.zero_grad()\n",
        "\n",
        "        outputs = model(inputs)\n",
        "        loss = criterion(outputs, labels)\n",
        "        loss.backward()\n",
        "\n",
        "        with torch.no_grad():\n",
        "            for param in model.parameters():\n",
        "                param.data -= lr * param.grad\n",
        "\n",
        "        total_loss += loss.item()\n",
        "\n",
        "    print(f\"Epoch [{epoch+1}/{num_epochs}], Loss: {total_loss/len(train_loader):.4f}\")\n"
      ],
      "metadata": {
        "colab": {
          "base_uri": "https://localhost:8080/"
        },
        "id": "br9IL8yEVLFw",
        "outputId": "3a74aa79-7078-437b-9f8f-014878e659a8"
      },
      "id": "br9IL8yEVLFw",
      "execution_count": 55,
      "outputs": [
        {
          "output_type": "stream",
          "name": "stdout",
          "text": [
            "Epoch [1/5], Loss: 0.6951\n",
            "Epoch [2/5], Loss: 0.6939\n",
            "Epoch [3/5], Loss: 0.6931\n",
            "Epoch [4/5], Loss: 0.6922\n",
            "Epoch [5/5], Loss: 0.6916\n"
          ]
        }
      ]
    },
    {
      "cell_type": "code",
      "source": [
        "from sklearn.metrics import accuracy_score, classification_report\n",
        "\n",
        "model.eval()\n",
        "y_pred = []\n",
        "y_true = []\n",
        "\n",
        "with torch.no_grad():\n",
        "    for batch in test_loader:\n",
        "        inputs, labels = batch\n",
        "        outputs = model(inputs)\n",
        "        _, predicted = torch.max(outputs.data, 1)\n",
        "        y_pred.extend(predicted.numpy())\n",
        "        y_true.extend(labels.numpy())\n",
        "\n",
        "accuracy = accuracy_score(y_true, y_pred)\n",
        "print(f\"Accuracy: {accuracy * 100:.2f}%\")\n",
        "print(\"Classification Report:\")\n",
        "print(classification_report(y_true, y_pred, target_names=label_encoder.classes_))\n"
      ],
      "metadata": {
        "colab": {
          "base_uri": "https://localhost:8080/"
        },
        "id": "aye2fbG9DpOq",
        "outputId": "a59f5731-3436-471a-9001-c1f4d3255522"
      },
      "id": "aye2fbG9DpOq",
      "execution_count": 56,
      "outputs": [
        {
          "output_type": "stream",
          "name": "stdout",
          "text": [
            "Accuracy: 64.55%\n",
            "Classification Report:\n",
            "              precision    recall  f1-score   support\n",
            "\n",
            "      female       0.24      0.27      0.25       867\n",
            "        male       0.78      0.75      0.77      3031\n",
            "\n",
            "    accuracy                           0.65      3898\n",
            "   macro avg       0.51      0.51      0.51      3898\n",
            "weighted avg       0.66      0.65      0.65      3898\n",
            "\n"
          ]
        }
      ]
    }
  ],
  "metadata": {
    "kernelspec": {
      "display_name": "Python 3 (ipykernel)",
      "language": "python",
      "name": "python3"
    },
    "language_info": {
      "codemirror_mode": {
        "name": "ipython",
        "version": 3
      },
      "file_extension": ".py",
      "mimetype": "text/x-python",
      "name": "python",
      "nbconvert_exporter": "python",
      "pygments_lexer": "ipython3",
      "version": "3.9.12"
    },
    "colab": {
      "provenance": []
    }
  },
  "nbformat": 4,
  "nbformat_minor": 5
}