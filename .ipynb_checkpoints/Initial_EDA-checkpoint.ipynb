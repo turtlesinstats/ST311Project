{
 "cells": [
  {
   "cell_type": "markdown",
   "id": "2647157e",
   "metadata": {},
   "source": [
    "# EDA and Pre-Processing"
   ]
  },
  {
   "cell_type": "markdown",
   "id": "c7cc729f",
   "metadata": {},
   "source": [
    "## Initial EDA"
   ]
  },
  {
   "cell_type": "code",
   "execution_count": 3,
   "id": "f58d28a8",
   "metadata": {},
   "outputs": [],
   "source": [
    "import pandas as pd"
   ]
  },
  {
   "cell_type": "code",
   "execution_count": 4,
   "id": "11ee2cbc",
   "metadata": {},
   "outputs": [
    {
     "data": {
      "text/html": [
       "<div>\n",
       "<style scoped>\n",
       "    .dataframe tbody tr th:only-of-type {\n",
       "        vertical-align: middle;\n",
       "    }\n",
       "\n",
       "    .dataframe tbody tr th {\n",
       "        vertical-align: top;\n",
       "    }\n",
       "\n",
       "    .dataframe thead th {\n",
       "        text-align: right;\n",
       "    }\n",
       "</style>\n",
       "<table border=\"1\" class=\"dataframe\">\n",
       "  <thead>\n",
       "    <tr style=\"text-align: right;\">\n",
       "      <th></th>\n",
       "      <th>artist</th>\n",
       "      <th>seq</th>\n",
       "      <th>GENDER</th>\n",
       "      <th>IS_BAND</th>\n",
       "    </tr>\n",
       "  </thead>\n",
       "  <tbody>\n",
       "    <tr>\n",
       "      <th>0</th>\n",
       "      <td>Elizabeth Naccarato</td>\n",
       "      <td>Oh, Danny boy, the pipes, the pipes are callin...</td>\n",
       "      <td>female</td>\n",
       "      <td>False</td>\n",
       "    </tr>\n",
       "    <tr>\n",
       "      <th>1</th>\n",
       "      <td>Ella Fitzgerald</td>\n",
       "      <td>I never feel a thing is real\\r\\nWhen I'm away ...</td>\n",
       "      <td>female</td>\n",
       "      <td>False</td>\n",
       "    </tr>\n",
       "    <tr>\n",
       "      <th>2</th>\n",
       "      <td>Ella Fitzgerald</td>\n",
       "      <td>I really can't stay\\r\\nBut, baby, it's cold ou...</td>\n",
       "      <td>female</td>\n",
       "      <td>False</td>\n",
       "    </tr>\n",
       "    <tr>\n",
       "      <th>3</th>\n",
       "      <td>Ella Fitzgerald</td>\n",
       "      <td>All my life\\r\\nI've been waiting for you\\r\\nMy...</td>\n",
       "      <td>female</td>\n",
       "      <td>False</td>\n",
       "    </tr>\n",
       "    <tr>\n",
       "      <th>4</th>\n",
       "      <td>Ella Fitzgerald</td>\n",
       "      <td>I'll be down to get you in a taxi honey\\r\\nBet...</td>\n",
       "      <td>female</td>\n",
       "      <td>False</td>\n",
       "    </tr>\n",
       "  </tbody>\n",
       "</table>\n",
       "</div>"
      ],
      "text/plain": [
       "                artist                                                seq  \\\n",
       "0  Elizabeth Naccarato  Oh, Danny boy, the pipes, the pipes are callin...   \n",
       "1      Ella Fitzgerald  I never feel a thing is real\\r\\nWhen I'm away ...   \n",
       "2      Ella Fitzgerald  I really can't stay\\r\\nBut, baby, it's cold ou...   \n",
       "3      Ella Fitzgerald  All my life\\r\\nI've been waiting for you\\r\\nMy...   \n",
       "4      Ella Fitzgerald  I'll be down to get you in a taxi honey\\r\\nBet...   \n",
       "\n",
       "   GENDER IS_BAND  \n",
       "0  female   False  \n",
       "1  female   False  \n",
       "2  female   False  \n",
       "3  female   False  \n",
       "4  female   False  "
      ]
     },
     "execution_count": 4,
     "metadata": {},
     "output_type": "execute_result"
    }
   ],
   "source": [
    "df = pd.read_csv('data/cleaned_lyrics_gender.csv')\n",
    "df.head()"
   ]
  },
  {
   "cell_type": "code",
   "execution_count": 5,
   "id": "1e07b59a",
   "metadata": {},
   "outputs": [
    {
     "name": "stdout",
     "output_type": "stream",
     "text": [
      "<class 'pandas.core.frame.DataFrame'>\n",
      "RangeIndex: 21057 entries, 0 to 21056\n",
      "Data columns (total 4 columns):\n",
      " #   Column   Non-Null Count  Dtype \n",
      "---  ------   --------------  ----- \n",
      " 0   artist   21057 non-null  object\n",
      " 1   seq      21057 non-null  object\n",
      " 2   GENDER   21057 non-null  object\n",
      " 3   IS_BAND  21054 non-null  object\n",
      "dtypes: object(4)\n",
      "memory usage: 658.2+ KB\n"
     ]
    }
   ],
   "source": [
    "df.info()"
   ]
  },
  {
   "cell_type": "code",
   "execution_count": 6,
   "id": "a6607af6",
   "metadata": {},
   "outputs": [],
   "source": [
    "df = df[df['GENDER'].isin(['female', 'male'])]"
   ]
  },
  {
   "cell_type": "code",
   "execution_count": 7,
   "id": "8e561c67",
   "metadata": {},
   "outputs": [
    {
     "data": {
      "text/plain": [
       "19721"
      ]
     },
     "execution_count": 7,
     "metadata": {},
     "output_type": "execute_result"
    }
   ],
   "source": [
    "len(df)"
   ]
  },
  {
   "cell_type": "code",
   "execution_count": 8,
   "id": "0b825cd8",
   "metadata": {},
   "outputs": [
    {
     "data": {
      "text/plain": [
       "male      0.777952\n",
       "female    0.222048\n",
       "Name: GENDER, dtype: float64"
      ]
     },
     "execution_count": 8,
     "metadata": {},
     "output_type": "execute_result"
    }
   ],
   "source": [
    "gender_proportions = df['GENDER'].value_counts(normalize=True)\n",
    "gender_proportions"
   ]
  },
  {
   "cell_type": "code",
   "execution_count": 9,
   "id": "140ead5f",
   "metadata": {},
   "outputs": [
    {
     "data": {
      "text/plain": [
       "False    0.600771\n",
       "True     0.399229\n",
       "Name: IS_BAND, dtype: float64"
      ]
     },
     "execution_count": 9,
     "metadata": {},
     "output_type": "execute_result"
    }
   ],
   "source": [
    "band_proportions = df['IS_BAND'].value_counts(normalize=True)\n",
    "band_proportions"
   ]
  },
  {
   "cell_type": "markdown",
   "id": "40531f85",
   "metadata": {},
   "source": [
    "Now look at lyrics"
   ]
  },
  {
   "cell_type": "code",
   "execution_count": 10,
   "id": "f5a5ab5f",
   "metadata": {},
   "outputs": [
    {
     "data": {
      "text/plain": [
       "\"Oh, Danny boy, the pipes, the pipes are calling\\r\\nFrom glen to glen, and down the mountain side.\\r\\nThe summer's gone, and all the roses falling,\\r\\nIt's you, it's you must go and I must bide.\\r\\n\\r\\nBut come ye back when summer's in the meadow,\\r\\nOr when the valley's hushed and white with snow,\\r\\nIt's I'll be here in sunshine or in shadow,\\r\\nOh, Danny boy, oh Danny boy, I love you so!\\r\\n\\r\\nBut when ye come, and all the flowers are dying,\\r\\nIf I am dead, as dead I well may be,\\r\\nYou'll come and find the place where I am lying,\\r\\nAnd kneel and say an Ave there for me.\\r\\nAnd I shall hear, though soft you tread above me,\\r\\nAnd all my grave will warmer, sweeter be,\\r\\nFor you will bend and tell me that you love me,\\r\\nAnd I shall sleep in peace until you come to me!\""
      ]
     },
     "execution_count": 10,
     "metadata": {},
     "output_type": "execute_result"
    }
   ],
   "source": [
    "df['seq'].iloc[0]"
   ]
  },
  {
   "cell_type": "markdown",
   "id": "14c1b2b7",
   "metadata": {},
   "source": [
    "## Data Pre-Procesing"
   ]
  },
  {
   "cell_type": "markdown",
   "id": "945b4a2a",
   "metadata": {},
   "source": [
    "### Loading Libraries"
   ]
  },
  {
   "cell_type": "code",
   "execution_count": 11,
   "id": "43d4f0ea",
   "metadata": {},
   "outputs": [],
   "source": [
    "import re\n",
    "\n",
    "import nltk\n",
    "from nltk.corpus import stopwords\n",
    "from nltk.tokenize import word_tokenize\n",
    "from nltk.stem import WordNetLemmatizer"
   ]
  },
  {
   "cell_type": "code",
   "execution_count": 12,
   "id": "c3525cde",
   "metadata": {},
   "outputs": [
    {
     "name": "stderr",
     "output_type": "stream",
     "text": [
      "[nltk_data] Downloading package stopwords to\n",
      "[nltk_data]     C:\\Users\\asus\\AppData\\Roaming\\nltk_data...\n",
      "[nltk_data]   Unzipping corpora\\stopwords.zip.\n",
      "[nltk_data] Downloading package punkt to\n",
      "[nltk_data]     C:\\Users\\asus\\AppData\\Roaming\\nltk_data...\n",
      "[nltk_data]   Package punkt is already up-to-date!\n",
      "[nltk_data] Downloading package wordnet to\n",
      "[nltk_data]     C:\\Users\\asus\\AppData\\Roaming\\nltk_data...\n",
      "[nltk_data]   Package wordnet is already up-to-date!\n"
     ]
    },
    {
     "data": {
      "text/plain": [
       "True"
      ]
     },
     "execution_count": 12,
     "metadata": {},
     "output_type": "execute_result"
    }
   ],
   "source": [
    "nltk.download('stopwords')\n",
    "nltk.download('punkt') \n",
    "nltk.download('wordnet')"
   ]
  },
  {
   "cell_type": "code",
   "execution_count": 13,
   "id": "70df6ab8",
   "metadata": {},
   "outputs": [
    {
     "name": "stderr",
     "output_type": "stream",
     "text": [
      "[nltk_data] Downloading package omw-1.4 to\n",
      "[nltk_data]     C:\\Users\\asus\\AppData\\Roaming\\nltk_data...\n",
      "[nltk_data]   Package omw-1.4 is already up-to-date!\n"
     ]
    },
    {
     "data": {
      "text/plain": [
       "True"
      ]
     },
     "execution_count": 13,
     "metadata": {},
     "output_type": "execute_result"
    }
   ],
   "source": [
    "nltk.download('omw-1.4')"
   ]
  },
  {
   "cell_type": "markdown",
   "id": "92fc6709",
   "metadata": {},
   "source": [
    "### Cleaning Lyrics"
   ]
  },
  {
   "cell_type": "markdown",
   "id": "84ce02cc",
   "metadata": {},
   "source": [
    "Here, we use the `re` library to clean the lyrics by keeping only desired charachters, turnig to lowercase and removing spaces."
   ]
  },
  {
   "cell_type": "code",
   "execution_count": 14,
   "id": "026d343b",
   "metadata": {},
   "outputs": [],
   "source": [
    "def clean_lyrics(text):\n",
    "    text = re.sub(r'[^a-zA-Z0-9\\s!?]', '', text)  \n",
    "    text = text.lower()\n",
    "    text = re.sub(r'\\s+', ' ', text).strip()\n",
    "    return text"
   ]
  },
  {
   "cell_type": "code",
   "execution_count": 15,
   "id": "53097978",
   "metadata": {},
   "outputs": [],
   "source": [
    "df['clean_lyrics'] = df['seq'].apply(clean_lyrics)"
   ]
  },
  {
   "cell_type": "code",
   "execution_count": 16,
   "id": "48e588c4",
   "metadata": {},
   "outputs": [
    {
     "data": {
      "text/html": [
       "<div>\n",
       "<style scoped>\n",
       "    .dataframe tbody tr th:only-of-type {\n",
       "        vertical-align: middle;\n",
       "    }\n",
       "\n",
       "    .dataframe tbody tr th {\n",
       "        vertical-align: top;\n",
       "    }\n",
       "\n",
       "    .dataframe thead th {\n",
       "        text-align: right;\n",
       "    }\n",
       "</style>\n",
       "<table border=\"1\" class=\"dataframe\">\n",
       "  <thead>\n",
       "    <tr style=\"text-align: right;\">\n",
       "      <th></th>\n",
       "      <th>artist</th>\n",
       "      <th>seq</th>\n",
       "      <th>GENDER</th>\n",
       "      <th>IS_BAND</th>\n",
       "      <th>clean_lyrics</th>\n",
       "    </tr>\n",
       "  </thead>\n",
       "  <tbody>\n",
       "    <tr>\n",
       "      <th>0</th>\n",
       "      <td>Elizabeth Naccarato</td>\n",
       "      <td>Oh, Danny boy, the pipes, the pipes are callin...</td>\n",
       "      <td>female</td>\n",
       "      <td>False</td>\n",
       "      <td>oh danny boy the pipes the pipes are calling f...</td>\n",
       "    </tr>\n",
       "    <tr>\n",
       "      <th>1</th>\n",
       "      <td>Ella Fitzgerald</td>\n",
       "      <td>I never feel a thing is real\\r\\nWhen I'm away ...</td>\n",
       "      <td>female</td>\n",
       "      <td>False</td>\n",
       "      <td>i never feel a thing is real when im away from...</td>\n",
       "    </tr>\n",
       "    <tr>\n",
       "      <th>2</th>\n",
       "      <td>Ella Fitzgerald</td>\n",
       "      <td>I really can't stay\\r\\nBut, baby, it's cold ou...</td>\n",
       "      <td>female</td>\n",
       "      <td>False</td>\n",
       "      <td>i really cant stay but baby its cold outside i...</td>\n",
       "    </tr>\n",
       "    <tr>\n",
       "      <th>3</th>\n",
       "      <td>Ella Fitzgerald</td>\n",
       "      <td>All my life\\r\\nI've been waiting for you\\r\\nMy...</td>\n",
       "      <td>female</td>\n",
       "      <td>False</td>\n",
       "      <td>all my life ive been waiting for you my wonder...</td>\n",
       "    </tr>\n",
       "    <tr>\n",
       "      <th>4</th>\n",
       "      <td>Ella Fitzgerald</td>\n",
       "      <td>I'll be down to get you in a taxi honey\\r\\nBet...</td>\n",
       "      <td>female</td>\n",
       "      <td>False</td>\n",
       "      <td>ill be down to get you in a taxi honey better ...</td>\n",
       "    </tr>\n",
       "  </tbody>\n",
       "</table>\n",
       "</div>"
      ],
      "text/plain": [
       "                artist                                                seq  \\\n",
       "0  Elizabeth Naccarato  Oh, Danny boy, the pipes, the pipes are callin...   \n",
       "1      Ella Fitzgerald  I never feel a thing is real\\r\\nWhen I'm away ...   \n",
       "2      Ella Fitzgerald  I really can't stay\\r\\nBut, baby, it's cold ou...   \n",
       "3      Ella Fitzgerald  All my life\\r\\nI've been waiting for you\\r\\nMy...   \n",
       "4      Ella Fitzgerald  I'll be down to get you in a taxi honey\\r\\nBet...   \n",
       "\n",
       "   GENDER IS_BAND                                       clean_lyrics  \n",
       "0  female   False  oh danny boy the pipes the pipes are calling f...  \n",
       "1  female   False  i never feel a thing is real when im away from...  \n",
       "2  female   False  i really cant stay but baby its cold outside i...  \n",
       "3  female   False  all my life ive been waiting for you my wonder...  \n",
       "4  female   False  ill be down to get you in a taxi honey better ...  "
      ]
     },
     "execution_count": 16,
     "metadata": {},
     "output_type": "execute_result"
    }
   ],
   "source": [
    "df.head()"
   ]
  },
  {
   "cell_type": "markdown",
   "id": "3643e95f",
   "metadata": {},
   "source": [
    "### Tokenize Lyrics"
   ]
  },
  {
   "cell_type": "markdown",
   "id": "ff697f70",
   "metadata": {},
   "source": [
    "Tokenize from `NLTK` will be used to tokenoze the lyrics.\n",
    "For reference if needed: https://www.nltk.org/api/nltk.tokenize.word_tokenize.html#nltk-tokenize-word-tokenize "
   ]
  },
  {
   "cell_type": "code",
   "execution_count": 17,
   "id": "79111819",
   "metadata": {},
   "outputs": [],
   "source": [
    "def tokenize_lyrics(text):\n",
    "    return word_tokenize(text)\n",
    "\n",
    "df['tokenized_lyrics'] = df['clean_lyrics'].apply(tokenize_lyrics)"
   ]
  },
  {
   "cell_type": "code",
   "execution_count": 18,
   "id": "fb0b2a9b",
   "metadata": {},
   "outputs": [
    {
     "data": {
      "text/html": [
       "<div>\n",
       "<style scoped>\n",
       "    .dataframe tbody tr th:only-of-type {\n",
       "        vertical-align: middle;\n",
       "    }\n",
       "\n",
       "    .dataframe tbody tr th {\n",
       "        vertical-align: top;\n",
       "    }\n",
       "\n",
       "    .dataframe thead th {\n",
       "        text-align: right;\n",
       "    }\n",
       "</style>\n",
       "<table border=\"1\" class=\"dataframe\">\n",
       "  <thead>\n",
       "    <tr style=\"text-align: right;\">\n",
       "      <th></th>\n",
       "      <th>artist</th>\n",
       "      <th>seq</th>\n",
       "      <th>GENDER</th>\n",
       "      <th>IS_BAND</th>\n",
       "      <th>clean_lyrics</th>\n",
       "      <th>tokenized_lyrics</th>\n",
       "    </tr>\n",
       "  </thead>\n",
       "  <tbody>\n",
       "    <tr>\n",
       "      <th>0</th>\n",
       "      <td>Elizabeth Naccarato</td>\n",
       "      <td>Oh, Danny boy, the pipes, the pipes are callin...</td>\n",
       "      <td>female</td>\n",
       "      <td>False</td>\n",
       "      <td>oh danny boy the pipes the pipes are calling f...</td>\n",
       "      <td>[oh, danny, boy, the, pipes, the, pipes, are, ...</td>\n",
       "    </tr>\n",
       "    <tr>\n",
       "      <th>1</th>\n",
       "      <td>Ella Fitzgerald</td>\n",
       "      <td>I never feel a thing is real\\r\\nWhen I'm away ...</td>\n",
       "      <td>female</td>\n",
       "      <td>False</td>\n",
       "      <td>i never feel a thing is real when im away from...</td>\n",
       "      <td>[i, never, feel, a, thing, is, real, when, im,...</td>\n",
       "    </tr>\n",
       "    <tr>\n",
       "      <th>2</th>\n",
       "      <td>Ella Fitzgerald</td>\n",
       "      <td>I really can't stay\\r\\nBut, baby, it's cold ou...</td>\n",
       "      <td>female</td>\n",
       "      <td>False</td>\n",
       "      <td>i really cant stay but baby its cold outside i...</td>\n",
       "      <td>[i, really, cant, stay, but, baby, its, cold, ...</td>\n",
       "    </tr>\n",
       "    <tr>\n",
       "      <th>3</th>\n",
       "      <td>Ella Fitzgerald</td>\n",
       "      <td>All my life\\r\\nI've been waiting for you\\r\\nMy...</td>\n",
       "      <td>female</td>\n",
       "      <td>False</td>\n",
       "      <td>all my life ive been waiting for you my wonder...</td>\n",
       "      <td>[all, my, life, ive, been, waiting, for, you, ...</td>\n",
       "    </tr>\n",
       "    <tr>\n",
       "      <th>4</th>\n",
       "      <td>Ella Fitzgerald</td>\n",
       "      <td>I'll be down to get you in a taxi honey\\r\\nBet...</td>\n",
       "      <td>female</td>\n",
       "      <td>False</td>\n",
       "      <td>ill be down to get you in a taxi honey better ...</td>\n",
       "      <td>[ill, be, down, to, get, you, in, a, taxi, hon...</td>\n",
       "    </tr>\n",
       "  </tbody>\n",
       "</table>\n",
       "</div>"
      ],
      "text/plain": [
       "                artist                                                seq  \\\n",
       "0  Elizabeth Naccarato  Oh, Danny boy, the pipes, the pipes are callin...   \n",
       "1      Ella Fitzgerald  I never feel a thing is real\\r\\nWhen I'm away ...   \n",
       "2      Ella Fitzgerald  I really can't stay\\r\\nBut, baby, it's cold ou...   \n",
       "3      Ella Fitzgerald  All my life\\r\\nI've been waiting for you\\r\\nMy...   \n",
       "4      Ella Fitzgerald  I'll be down to get you in a taxi honey\\r\\nBet...   \n",
       "\n",
       "   GENDER IS_BAND                                       clean_lyrics  \\\n",
       "0  female   False  oh danny boy the pipes the pipes are calling f...   \n",
       "1  female   False  i never feel a thing is real when im away from...   \n",
       "2  female   False  i really cant stay but baby its cold outside i...   \n",
       "3  female   False  all my life ive been waiting for you my wonder...   \n",
       "4  female   False  ill be down to get you in a taxi honey better ...   \n",
       "\n",
       "                                    tokenized_lyrics  \n",
       "0  [oh, danny, boy, the, pipes, the, pipes, are, ...  \n",
       "1  [i, never, feel, a, thing, is, real, when, im,...  \n",
       "2  [i, really, cant, stay, but, baby, its, cold, ...  \n",
       "3  [all, my, life, ive, been, waiting, for, you, ...  \n",
       "4  [ill, be, down, to, get, you, in, a, taxi, hon...  "
      ]
     },
     "execution_count": 18,
     "metadata": {},
     "output_type": "execute_result"
    }
   ],
   "source": [
    "df.head()"
   ]
  },
  {
   "cell_type": "markdown",
   "id": "c1294605",
   "metadata": {},
   "source": [
    "### Stopword Removal"
   ]
  },
  {
   "cell_type": "markdown",
   "id": "61fcd835",
   "metadata": {},
   "source": [
    "We loop through every token to see if it present in the stopwords, and remove it if it is."
   ]
  },
  {
   "cell_type": "code",
   "execution_count": 19,
   "id": "69b62310",
   "metadata": {},
   "outputs": [],
   "source": [
    "stop_words = set(stopwords.words('english'))"
   ]
  },
  {
   "cell_type": "code",
   "execution_count": 20,
   "id": "edaa951e",
   "metadata": {},
   "outputs": [],
   "source": [
    "def remove_stopwords(tokens):\n",
    "    return [word for word in tokens if word not in stop_words]\n",
    "\n",
    "df['filtered_lyrics'] = df['tokenized_lyrics'].apply(remove_stopwords)"
   ]
  },
  {
   "cell_type": "code",
   "execution_count": 21,
   "id": "685876d0",
   "metadata": {},
   "outputs": [
    {
     "data": {
      "text/html": [
       "<div>\n",
       "<style scoped>\n",
       "    .dataframe tbody tr th:only-of-type {\n",
       "        vertical-align: middle;\n",
       "    }\n",
       "\n",
       "    .dataframe tbody tr th {\n",
       "        vertical-align: top;\n",
       "    }\n",
       "\n",
       "    .dataframe thead th {\n",
       "        text-align: right;\n",
       "    }\n",
       "</style>\n",
       "<table border=\"1\" class=\"dataframe\">\n",
       "  <thead>\n",
       "    <tr style=\"text-align: right;\">\n",
       "      <th></th>\n",
       "      <th>artist</th>\n",
       "      <th>seq</th>\n",
       "      <th>GENDER</th>\n",
       "      <th>IS_BAND</th>\n",
       "      <th>clean_lyrics</th>\n",
       "      <th>tokenized_lyrics</th>\n",
       "      <th>filtered_lyrics</th>\n",
       "    </tr>\n",
       "  </thead>\n",
       "  <tbody>\n",
       "    <tr>\n",
       "      <th>0</th>\n",
       "      <td>Elizabeth Naccarato</td>\n",
       "      <td>Oh, Danny boy, the pipes, the pipes are callin...</td>\n",
       "      <td>female</td>\n",
       "      <td>False</td>\n",
       "      <td>oh danny boy the pipes the pipes are calling f...</td>\n",
       "      <td>[oh, danny, boy, the, pipes, the, pipes, are, ...</td>\n",
       "      <td>[oh, danny, boy, pipes, pipes, calling, glen, ...</td>\n",
       "    </tr>\n",
       "    <tr>\n",
       "      <th>1</th>\n",
       "      <td>Ella Fitzgerald</td>\n",
       "      <td>I never feel a thing is real\\r\\nWhen I'm away ...</td>\n",
       "      <td>female</td>\n",
       "      <td>False</td>\n",
       "      <td>i never feel a thing is real when im away from...</td>\n",
       "      <td>[i, never, feel, a, thing, is, real, when, im,...</td>\n",
       "      <td>[never, feel, thing, real, im, away, embrace, ...</td>\n",
       "    </tr>\n",
       "    <tr>\n",
       "      <th>2</th>\n",
       "      <td>Ella Fitzgerald</td>\n",
       "      <td>I really can't stay\\r\\nBut, baby, it's cold ou...</td>\n",
       "      <td>female</td>\n",
       "      <td>False</td>\n",
       "      <td>i really cant stay but baby its cold outside i...</td>\n",
       "      <td>[i, really, cant, stay, but, baby, its, cold, ...</td>\n",
       "      <td>[really, cant, stay, baby, cold, outside, got,...</td>\n",
       "    </tr>\n",
       "    <tr>\n",
       "      <th>3</th>\n",
       "      <td>Ella Fitzgerald</td>\n",
       "      <td>All my life\\r\\nI've been waiting for you\\r\\nMy...</td>\n",
       "      <td>female</td>\n",
       "      <td>False</td>\n",
       "      <td>all my life ive been waiting for you my wonder...</td>\n",
       "      <td>[all, my, life, ive, been, waiting, for, you, ...</td>\n",
       "      <td>[life, ive, waiting, wonderful, one, ive, begu...</td>\n",
       "    </tr>\n",
       "    <tr>\n",
       "      <th>4</th>\n",
       "      <td>Ella Fitzgerald</td>\n",
       "      <td>I'll be down to get you in a taxi honey\\r\\nBet...</td>\n",
       "      <td>female</td>\n",
       "      <td>False</td>\n",
       "      <td>ill be down to get you in a taxi honey better ...</td>\n",
       "      <td>[ill, be, down, to, get, you, in, a, taxi, hon...</td>\n",
       "      <td>[ill, get, taxi, honey, better, ready, bout, h...</td>\n",
       "    </tr>\n",
       "  </tbody>\n",
       "</table>\n",
       "</div>"
      ],
      "text/plain": [
       "                artist                                                seq  \\\n",
       "0  Elizabeth Naccarato  Oh, Danny boy, the pipes, the pipes are callin...   \n",
       "1      Ella Fitzgerald  I never feel a thing is real\\r\\nWhen I'm away ...   \n",
       "2      Ella Fitzgerald  I really can't stay\\r\\nBut, baby, it's cold ou...   \n",
       "3      Ella Fitzgerald  All my life\\r\\nI've been waiting for you\\r\\nMy...   \n",
       "4      Ella Fitzgerald  I'll be down to get you in a taxi honey\\r\\nBet...   \n",
       "\n",
       "   GENDER IS_BAND                                       clean_lyrics  \\\n",
       "0  female   False  oh danny boy the pipes the pipes are calling f...   \n",
       "1  female   False  i never feel a thing is real when im away from...   \n",
       "2  female   False  i really cant stay but baby its cold outside i...   \n",
       "3  female   False  all my life ive been waiting for you my wonder...   \n",
       "4  female   False  ill be down to get you in a taxi honey better ...   \n",
       "\n",
       "                                    tokenized_lyrics  \\\n",
       "0  [oh, danny, boy, the, pipes, the, pipes, are, ...   \n",
       "1  [i, never, feel, a, thing, is, real, when, im,...   \n",
       "2  [i, really, cant, stay, but, baby, its, cold, ...   \n",
       "3  [all, my, life, ive, been, waiting, for, you, ...   \n",
       "4  [ill, be, down, to, get, you, in, a, taxi, hon...   \n",
       "\n",
       "                                     filtered_lyrics  \n",
       "0  [oh, danny, boy, pipes, pipes, calling, glen, ...  \n",
       "1  [never, feel, thing, real, im, away, embrace, ...  \n",
       "2  [really, cant, stay, baby, cold, outside, got,...  \n",
       "3  [life, ive, waiting, wonderful, one, ive, begu...  \n",
       "4  [ill, get, taxi, honey, better, ready, bout, h...  "
      ]
     },
     "execution_count": 21,
     "metadata": {},
     "output_type": "execute_result"
    }
   ],
   "source": [
    "df.head()"
   ]
  },
  {
   "cell_type": "markdown",
   "id": "d073f93e",
   "metadata": {},
   "source": [
    "### Lemmatization"
   ]
  },
  {
   "cell_type": "markdown",
   "id": "8dd2ca67",
   "metadata": {},
   "source": [
    "Now we lemmatize the words\n",
    "Source: https://www.nltk.org/api/nltk.stem.WordNetLemmatizer.html?highlight=wordnet"
   ]
  },
  {
   "cell_type": "code",
   "execution_count": 22,
   "id": "daf28177",
   "metadata": {},
   "outputs": [],
   "source": [
    "wnl = WordNetLemmatizer()"
   ]
  },
  {
   "cell_type": "code",
   "execution_count": 23,
   "id": "c919b5ce",
   "metadata": {},
   "outputs": [],
   "source": [
    "def lemmatize_lyrics(tokens):\n",
    "    return [wnl.lemmatize(word) for word in tokens]\n",
    "\n",
    "df['lemmatized_lyrics'] = df['filtered_lyrics'].apply(lemmatize_lyrics)"
   ]
  },
  {
   "cell_type": "code",
   "execution_count": 24,
   "id": "a2895f3e",
   "metadata": {},
   "outputs": [
    {
     "data": {
      "text/html": [
       "<div>\n",
       "<style scoped>\n",
       "    .dataframe tbody tr th:only-of-type {\n",
       "        vertical-align: middle;\n",
       "    }\n",
       "\n",
       "    .dataframe tbody tr th {\n",
       "        vertical-align: top;\n",
       "    }\n",
       "\n",
       "    .dataframe thead th {\n",
       "        text-align: right;\n",
       "    }\n",
       "</style>\n",
       "<table border=\"1\" class=\"dataframe\">\n",
       "  <thead>\n",
       "    <tr style=\"text-align: right;\">\n",
       "      <th></th>\n",
       "      <th>artist</th>\n",
       "      <th>seq</th>\n",
       "      <th>GENDER</th>\n",
       "      <th>IS_BAND</th>\n",
       "      <th>clean_lyrics</th>\n",
       "      <th>tokenized_lyrics</th>\n",
       "      <th>filtered_lyrics</th>\n",
       "      <th>lemmatized_lyrics</th>\n",
       "    </tr>\n",
       "  </thead>\n",
       "  <tbody>\n",
       "    <tr>\n",
       "      <th>0</th>\n",
       "      <td>Elizabeth Naccarato</td>\n",
       "      <td>Oh, Danny boy, the pipes, the pipes are callin...</td>\n",
       "      <td>female</td>\n",
       "      <td>False</td>\n",
       "      <td>oh danny boy the pipes the pipes are calling f...</td>\n",
       "      <td>[oh, danny, boy, the, pipes, the, pipes, are, ...</td>\n",
       "      <td>[oh, danny, boy, pipes, pipes, calling, glen, ...</td>\n",
       "      <td>[oh, danny, boy, pipe, pipe, calling, glen, gl...</td>\n",
       "    </tr>\n",
       "    <tr>\n",
       "      <th>1</th>\n",
       "      <td>Ella Fitzgerald</td>\n",
       "      <td>I never feel a thing is real\\r\\nWhen I'm away ...</td>\n",
       "      <td>female</td>\n",
       "      <td>False</td>\n",
       "      <td>i never feel a thing is real when im away from...</td>\n",
       "      <td>[i, never, feel, a, thing, is, real, when, im,...</td>\n",
       "      <td>[never, feel, thing, real, im, away, embrace, ...</td>\n",
       "      <td>[never, feel, thing, real, im, away, embrace, ...</td>\n",
       "    </tr>\n",
       "    <tr>\n",
       "      <th>2</th>\n",
       "      <td>Ella Fitzgerald</td>\n",
       "      <td>I really can't stay\\r\\nBut, baby, it's cold ou...</td>\n",
       "      <td>female</td>\n",
       "      <td>False</td>\n",
       "      <td>i really cant stay but baby its cold outside i...</td>\n",
       "      <td>[i, really, cant, stay, but, baby, its, cold, ...</td>\n",
       "      <td>[really, cant, stay, baby, cold, outside, got,...</td>\n",
       "      <td>[really, cant, stay, baby, cold, outside, got,...</td>\n",
       "    </tr>\n",
       "    <tr>\n",
       "      <th>3</th>\n",
       "      <td>Ella Fitzgerald</td>\n",
       "      <td>All my life\\r\\nI've been waiting for you\\r\\nMy...</td>\n",
       "      <td>female</td>\n",
       "      <td>False</td>\n",
       "      <td>all my life ive been waiting for you my wonder...</td>\n",
       "      <td>[all, my, life, ive, been, waiting, for, you, ...</td>\n",
       "      <td>[life, ive, waiting, wonderful, one, ive, begu...</td>\n",
       "      <td>[life, ive, waiting, wonderful, one, ive, begu...</td>\n",
       "    </tr>\n",
       "    <tr>\n",
       "      <th>4</th>\n",
       "      <td>Ella Fitzgerald</td>\n",
       "      <td>I'll be down to get you in a taxi honey\\r\\nBet...</td>\n",
       "      <td>female</td>\n",
       "      <td>False</td>\n",
       "      <td>ill be down to get you in a taxi honey better ...</td>\n",
       "      <td>[ill, be, down, to, get, you, in, a, taxi, hon...</td>\n",
       "      <td>[ill, get, taxi, honey, better, ready, bout, h...</td>\n",
       "      <td>[ill, get, taxi, honey, better, ready, bout, h...</td>\n",
       "    </tr>\n",
       "  </tbody>\n",
       "</table>\n",
       "</div>"
      ],
      "text/plain": [
       "                artist                                                seq  \\\n",
       "0  Elizabeth Naccarato  Oh, Danny boy, the pipes, the pipes are callin...   \n",
       "1      Ella Fitzgerald  I never feel a thing is real\\r\\nWhen I'm away ...   \n",
       "2      Ella Fitzgerald  I really can't stay\\r\\nBut, baby, it's cold ou...   \n",
       "3      Ella Fitzgerald  All my life\\r\\nI've been waiting for you\\r\\nMy...   \n",
       "4      Ella Fitzgerald  I'll be down to get you in a taxi honey\\r\\nBet...   \n",
       "\n",
       "   GENDER IS_BAND                                       clean_lyrics  \\\n",
       "0  female   False  oh danny boy the pipes the pipes are calling f...   \n",
       "1  female   False  i never feel a thing is real when im away from...   \n",
       "2  female   False  i really cant stay but baby its cold outside i...   \n",
       "3  female   False  all my life ive been waiting for you my wonder...   \n",
       "4  female   False  ill be down to get you in a taxi honey better ...   \n",
       "\n",
       "                                    tokenized_lyrics  \\\n",
       "0  [oh, danny, boy, the, pipes, the, pipes, are, ...   \n",
       "1  [i, never, feel, a, thing, is, real, when, im,...   \n",
       "2  [i, really, cant, stay, but, baby, its, cold, ...   \n",
       "3  [all, my, life, ive, been, waiting, for, you, ...   \n",
       "4  [ill, be, down, to, get, you, in, a, taxi, hon...   \n",
       "\n",
       "                                     filtered_lyrics  \\\n",
       "0  [oh, danny, boy, pipes, pipes, calling, glen, ...   \n",
       "1  [never, feel, thing, real, im, away, embrace, ...   \n",
       "2  [really, cant, stay, baby, cold, outside, got,...   \n",
       "3  [life, ive, waiting, wonderful, one, ive, begu...   \n",
       "4  [ill, get, taxi, honey, better, ready, bout, h...   \n",
       "\n",
       "                                   lemmatized_lyrics  \n",
       "0  [oh, danny, boy, pipe, pipe, calling, glen, gl...  \n",
       "1  [never, feel, thing, real, im, away, embrace, ...  \n",
       "2  [really, cant, stay, baby, cold, outside, got,...  \n",
       "3  [life, ive, waiting, wonderful, one, ive, begu...  \n",
       "4  [ill, get, taxi, honey, better, ready, bout, h...  "
      ]
     },
     "execution_count": 24,
     "metadata": {},
     "output_type": "execute_result"
    }
   ],
   "source": [
    "df.head()"
   ]
  },
  {
   "cell_type": "markdown",
   "id": "8d8dfbce",
   "metadata": {},
   "source": [
    "### Updated Data Frame"
   ]
  },
  {
   "cell_type": "code",
   "execution_count": 25,
   "id": "948184e2",
   "metadata": {},
   "outputs": [
    {
     "data": {
      "text/html": [
       "<div>\n",
       "<style scoped>\n",
       "    .dataframe tbody tr th:only-of-type {\n",
       "        vertical-align: middle;\n",
       "    }\n",
       "\n",
       "    .dataframe tbody tr th {\n",
       "        vertical-align: top;\n",
       "    }\n",
       "\n",
       "    .dataframe thead th {\n",
       "        text-align: right;\n",
       "    }\n",
       "</style>\n",
       "<table border=\"1\" class=\"dataframe\">\n",
       "  <thead>\n",
       "    <tr style=\"text-align: right;\">\n",
       "      <th></th>\n",
       "      <th>lemmatized_lyrics</th>\n",
       "      <th>GENDER</th>\n",
       "    </tr>\n",
       "  </thead>\n",
       "  <tbody>\n",
       "    <tr>\n",
       "      <th>0</th>\n",
       "      <td>[oh, danny, boy, pipe, pipe, calling, glen, gl...</td>\n",
       "      <td>female</td>\n",
       "    </tr>\n",
       "    <tr>\n",
       "      <th>1</th>\n",
       "      <td>[never, feel, thing, real, im, away, embrace, ...</td>\n",
       "      <td>female</td>\n",
       "    </tr>\n",
       "    <tr>\n",
       "      <th>2</th>\n",
       "      <td>[really, cant, stay, baby, cold, outside, got,...</td>\n",
       "      <td>female</td>\n",
       "    </tr>\n",
       "    <tr>\n",
       "      <th>3</th>\n",
       "      <td>[life, ive, waiting, wonderful, one, ive, begu...</td>\n",
       "      <td>female</td>\n",
       "    </tr>\n",
       "    <tr>\n",
       "      <th>4</th>\n",
       "      <td>[ill, get, taxi, honey, better, ready, bout, h...</td>\n",
       "      <td>female</td>\n",
       "    </tr>\n",
       "  </tbody>\n",
       "</table>\n",
       "</div>"
      ],
      "text/plain": [
       "                                   lemmatized_lyrics  GENDER\n",
       "0  [oh, danny, boy, pipe, pipe, calling, glen, gl...  female\n",
       "1  [never, feel, thing, real, im, away, embrace, ...  female\n",
       "2  [really, cant, stay, baby, cold, outside, got,...  female\n",
       "3  [life, ive, waiting, wonderful, one, ive, begu...  female\n",
       "4  [ill, get, taxi, honey, better, ready, bout, h...  female"
      ]
     },
     "execution_count": 25,
     "metadata": {},
     "output_type": "execute_result"
    }
   ],
   "source": [
    "df2 = df[[\"lemmatized_lyrics\", \"GENDER\"]]\n",
    "df2.head()"
   ]
  },
  {
   "cell_type": "code",
   "execution_count": 26,
   "id": "a175573d",
   "metadata": {},
   "outputs": [
    {
     "data": {
      "text/plain": [
       "['oh',\n",
       " 'danny',\n",
       " 'boy',\n",
       " 'pipe',\n",
       " 'pipe',\n",
       " 'calling',\n",
       " 'glen',\n",
       " 'glen',\n",
       " 'mountain',\n",
       " 'side',\n",
       " 'summer',\n",
       " 'gone',\n",
       " 'rose',\n",
       " 'falling',\n",
       " 'must',\n",
       " 'go',\n",
       " 'must',\n",
       " 'bide',\n",
       " 'come',\n",
       " 'ye',\n",
       " 'back',\n",
       " 'summer',\n",
       " 'meadow',\n",
       " 'valley',\n",
       " 'hushed',\n",
       " 'white',\n",
       " 'snow',\n",
       " 'ill',\n",
       " 'sunshine',\n",
       " 'shadow',\n",
       " 'oh',\n",
       " 'danny',\n",
       " 'boy',\n",
       " 'oh',\n",
       " 'danny',\n",
       " 'boy',\n",
       " 'love',\n",
       " '!',\n",
       " 'ye',\n",
       " 'come',\n",
       " 'flower',\n",
       " 'dying',\n",
       " 'dead',\n",
       " 'dead',\n",
       " 'well',\n",
       " 'may',\n",
       " 'youll',\n",
       " 'come',\n",
       " 'find',\n",
       " 'place',\n",
       " 'lying',\n",
       " 'kneel',\n",
       " 'say',\n",
       " 'ave',\n",
       " 'shall',\n",
       " 'hear',\n",
       " 'though',\n",
       " 'soft',\n",
       " 'tread',\n",
       " 'grave',\n",
       " 'warmer',\n",
       " 'sweeter',\n",
       " 'bend',\n",
       " 'tell',\n",
       " 'love',\n",
       " 'shall',\n",
       " 'sleep',\n",
       " 'peace',\n",
       " 'come',\n",
       " '!']"
      ]
     },
     "execution_count": 26,
     "metadata": {},
     "output_type": "execute_result"
    }
   ],
   "source": [
    "df2['lemmatized_lyrics'].iloc[0]"
   ]
  },
  {
   "cell_type": "markdown",
   "id": "19e922cb",
   "metadata": {},
   "source": [
    "### Set Threshold for Minimum Token Count"
   ]
  },
  {
   "cell_type": "markdown",
   "id": "6863e78e",
   "metadata": {},
   "source": [
    "There may be songs that have very few lyrics, so we can't extract as much information. For now, an arbitrary minimum threshold of `25` tokens is set."
   ]
  },
  {
   "cell_type": "code",
   "execution_count": 27,
   "id": "5d6d75d6",
   "metadata": {},
   "outputs": [
    {
     "name": "stderr",
     "output_type": "stream",
     "text": [
      "C:\\Users\\asus\\AppData\\Local\\Temp\\ipykernel_12636\\3386239075.py:1: SettingWithCopyWarning: \n",
      "A value is trying to be set on a copy of a slice from a DataFrame.\n",
      "Try using .loc[row_indexer,col_indexer] = value instead\n",
      "\n",
      "See the caveats in the documentation: https://pandas.pydata.org/pandas-docs/stable/user_guide/indexing.html#returning-a-view-versus-a-copy\n",
      "  df2['lemmatized_lyrics_length'] = df2['lemmatized_lyrics'].apply(len)\n"
     ]
    }
   ],
   "source": [
    "df2['lemmatized_lyrics_length'] = df2['lemmatized_lyrics'].apply(len)"
   ]
  },
  {
   "cell_type": "code",
   "execution_count": 28,
   "id": "4060bc17",
   "metadata": {},
   "outputs": [],
   "source": [
    "threshold = 25"
   ]
  },
  {
   "cell_type": "code",
   "execution_count": 29,
   "id": "90569210",
   "metadata": {},
   "outputs": [],
   "source": [
    "df_length_count = df2[df2['lemmatized_lyrics_length'] >= threshold]\n",
    "df3 = df_length_count[[\"lemmatized_lyrics\", \"GENDER\"]]"
   ]
  },
  {
   "cell_type": "code",
   "execution_count": 30,
   "id": "177392f8",
   "metadata": {},
   "outputs": [
    {
     "data": {
      "text/plain": [
       "19487"
      ]
     },
     "execution_count": 30,
     "metadata": {},
     "output_type": "execute_result"
    }
   ],
   "source": [
    "len(df3) #Decreased from 19721"
   ]
  },
  {
   "cell_type": "code",
   "execution_count": 31,
   "id": "06602526",
   "metadata": {},
   "outputs": [
    {
     "data": {
      "text/html": [
       "<div>\n",
       "<style scoped>\n",
       "    .dataframe tbody tr th:only-of-type {\n",
       "        vertical-align: middle;\n",
       "    }\n",
       "\n",
       "    .dataframe tbody tr th {\n",
       "        vertical-align: top;\n",
       "    }\n",
       "\n",
       "    .dataframe thead th {\n",
       "        text-align: right;\n",
       "    }\n",
       "</style>\n",
       "<table border=\"1\" class=\"dataframe\">\n",
       "  <thead>\n",
       "    <tr style=\"text-align: right;\">\n",
       "      <th></th>\n",
       "      <th>lemmatized_lyrics</th>\n",
       "      <th>GENDER</th>\n",
       "    </tr>\n",
       "  </thead>\n",
       "  <tbody>\n",
       "    <tr>\n",
       "      <th>0</th>\n",
       "      <td>[oh, danny, boy, pipe, pipe, calling, glen, gl...</td>\n",
       "      <td>female</td>\n",
       "    </tr>\n",
       "    <tr>\n",
       "      <th>1</th>\n",
       "      <td>[never, feel, thing, real, im, away, embrace, ...</td>\n",
       "      <td>female</td>\n",
       "    </tr>\n",
       "    <tr>\n",
       "      <th>2</th>\n",
       "      <td>[really, cant, stay, baby, cold, outside, got,...</td>\n",
       "      <td>female</td>\n",
       "    </tr>\n",
       "    <tr>\n",
       "      <th>3</th>\n",
       "      <td>[life, ive, waiting, wonderful, one, ive, begu...</td>\n",
       "      <td>female</td>\n",
       "    </tr>\n",
       "    <tr>\n",
       "      <th>4</th>\n",
       "      <td>[ill, get, taxi, honey, better, ready, bout, h...</td>\n",
       "      <td>female</td>\n",
       "    </tr>\n",
       "    <tr>\n",
       "      <th>...</th>\n",
       "      <td>...</td>\n",
       "      <td>...</td>\n",
       "    </tr>\n",
       "    <tr>\n",
       "      <th>21052</th>\n",
       "      <td>[tomboy, hail, mary, never, need, dress, make,...</td>\n",
       "      <td>female</td>\n",
       "    </tr>\n",
       "    <tr>\n",
       "      <th>21053</th>\n",
       "      <td>[throw, line, cant, reel, throw, dart, cant, m...</td>\n",
       "      <td>female</td>\n",
       "    </tr>\n",
       "    <tr>\n",
       "      <th>21054</th>\n",
       "      <td>[mind, cluttered, kitchen, sink, heart, empty,...</td>\n",
       "      <td>female</td>\n",
       "    </tr>\n",
       "    <tr>\n",
       "      <th>21055</th>\n",
       "      <td>[well, moment, heavy, im, ready, like, caged, ...</td>\n",
       "      <td>female</td>\n",
       "    </tr>\n",
       "    <tr>\n",
       "      <th>21056</th>\n",
       "      <td>[wouldnt, know, saw, wake, front, door, youll,...</td>\n",
       "      <td>female</td>\n",
       "    </tr>\n",
       "  </tbody>\n",
       "</table>\n",
       "<p>19487 rows × 2 columns</p>\n",
       "</div>"
      ],
      "text/plain": [
       "                                       lemmatized_lyrics  GENDER\n",
       "0      [oh, danny, boy, pipe, pipe, calling, glen, gl...  female\n",
       "1      [never, feel, thing, real, im, away, embrace, ...  female\n",
       "2      [really, cant, stay, baby, cold, outside, got,...  female\n",
       "3      [life, ive, waiting, wonderful, one, ive, begu...  female\n",
       "4      [ill, get, taxi, honey, better, ready, bout, h...  female\n",
       "...                                                  ...     ...\n",
       "21052  [tomboy, hail, mary, never, need, dress, make,...  female\n",
       "21053  [throw, line, cant, reel, throw, dart, cant, m...  female\n",
       "21054  [mind, cluttered, kitchen, sink, heart, empty,...  female\n",
       "21055  [well, moment, heavy, im, ready, like, caged, ...  female\n",
       "21056  [wouldnt, know, saw, wake, front, door, youll,...  female\n",
       "\n",
       "[19487 rows x 2 columns]"
      ]
     },
     "execution_count": 31,
     "metadata": {},
     "output_type": "execute_result"
    }
   ],
   "source": [
    "df3"
   ]
  },
  {
   "cell_type": "code",
   "execution_count": 32,
   "id": "0b604a56",
   "metadata": {},
   "outputs": [
    {
     "data": {
      "text/plain": [
       "male      0.777236\n",
       "female    0.222764\n",
       "Name: GENDER, dtype: float64"
      ]
     },
     "execution_count": 32,
     "metadata": {},
     "output_type": "execute_result"
    }
   ],
   "source": [
    "gender_proportions = df3['GENDER'].value_counts(normalize=True) # We have similar split\n",
    "gender_proportions"
   ]
  },
  {
   "cell_type": "code",
   "execution_count": 34,
   "id": "a28ae2a0",
   "metadata": {},
   "outputs": [],
   "source": [
    "df3.to_csv(\"data/cleaned_eda.csv\", index = False)"
   ]
  },
  {
   "cell_type": "code",
   "execution_count": null,
   "id": "c4330d42",
   "metadata": {},
   "outputs": [],
   "source": []
  },
  {
   "cell_type": "code",
   "execution_count": null,
   "id": "784bae9f",
   "metadata": {},
   "outputs": [],
   "source": []
  },
  {
   "cell_type": "code",
   "execution_count": null,
   "id": "92384816",
   "metadata": {},
   "outputs": [],
   "source": []
  },
  {
   "cell_type": "code",
   "execution_count": null,
   "id": "cce07d94",
   "metadata": {},
   "outputs": [],
   "source": []
  }
 ],
 "metadata": {
  "kernelspec": {
   "display_name": "Python 3 (ipykernel)",
   "language": "python",
   "name": "python3"
  },
  "language_info": {
   "codemirror_mode": {
    "name": "ipython",
    "version": 3
   },
   "file_extension": ".py",
   "mimetype": "text/x-python",
   "name": "python",
   "nbconvert_exporter": "python",
   "pygments_lexer": "ipython3",
   "version": "3.9.12"
  }
 },
 "nbformat": 4,
 "nbformat_minor": 5
}
