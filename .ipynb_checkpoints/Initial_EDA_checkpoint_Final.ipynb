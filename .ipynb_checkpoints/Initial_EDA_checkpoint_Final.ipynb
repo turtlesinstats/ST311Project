{
  "cells": [
    {
      "cell_type": "markdown",
      "id": "2647157e",
      "metadata": {
        "id": "2647157e"
      },
      "source": [
        "# EDA and Pre-Processing"
      ]
    },
    {
      "cell_type": "markdown",
      "id": "c7cc729f",
      "metadata": {
        "id": "c7cc729f"
      },
      "source": [
        "## Initial EDA"
      ]
    },
    {
      "cell_type": "code",
      "execution_count": null,
      "id": "f58d28a8",
      "metadata": {
        "id": "f58d28a8"
      },
      "outputs": [],
      "source": [
        "import pandas as pd"
      ]
    },
    {
      "cell_type": "code",
      "execution_count": null,
      "id": "11ee2cbc",
      "metadata": {
        "id": "11ee2cbc",
        "outputId": "7c5bf2b0-07fd-4ebd-87a3-09f1656c30d7",
        "colab": {
          "base_uri": "https://localhost:8080/",
          "height": 323
        }
      },
      "outputs": [
        {
          "output_type": "error",
          "ename": "FileNotFoundError",
          "evalue": "[Errno 2] No such file or directory: 'cleaned_lyrics_gender.csv'",
          "traceback": [
            "\u001b[0;31m---------------------------------------------------------------------------\u001b[0m",
            "\u001b[0;31mFileNotFoundError\u001b[0m                         Traceback (most recent call last)",
            "\u001b[0;32m<ipython-input-2-64f8022d21cc>\u001b[0m in \u001b[0;36m<cell line: 0>\u001b[0;34m()\u001b[0m\n\u001b[0;32m----> 1\u001b[0;31m \u001b[0mdf\u001b[0m \u001b[0;34m=\u001b[0m \u001b[0mpd\u001b[0m\u001b[0;34m.\u001b[0m\u001b[0mread_csv\u001b[0m\u001b[0;34m(\u001b[0m\u001b[0;34m'cleaned_lyrics_gender.csv'\u001b[0m\u001b[0;34m)\u001b[0m\u001b[0;34m\u001b[0m\u001b[0;34m\u001b[0m\u001b[0m\n\u001b[0m\u001b[1;32m      2\u001b[0m \u001b[0mdf\u001b[0m\u001b[0;34m.\u001b[0m\u001b[0mhead\u001b[0m\u001b[0;34m(\u001b[0m\u001b[0;34m)\u001b[0m\u001b[0;34m\u001b[0m\u001b[0;34m\u001b[0m\u001b[0m\n",
            "\u001b[0;32m/usr/local/lib/python3.11/dist-packages/pandas/io/parsers/readers.py\u001b[0m in \u001b[0;36mread_csv\u001b[0;34m(filepath_or_buffer, sep, delimiter, header, names, index_col, usecols, dtype, engine, converters, true_values, false_values, skipinitialspace, skiprows, skipfooter, nrows, na_values, keep_default_na, na_filter, verbose, skip_blank_lines, parse_dates, infer_datetime_format, keep_date_col, date_parser, date_format, dayfirst, cache_dates, iterator, chunksize, compression, thousands, decimal, lineterminator, quotechar, quoting, doublequote, escapechar, comment, encoding, encoding_errors, dialect, on_bad_lines, delim_whitespace, low_memory, memory_map, float_precision, storage_options, dtype_backend)\u001b[0m\n\u001b[1;32m   1024\u001b[0m     \u001b[0mkwds\u001b[0m\u001b[0;34m.\u001b[0m\u001b[0mupdate\u001b[0m\u001b[0;34m(\u001b[0m\u001b[0mkwds_defaults\u001b[0m\u001b[0;34m)\u001b[0m\u001b[0;34m\u001b[0m\u001b[0;34m\u001b[0m\u001b[0m\n\u001b[1;32m   1025\u001b[0m \u001b[0;34m\u001b[0m\u001b[0m\n\u001b[0;32m-> 1026\u001b[0;31m     \u001b[0;32mreturn\u001b[0m \u001b[0m_read\u001b[0m\u001b[0;34m(\u001b[0m\u001b[0mfilepath_or_buffer\u001b[0m\u001b[0;34m,\u001b[0m \u001b[0mkwds\u001b[0m\u001b[0;34m)\u001b[0m\u001b[0;34m\u001b[0m\u001b[0;34m\u001b[0m\u001b[0m\n\u001b[0m\u001b[1;32m   1027\u001b[0m \u001b[0;34m\u001b[0m\u001b[0m\n\u001b[1;32m   1028\u001b[0m \u001b[0;34m\u001b[0m\u001b[0m\n",
            "\u001b[0;32m/usr/local/lib/python3.11/dist-packages/pandas/io/parsers/readers.py\u001b[0m in \u001b[0;36m_read\u001b[0;34m(filepath_or_buffer, kwds)\u001b[0m\n\u001b[1;32m    618\u001b[0m \u001b[0;34m\u001b[0m\u001b[0m\n\u001b[1;32m    619\u001b[0m     \u001b[0;31m# Create the parser.\u001b[0m\u001b[0;34m\u001b[0m\u001b[0;34m\u001b[0m\u001b[0m\n\u001b[0;32m--> 620\u001b[0;31m     \u001b[0mparser\u001b[0m \u001b[0;34m=\u001b[0m \u001b[0mTextFileReader\u001b[0m\u001b[0;34m(\u001b[0m\u001b[0mfilepath_or_buffer\u001b[0m\u001b[0;34m,\u001b[0m \u001b[0;34m**\u001b[0m\u001b[0mkwds\u001b[0m\u001b[0;34m)\u001b[0m\u001b[0;34m\u001b[0m\u001b[0;34m\u001b[0m\u001b[0m\n\u001b[0m\u001b[1;32m    621\u001b[0m \u001b[0;34m\u001b[0m\u001b[0m\n\u001b[1;32m    622\u001b[0m     \u001b[0;32mif\u001b[0m \u001b[0mchunksize\u001b[0m \u001b[0;32mor\u001b[0m \u001b[0miterator\u001b[0m\u001b[0;34m:\u001b[0m\u001b[0;34m\u001b[0m\u001b[0;34m\u001b[0m\u001b[0m\n",
            "\u001b[0;32m/usr/local/lib/python3.11/dist-packages/pandas/io/parsers/readers.py\u001b[0m in \u001b[0;36m__init__\u001b[0;34m(self, f, engine, **kwds)\u001b[0m\n\u001b[1;32m   1618\u001b[0m \u001b[0;34m\u001b[0m\u001b[0m\n\u001b[1;32m   1619\u001b[0m         \u001b[0mself\u001b[0m\u001b[0;34m.\u001b[0m\u001b[0mhandles\u001b[0m\u001b[0;34m:\u001b[0m \u001b[0mIOHandles\u001b[0m \u001b[0;34m|\u001b[0m \u001b[0;32mNone\u001b[0m \u001b[0;34m=\u001b[0m \u001b[0;32mNone\u001b[0m\u001b[0;34m\u001b[0m\u001b[0;34m\u001b[0m\u001b[0m\n\u001b[0;32m-> 1620\u001b[0;31m         \u001b[0mself\u001b[0m\u001b[0;34m.\u001b[0m\u001b[0m_engine\u001b[0m \u001b[0;34m=\u001b[0m \u001b[0mself\u001b[0m\u001b[0;34m.\u001b[0m\u001b[0m_make_engine\u001b[0m\u001b[0;34m(\u001b[0m\u001b[0mf\u001b[0m\u001b[0;34m,\u001b[0m \u001b[0mself\u001b[0m\u001b[0;34m.\u001b[0m\u001b[0mengine\u001b[0m\u001b[0;34m)\u001b[0m\u001b[0;34m\u001b[0m\u001b[0;34m\u001b[0m\u001b[0m\n\u001b[0m\u001b[1;32m   1621\u001b[0m \u001b[0;34m\u001b[0m\u001b[0m\n\u001b[1;32m   1622\u001b[0m     \u001b[0;32mdef\u001b[0m \u001b[0mclose\u001b[0m\u001b[0;34m(\u001b[0m\u001b[0mself\u001b[0m\u001b[0;34m)\u001b[0m \u001b[0;34m->\u001b[0m \u001b[0;32mNone\u001b[0m\u001b[0;34m:\u001b[0m\u001b[0;34m\u001b[0m\u001b[0;34m\u001b[0m\u001b[0m\n",
            "\u001b[0;32m/usr/local/lib/python3.11/dist-packages/pandas/io/parsers/readers.py\u001b[0m in \u001b[0;36m_make_engine\u001b[0;34m(self, f, engine)\u001b[0m\n\u001b[1;32m   1878\u001b[0m                 \u001b[0;32mif\u001b[0m \u001b[0;34m\"b\"\u001b[0m \u001b[0;32mnot\u001b[0m \u001b[0;32min\u001b[0m \u001b[0mmode\u001b[0m\u001b[0;34m:\u001b[0m\u001b[0;34m\u001b[0m\u001b[0;34m\u001b[0m\u001b[0m\n\u001b[1;32m   1879\u001b[0m                     \u001b[0mmode\u001b[0m \u001b[0;34m+=\u001b[0m \u001b[0;34m\"b\"\u001b[0m\u001b[0;34m\u001b[0m\u001b[0;34m\u001b[0m\u001b[0m\n\u001b[0;32m-> 1880\u001b[0;31m             self.handles = get_handle(\n\u001b[0m\u001b[1;32m   1881\u001b[0m                 \u001b[0mf\u001b[0m\u001b[0;34m,\u001b[0m\u001b[0;34m\u001b[0m\u001b[0;34m\u001b[0m\u001b[0m\n\u001b[1;32m   1882\u001b[0m                 \u001b[0mmode\u001b[0m\u001b[0;34m,\u001b[0m\u001b[0;34m\u001b[0m\u001b[0;34m\u001b[0m\u001b[0m\n",
            "\u001b[0;32m/usr/local/lib/python3.11/dist-packages/pandas/io/common.py\u001b[0m in \u001b[0;36mget_handle\u001b[0;34m(path_or_buf, mode, encoding, compression, memory_map, is_text, errors, storage_options)\u001b[0m\n\u001b[1;32m    871\u001b[0m         \u001b[0;32mif\u001b[0m \u001b[0mioargs\u001b[0m\u001b[0;34m.\u001b[0m\u001b[0mencoding\u001b[0m \u001b[0;32mand\u001b[0m \u001b[0;34m\"b\"\u001b[0m \u001b[0;32mnot\u001b[0m \u001b[0;32min\u001b[0m \u001b[0mioargs\u001b[0m\u001b[0;34m.\u001b[0m\u001b[0mmode\u001b[0m\u001b[0;34m:\u001b[0m\u001b[0;34m\u001b[0m\u001b[0;34m\u001b[0m\u001b[0m\n\u001b[1;32m    872\u001b[0m             \u001b[0;31m# Encoding\u001b[0m\u001b[0;34m\u001b[0m\u001b[0;34m\u001b[0m\u001b[0m\n\u001b[0;32m--> 873\u001b[0;31m             handle = open(\n\u001b[0m\u001b[1;32m    874\u001b[0m                 \u001b[0mhandle\u001b[0m\u001b[0;34m,\u001b[0m\u001b[0;34m\u001b[0m\u001b[0;34m\u001b[0m\u001b[0m\n\u001b[1;32m    875\u001b[0m                 \u001b[0mioargs\u001b[0m\u001b[0;34m.\u001b[0m\u001b[0mmode\u001b[0m\u001b[0;34m,\u001b[0m\u001b[0;34m\u001b[0m\u001b[0;34m\u001b[0m\u001b[0m\n",
            "\u001b[0;31mFileNotFoundError\u001b[0m: [Errno 2] No such file or directory: 'cleaned_lyrics_gender.csv'"
          ]
        }
      ],
      "source": [
        "df = pd.read_csv('cleaned_lyrics_gender.csv')\n",
        "df.head()"
      ]
    },
    {
      "cell_type": "code",
      "execution_count": null,
      "id": "1e07b59a",
      "metadata": {
        "id": "1e07b59a",
        "outputId": "1196f816-0c95-4862-a705-fb2fe791320c"
      },
      "outputs": [
        {
          "name": "stdout",
          "output_type": "stream",
          "text": [
            "<class 'pandas.core.frame.DataFrame'>\n",
            "RangeIndex: 21057 entries, 0 to 21056\n",
            "Data columns (total 4 columns):\n",
            " #   Column   Non-Null Count  Dtype \n",
            "---  ------   --------------  ----- \n",
            " 0   artist   21057 non-null  object\n",
            " 1   seq      21057 non-null  object\n",
            " 2   GENDER   21057 non-null  object\n",
            " 3   IS_BAND  21054 non-null  object\n",
            "dtypes: object(4)\n",
            "memory usage: 658.2+ KB\n"
          ]
        }
      ],
      "source": [
        "df.info()"
      ]
    },
    {
      "cell_type": "code",
      "execution_count": null,
      "id": "a6607af6",
      "metadata": {
        "id": "a6607af6"
      },
      "outputs": [],
      "source": [
        "df = df[df['GENDER'].isin(['female', 'male'])]"
      ]
    },
    {
      "cell_type": "code",
      "execution_count": null,
      "id": "8e561c67",
      "metadata": {
        "id": "8e561c67",
        "outputId": "9aa6a3e1-a894-4b8a-bc1e-91e9f886215d"
      },
      "outputs": [
        {
          "data": {
            "text/plain": [
              "19721"
            ]
          },
          "execution_count": 7,
          "metadata": {},
          "output_type": "execute_result"
        }
      ],
      "source": [
        "len(df)"
      ]
    },
    {
      "cell_type": "code",
      "execution_count": null,
      "id": "0b825cd8",
      "metadata": {
        "id": "0b825cd8",
        "outputId": "e43bd66d-50f0-4dfd-bce3-ed7480a23dcd"
      },
      "outputs": [
        {
          "data": {
            "text/plain": [
              "male      0.777952\n",
              "female    0.222048\n",
              "Name: GENDER, dtype: float64"
            ]
          },
          "execution_count": 8,
          "metadata": {},
          "output_type": "execute_result"
        }
      ],
      "source": [
        "gender_proportions = df['GENDER'].value_counts(normalize=True)\n",
        "gender_proportions"
      ]
    },
    {
      "cell_type": "code",
      "execution_count": null,
      "id": "140ead5f",
      "metadata": {
        "id": "140ead5f",
        "outputId": "0a3d5c81-6720-4a2a-fb77-49f7291c619c"
      },
      "outputs": [
        {
          "data": {
            "text/plain": [
              "False    0.600771\n",
              "True     0.399229\n",
              "Name: IS_BAND, dtype: float64"
            ]
          },
          "execution_count": 9,
          "metadata": {},
          "output_type": "execute_result"
        }
      ],
      "source": [
        "band_proportions = df['IS_BAND'].value_counts(normalize=True)\n",
        "band_proportions"
      ]
    },
    {
      "cell_type": "markdown",
      "id": "40531f85",
      "metadata": {
        "id": "40531f85"
      },
      "source": [
        "Now look at lyrics"
      ]
    },
    {
      "cell_type": "code",
      "execution_count": null,
      "id": "f5a5ab5f",
      "metadata": {
        "id": "f5a5ab5f",
        "outputId": "77d18c03-6eb7-4f16-b95e-b4039613d346"
      },
      "outputs": [
        {
          "data": {
            "text/plain": [
              "\"Oh, Danny boy, the pipes, the pipes are calling\\r\\nFrom glen to glen, and down the mountain side.\\r\\nThe summer's gone, and all the roses falling,\\r\\nIt's you, it's you must go and I must bide.\\r\\n\\r\\nBut come ye back when summer's in the meadow,\\r\\nOr when the valley's hushed and white with snow,\\r\\nIt's I'll be here in sunshine or in shadow,\\r\\nOh, Danny boy, oh Danny boy, I love you so!\\r\\n\\r\\nBut when ye come, and all the flowers are dying,\\r\\nIf I am dead, as dead I well may be,\\r\\nYou'll come and find the place where I am lying,\\r\\nAnd kneel and say an Ave there for me.\\r\\nAnd I shall hear, though soft you tread above me,\\r\\nAnd all my grave will warmer, sweeter be,\\r\\nFor you will bend and tell me that you love me,\\r\\nAnd I shall sleep in peace until you come to me!\""
            ]
          },
          "execution_count": 10,
          "metadata": {},
          "output_type": "execute_result"
        }
      ],
      "source": [
        "df['seq'].iloc[0]"
      ]
    },
    {
      "cell_type": "markdown",
      "id": "14c1b2b7",
      "metadata": {
        "id": "14c1b2b7"
      },
      "source": [
        "## Data Pre-Procesing"
      ]
    },
    {
      "cell_type": "markdown",
      "id": "945b4a2a",
      "metadata": {
        "id": "945b4a2a"
      },
      "source": [
        "### Loading Libraries"
      ]
    },
    {
      "cell_type": "code",
      "execution_count": null,
      "id": "43d4f0ea",
      "metadata": {
        "id": "43d4f0ea"
      },
      "outputs": [],
      "source": [
        "import re\n",
        "\n",
        "import nltk\n",
        "from nltk.corpus import stopwords\n",
        "from nltk.tokenize import word_tokenize\n",
        "from nltk.stem import WordNetLemmatizer"
      ]
    },
    {
      "cell_type": "code",
      "execution_count": null,
      "id": "c3525cde",
      "metadata": {
        "id": "c3525cde",
        "outputId": "615efe6e-9137-430a-8549-9458923e8676"
      },
      "outputs": [
        {
          "name": "stderr",
          "output_type": "stream",
          "text": [
            "[nltk_data] Downloading package stopwords to\n",
            "[nltk_data]     C:\\Users\\asus\\AppData\\Roaming\\nltk_data...\n",
            "[nltk_data]   Unzipping corpora\\stopwords.zip.\n",
            "[nltk_data] Downloading package punkt to\n",
            "[nltk_data]     C:\\Users\\asus\\AppData\\Roaming\\nltk_data...\n",
            "[nltk_data]   Package punkt is already up-to-date!\n",
            "[nltk_data] Downloading package wordnet to\n",
            "[nltk_data]     C:\\Users\\asus\\AppData\\Roaming\\nltk_data...\n",
            "[nltk_data]   Package wordnet is already up-to-date!\n"
          ]
        },
        {
          "data": {
            "text/plain": [
              "True"
            ]
          },
          "execution_count": 12,
          "metadata": {},
          "output_type": "execute_result"
        }
      ],
      "source": [
        "nltk.download('stopwords')\n",
        "nltk.download('punkt')\n",
        "nltk.download('wordnet')"
      ]
    },
    {
      "cell_type": "code",
      "execution_count": null,
      "id": "70df6ab8",
      "metadata": {
        "id": "70df6ab8",
        "outputId": "79370aef-6ab6-4238-d12a-14fe6b54b0ed"
      },
      "outputs": [
        {
          "name": "stderr",
          "output_type": "stream",
          "text": [
            "[nltk_data] Downloading package omw-1.4 to\n",
            "[nltk_data]     C:\\Users\\asus\\AppData\\Roaming\\nltk_data...\n",
            "[nltk_data]   Package omw-1.4 is already up-to-date!\n"
          ]
        },
        {
          "data": {
            "text/plain": [
              "True"
            ]
          },
          "execution_count": 13,
          "metadata": {},
          "output_type": "execute_result"
        }
      ],
      "source": [
        "nltk.download('omw-1.4')"
      ]
    },
    {
      "cell_type": "markdown",
      "id": "92fc6709",
      "metadata": {
        "id": "92fc6709"
      },
      "source": [
        "### Cleaning Lyrics"
      ]
    },
    {
      "cell_type": "markdown",
      "id": "84ce02cc",
      "metadata": {
        "id": "84ce02cc"
      },
      "source": [
        "Here, we use the `re` library to clean the lyrics by keeping only desired charachters, turnig to lowercase and removing spaces."
      ]
    },
    {
      "cell_type": "code",
      "execution_count": null,
      "id": "026d343b",
      "metadata": {
        "id": "026d343b"
      },
      "outputs": [],
      "source": [
        "def clean_lyrics(text):\n",
        "    text = re.sub(r'[^a-zA-Z0-9\\s!?]', '', text)\n",
        "    text = text.lower()\n",
        "    text = re.sub(r'\\s+', ' ', text).strip()\n",
        "    return text"
      ]
    },
    {
      "cell_type": "code",
      "execution_count": null,
      "id": "53097978",
      "metadata": {
        "id": "53097978"
      },
      "outputs": [],
      "source": [
        "df['clean_lyrics'] = df['seq'].apply(clean_lyrics)"
      ]
    },
    {
      "cell_type": "code",
      "execution_count": null,
      "id": "48e588c4",
      "metadata": {
        "id": "48e588c4",
        "outputId": "d1ac029a-8f02-4cbb-c30d-44670d71aee3"
      },
      "outputs": [
        {
          "data": {
            "text/html": [
              "<div>\n",
              "<style scoped>\n",
              "    .dataframe tbody tr th:only-of-type {\n",
              "        vertical-align: middle;\n",
              "    }\n",
              "\n",
              "    .dataframe tbody tr th {\n",
              "        vertical-align: top;\n",
              "    }\n",
              "\n",
              "    .dataframe thead th {\n",
              "        text-align: right;\n",
              "    }\n",
              "</style>\n",
              "<table border=\"1\" class=\"dataframe\">\n",
              "  <thead>\n",
              "    <tr style=\"text-align: right;\">\n",
              "      <th></th>\n",
              "      <th>artist</th>\n",
              "      <th>seq</th>\n",
              "      <th>GENDER</th>\n",
              "      <th>IS_BAND</th>\n",
              "      <th>clean_lyrics</th>\n",
              "    </tr>\n",
              "  </thead>\n",
              "  <tbody>\n",
              "    <tr>\n",
              "      <th>0</th>\n",
              "      <td>Elizabeth Naccarato</td>\n",
              "      <td>Oh, Danny boy, the pipes, the pipes are callin...</td>\n",
              "      <td>female</td>\n",
              "      <td>False</td>\n",
              "      <td>oh danny boy the pipes the pipes are calling f...</td>\n",
              "    </tr>\n",
              "    <tr>\n",
              "      <th>1</th>\n",
              "      <td>Ella Fitzgerald</td>\n",
              "      <td>I never feel a thing is real\\r\\nWhen I'm away ...</td>\n",
              "      <td>female</td>\n",
              "      <td>False</td>\n",
              "      <td>i never feel a thing is real when im away from...</td>\n",
              "    </tr>\n",
              "    <tr>\n",
              "      <th>2</th>\n",
              "      <td>Ella Fitzgerald</td>\n",
              "      <td>I really can't stay\\r\\nBut, baby, it's cold ou...</td>\n",
              "      <td>female</td>\n",
              "      <td>False</td>\n",
              "      <td>i really cant stay but baby its cold outside i...</td>\n",
              "    </tr>\n",
              "    <tr>\n",
              "      <th>3</th>\n",
              "      <td>Ella Fitzgerald</td>\n",
              "      <td>All my life\\r\\nI've been waiting for you\\r\\nMy...</td>\n",
              "      <td>female</td>\n",
              "      <td>False</td>\n",
              "      <td>all my life ive been waiting for you my wonder...</td>\n",
              "    </tr>\n",
              "    <tr>\n",
              "      <th>4</th>\n",
              "      <td>Ella Fitzgerald</td>\n",
              "      <td>I'll be down to get you in a taxi honey\\r\\nBet...</td>\n",
              "      <td>female</td>\n",
              "      <td>False</td>\n",
              "      <td>ill be down to get you in a taxi honey better ...</td>\n",
              "    </tr>\n",
              "  </tbody>\n",
              "</table>\n",
              "</div>"
            ],
            "text/plain": [
              "                artist                                                seq  \\\n",
              "0  Elizabeth Naccarato  Oh, Danny boy, the pipes, the pipes are callin...   \n",
              "1      Ella Fitzgerald  I never feel a thing is real\\r\\nWhen I'm away ...   \n",
              "2      Ella Fitzgerald  I really can't stay\\r\\nBut, baby, it's cold ou...   \n",
              "3      Ella Fitzgerald  All my life\\r\\nI've been waiting for you\\r\\nMy...   \n",
              "4      Ella Fitzgerald  I'll be down to get you in a taxi honey\\r\\nBet...   \n",
              "\n",
              "   GENDER IS_BAND                                       clean_lyrics  \n",
              "0  female   False  oh danny boy the pipes the pipes are calling f...  \n",
              "1  female   False  i never feel a thing is real when im away from...  \n",
              "2  female   False  i really cant stay but baby its cold outside i...  \n",
              "3  female   False  all my life ive been waiting for you my wonder...  \n",
              "4  female   False  ill be down to get you in a taxi honey better ...  "
            ]
          },
          "execution_count": 16,
          "metadata": {},
          "output_type": "execute_result"
        }
      ],
      "source": [
        "df.head()"
      ]
    },
    {
      "cell_type": "markdown",
      "id": "3643e95f",
      "metadata": {
        "id": "3643e95f"
      },
      "source": [
        "### Tokenize Lyrics"
      ]
    },
    {
      "cell_type": "markdown",
      "id": "ff697f70",
      "metadata": {
        "id": "ff697f70"
      },
      "source": [
        "Tokenize from `NLTK` will be used to tokenoze the lyrics.\n",
        "For reference if needed: https://www.nltk.org/api/nltk.tokenize.word_tokenize.html#nltk-tokenize-word-tokenize"
      ]
    },
    {
      "cell_type": "code",
      "execution_count": null,
      "id": "79111819",
      "metadata": {
        "id": "79111819"
      },
      "outputs": [],
      "source": [
        "def tokenize_lyrics(text):\n",
        "    return word_tokenize(text)\n",
        "\n",
        "df['tokenized_lyrics'] = df['clean_lyrics'].apply(tokenize_lyrics)"
      ]
    },
    {
      "cell_type": "code",
      "execution_count": null,
      "id": "fb0b2a9b",
      "metadata": {
        "id": "fb0b2a9b",
        "outputId": "8523d2e1-9529-403f-b586-4f3e97e3e335"
      },
      "outputs": [
        {
          "data": {
            "text/html": [
              "<div>\n",
              "<style scoped>\n",
              "    .dataframe tbody tr th:only-of-type {\n",
              "        vertical-align: middle;\n",
              "    }\n",
              "\n",
              "    .dataframe tbody tr th {\n",
              "        vertical-align: top;\n",
              "    }\n",
              "\n",
              "    .dataframe thead th {\n",
              "        text-align: right;\n",
              "    }\n",
              "</style>\n",
              "<table border=\"1\" class=\"dataframe\">\n",
              "  <thead>\n",
              "    <tr style=\"text-align: right;\">\n",
              "      <th></th>\n",
              "      <th>artist</th>\n",
              "      <th>seq</th>\n",
              "      <th>GENDER</th>\n",
              "      <th>IS_BAND</th>\n",
              "      <th>clean_lyrics</th>\n",
              "      <th>tokenized_lyrics</th>\n",
              "    </tr>\n",
              "  </thead>\n",
              "  <tbody>\n",
              "    <tr>\n",
              "      <th>0</th>\n",
              "      <td>Elizabeth Naccarato</td>\n",
              "      <td>Oh, Danny boy, the pipes, the pipes are callin...</td>\n",
              "      <td>female</td>\n",
              "      <td>False</td>\n",
              "      <td>oh danny boy the pipes the pipes are calling f...</td>\n",
              "      <td>[oh, danny, boy, the, pipes, the, pipes, are, ...</td>\n",
              "    </tr>\n",
              "    <tr>\n",
              "      <th>1</th>\n",
              "      <td>Ella Fitzgerald</td>\n",
              "      <td>I never feel a thing is real\\r\\nWhen I'm away ...</td>\n",
              "      <td>female</td>\n",
              "      <td>False</td>\n",
              "      <td>i never feel a thing is real when im away from...</td>\n",
              "      <td>[i, never, feel, a, thing, is, real, when, im,...</td>\n",
              "    </tr>\n",
              "    <tr>\n",
              "      <th>2</th>\n",
              "      <td>Ella Fitzgerald</td>\n",
              "      <td>I really can't stay\\r\\nBut, baby, it's cold ou...</td>\n",
              "      <td>female</td>\n",
              "      <td>False</td>\n",
              "      <td>i really cant stay but baby its cold outside i...</td>\n",
              "      <td>[i, really, cant, stay, but, baby, its, cold, ...</td>\n",
              "    </tr>\n",
              "    <tr>\n",
              "      <th>3</th>\n",
              "      <td>Ella Fitzgerald</td>\n",
              "      <td>All my life\\r\\nI've been waiting for you\\r\\nMy...</td>\n",
              "      <td>female</td>\n",
              "      <td>False</td>\n",
              "      <td>all my life ive been waiting for you my wonder...</td>\n",
              "      <td>[all, my, life, ive, been, waiting, for, you, ...</td>\n",
              "    </tr>\n",
              "    <tr>\n",
              "      <th>4</th>\n",
              "      <td>Ella Fitzgerald</td>\n",
              "      <td>I'll be down to get you in a taxi honey\\r\\nBet...</td>\n",
              "      <td>female</td>\n",
              "      <td>False</td>\n",
              "      <td>ill be down to get you in a taxi honey better ...</td>\n",
              "      <td>[ill, be, down, to, get, you, in, a, taxi, hon...</td>\n",
              "    </tr>\n",
              "  </tbody>\n",
              "</table>\n",
              "</div>"
            ],
            "text/plain": [
              "                artist                                                seq  \\\n",
              "0  Elizabeth Naccarato  Oh, Danny boy, the pipes, the pipes are callin...   \n",
              "1      Ella Fitzgerald  I never feel a thing is real\\r\\nWhen I'm away ...   \n",
              "2      Ella Fitzgerald  I really can't stay\\r\\nBut, baby, it's cold ou...   \n",
              "3      Ella Fitzgerald  All my life\\r\\nI've been waiting for you\\r\\nMy...   \n",
              "4      Ella Fitzgerald  I'll be down to get you in a taxi honey\\r\\nBet...   \n",
              "\n",
              "   GENDER IS_BAND                                       clean_lyrics  \\\n",
              "0  female   False  oh danny boy the pipes the pipes are calling f...   \n",
              "1  female   False  i never feel a thing is real when im away from...   \n",
              "2  female   False  i really cant stay but baby its cold outside i...   \n",
              "3  female   False  all my life ive been waiting for you my wonder...   \n",
              "4  female   False  ill be down to get you in a taxi honey better ...   \n",
              "\n",
              "                                    tokenized_lyrics  \n",
              "0  [oh, danny, boy, the, pipes, the, pipes, are, ...  \n",
              "1  [i, never, feel, a, thing, is, real, when, im,...  \n",
              "2  [i, really, cant, stay, but, baby, its, cold, ...  \n",
              "3  [all, my, life, ive, been, waiting, for, you, ...  \n",
              "4  [ill, be, down, to, get, you, in, a, taxi, hon...  "
            ]
          },
          "execution_count": 18,
          "metadata": {},
          "output_type": "execute_result"
        }
      ],
      "source": [
        "df.head()"
      ]
    },
    {
      "cell_type": "markdown",
      "id": "c1294605",
      "metadata": {
        "id": "c1294605"
      },
      "source": [
        "### Stopword Removal"
      ]
    },
    {
      "cell_type": "markdown",
      "id": "61fcd835",
      "metadata": {
        "id": "61fcd835"
      },
      "source": [
        "We loop through every token to see if it present in the stopwords, and remove it if it is."
      ]
    },
    {
      "cell_type": "code",
      "execution_count": null,
      "id": "69b62310",
      "metadata": {
        "id": "69b62310"
      },
      "outputs": [],
      "source": [
        "stop_words = set(stopwords.words('english'))"
      ]
    },
    {
      "cell_type": "code",
      "execution_count": null,
      "id": "edaa951e",
      "metadata": {
        "id": "edaa951e"
      },
      "outputs": [],
      "source": [
        "def remove_stopwords(tokens):\n",
        "    return [word for word in tokens if word not in stop_words]\n",
        "\n",
        "df['filtered_lyrics'] = df['tokenized_lyrics'].apply(remove_stopwords)"
      ]
    },
    {
      "cell_type": "code",
      "execution_count": null,
      "id": "685876d0",
      "metadata": {
        "id": "685876d0",
        "outputId": "12ce1dd1-3e51-4caf-fe96-bc485fe8f528"
      },
      "outputs": [
        {
          "data": {
            "text/html": [
              "<div>\n",
              "<style scoped>\n",
              "    .dataframe tbody tr th:only-of-type {\n",
              "        vertical-align: middle;\n",
              "    }\n",
              "\n",
              "    .dataframe tbody tr th {\n",
              "        vertical-align: top;\n",
              "    }\n",
              "\n",
              "    .dataframe thead th {\n",
              "        text-align: right;\n",
              "    }\n",
              "</style>\n",
              "<table border=\"1\" class=\"dataframe\">\n",
              "  <thead>\n",
              "    <tr style=\"text-align: right;\">\n",
              "      <th></th>\n",
              "      <th>artist</th>\n",
              "      <th>seq</th>\n",
              "      <th>GENDER</th>\n",
              "      <th>IS_BAND</th>\n",
              "      <th>clean_lyrics</th>\n",
              "      <th>tokenized_lyrics</th>\n",
              "      <th>filtered_lyrics</th>\n",
              "    </tr>\n",
              "  </thead>\n",
              "  <tbody>\n",
              "    <tr>\n",
              "      <th>0</th>\n",
              "      <td>Elizabeth Naccarato</td>\n",
              "      <td>Oh, Danny boy, the pipes, the pipes are callin...</td>\n",
              "      <td>female</td>\n",
              "      <td>False</td>\n",
              "      <td>oh danny boy the pipes the pipes are calling f...</td>\n",
              "      <td>[oh, danny, boy, the, pipes, the, pipes, are, ...</td>\n",
              "      <td>[oh, danny, boy, pipes, pipes, calling, glen, ...</td>\n",
              "    </tr>\n",
              "    <tr>\n",
              "      <th>1</th>\n",
              "      <td>Ella Fitzgerald</td>\n",
              "      <td>I never feel a thing is real\\r\\nWhen I'm away ...</td>\n",
              "      <td>female</td>\n",
              "      <td>False</td>\n",
              "      <td>i never feel a thing is real when im away from...</td>\n",
              "      <td>[i, never, feel, a, thing, is, real, when, im,...</td>\n",
              "      <td>[never, feel, thing, real, im, away, embrace, ...</td>\n",
              "    </tr>\n",
              "    <tr>\n",
              "      <th>2</th>\n",
              "      <td>Ella Fitzgerald</td>\n",
              "      <td>I really can't stay\\r\\nBut, baby, it's cold ou...</td>\n",
              "      <td>female</td>\n",
              "      <td>False</td>\n",
              "      <td>i really cant stay but baby its cold outside i...</td>\n",
              "      <td>[i, really, cant, stay, but, baby, its, cold, ...</td>\n",
              "      <td>[really, cant, stay, baby, cold, outside, got,...</td>\n",
              "    </tr>\n",
              "    <tr>\n",
              "      <th>3</th>\n",
              "      <td>Ella Fitzgerald</td>\n",
              "      <td>All my life\\r\\nI've been waiting for you\\r\\nMy...</td>\n",
              "      <td>female</td>\n",
              "      <td>False</td>\n",
              "      <td>all my life ive been waiting for you my wonder...</td>\n",
              "      <td>[all, my, life, ive, been, waiting, for, you, ...</td>\n",
              "      <td>[life, ive, waiting, wonderful, one, ive, begu...</td>\n",
              "    </tr>\n",
              "    <tr>\n",
              "      <th>4</th>\n",
              "      <td>Ella Fitzgerald</td>\n",
              "      <td>I'll be down to get you in a taxi honey\\r\\nBet...</td>\n",
              "      <td>female</td>\n",
              "      <td>False</td>\n",
              "      <td>ill be down to get you in a taxi honey better ...</td>\n",
              "      <td>[ill, be, down, to, get, you, in, a, taxi, hon...</td>\n",
              "      <td>[ill, get, taxi, honey, better, ready, bout, h...</td>\n",
              "    </tr>\n",
              "  </tbody>\n",
              "</table>\n",
              "</div>"
            ],
            "text/plain": [
              "                artist                                                seq  \\\n",
              "0  Elizabeth Naccarato  Oh, Danny boy, the pipes, the pipes are callin...   \n",
              "1      Ella Fitzgerald  I never feel a thing is real\\r\\nWhen I'm away ...   \n",
              "2      Ella Fitzgerald  I really can't stay\\r\\nBut, baby, it's cold ou...   \n",
              "3      Ella Fitzgerald  All my life\\r\\nI've been waiting for you\\r\\nMy...   \n",
              "4      Ella Fitzgerald  I'll be down to get you in a taxi honey\\r\\nBet...   \n",
              "\n",
              "   GENDER IS_BAND                                       clean_lyrics  \\\n",
              "0  female   False  oh danny boy the pipes the pipes are calling f...   \n",
              "1  female   False  i never feel a thing is real when im away from...   \n",
              "2  female   False  i really cant stay but baby its cold outside i...   \n",
              "3  female   False  all my life ive been waiting for you my wonder...   \n",
              "4  female   False  ill be down to get you in a taxi honey better ...   \n",
              "\n",
              "                                    tokenized_lyrics  \\\n",
              "0  [oh, danny, boy, the, pipes, the, pipes, are, ...   \n",
              "1  [i, never, feel, a, thing, is, real, when, im,...   \n",
              "2  [i, really, cant, stay, but, baby, its, cold, ...   \n",
              "3  [all, my, life, ive, been, waiting, for, you, ...   \n",
              "4  [ill, be, down, to, get, you, in, a, taxi, hon...   \n",
              "\n",
              "                                     filtered_lyrics  \n",
              "0  [oh, danny, boy, pipes, pipes, calling, glen, ...  \n",
              "1  [never, feel, thing, real, im, away, embrace, ...  \n",
              "2  [really, cant, stay, baby, cold, outside, got,...  \n",
              "3  [life, ive, waiting, wonderful, one, ive, begu...  \n",
              "4  [ill, get, taxi, honey, better, ready, bout, h...  "
            ]
          },
          "execution_count": 21,
          "metadata": {},
          "output_type": "execute_result"
        }
      ],
      "source": [
        "df.head()"
      ]
    },
    {
      "cell_type": "markdown",
      "id": "d073f93e",
      "metadata": {
        "id": "d073f93e"
      },
      "source": [
        "### Lemmatization"
      ]
    },
    {
      "cell_type": "markdown",
      "id": "8dd2ca67",
      "metadata": {
        "id": "8dd2ca67"
      },
      "source": [
        "Now we lemmatize the words\n",
        "Source: https://www.nltk.org/api/nltk.stem.WordNetLemmatizer.html?highlight=wordnet"
      ]
    },
    {
      "cell_type": "code",
      "execution_count": null,
      "id": "daf28177",
      "metadata": {
        "id": "daf28177"
      },
      "outputs": [],
      "source": [
        "wnl = WordNetLemmatizer()"
      ]
    },
    {
      "cell_type": "code",
      "execution_count": null,
      "id": "c919b5ce",
      "metadata": {
        "id": "c919b5ce"
      },
      "outputs": [],
      "source": [
        "def lemmatize_lyrics(tokens):\n",
        "    return [wnl.lemmatize(word) for word in tokens]\n",
        "\n",
        "df['lemmatized_lyrics'] = df['filtered_lyrics'].apply(lemmatize_lyrics)"
      ]
    },
    {
      "cell_type": "code",
      "execution_count": null,
      "id": "a2895f3e",
      "metadata": {
        "id": "a2895f3e",
        "outputId": "6f52bb51-1e32-4444-b584-379c748e987e"
      },
      "outputs": [
        {
          "data": {
            "text/html": [
              "<div>\n",
              "<style scoped>\n",
              "    .dataframe tbody tr th:only-of-type {\n",
              "        vertical-align: middle;\n",
              "    }\n",
              "\n",
              "    .dataframe tbody tr th {\n",
              "        vertical-align: top;\n",
              "    }\n",
              "\n",
              "    .dataframe thead th {\n",
              "        text-align: right;\n",
              "    }\n",
              "</style>\n",
              "<table border=\"1\" class=\"dataframe\">\n",
              "  <thead>\n",
              "    <tr style=\"text-align: right;\">\n",
              "      <th></th>\n",
              "      <th>artist</th>\n",
              "      <th>seq</th>\n",
              "      <th>GENDER</th>\n",
              "      <th>IS_BAND</th>\n",
              "      <th>clean_lyrics</th>\n",
              "      <th>tokenized_lyrics</th>\n",
              "      <th>filtered_lyrics</th>\n",
              "      <th>lemmatized_lyrics</th>\n",
              "    </tr>\n",
              "  </thead>\n",
              "  <tbody>\n",
              "    <tr>\n",
              "      <th>0</th>\n",
              "      <td>Elizabeth Naccarato</td>\n",
              "      <td>Oh, Danny boy, the pipes, the pipes are callin...</td>\n",
              "      <td>female</td>\n",
              "      <td>False</td>\n",
              "      <td>oh danny boy the pipes the pipes are calling f...</td>\n",
              "      <td>[oh, danny, boy, the, pipes, the, pipes, are, ...</td>\n",
              "      <td>[oh, danny, boy, pipes, pipes, calling, glen, ...</td>\n",
              "      <td>[oh, danny, boy, pipe, pipe, calling, glen, gl...</td>\n",
              "    </tr>\n",
              "    <tr>\n",
              "      <th>1</th>\n",
              "      <td>Ella Fitzgerald</td>\n",
              "      <td>I never feel a thing is real\\r\\nWhen I'm away ...</td>\n",
              "      <td>female</td>\n",
              "      <td>False</td>\n",
              "      <td>i never feel a thing is real when im away from...</td>\n",
              "      <td>[i, never, feel, a, thing, is, real, when, im,...</td>\n",
              "      <td>[never, feel, thing, real, im, away, embrace, ...</td>\n",
              "      <td>[never, feel, thing, real, im, away, embrace, ...</td>\n",
              "    </tr>\n",
              "    <tr>\n",
              "      <th>2</th>\n",
              "      <td>Ella Fitzgerald</td>\n",
              "      <td>I really can't stay\\r\\nBut, baby, it's cold ou...</td>\n",
              "      <td>female</td>\n",
              "      <td>False</td>\n",
              "      <td>i really cant stay but baby its cold outside i...</td>\n",
              "      <td>[i, really, cant, stay, but, baby, its, cold, ...</td>\n",
              "      <td>[really, cant, stay, baby, cold, outside, got,...</td>\n",
              "      <td>[really, cant, stay, baby, cold, outside, got,...</td>\n",
              "    </tr>\n",
              "    <tr>\n",
              "      <th>3</th>\n",
              "      <td>Ella Fitzgerald</td>\n",
              "      <td>All my life\\r\\nI've been waiting for you\\r\\nMy...</td>\n",
              "      <td>female</td>\n",
              "      <td>False</td>\n",
              "      <td>all my life ive been waiting for you my wonder...</td>\n",
              "      <td>[all, my, life, ive, been, waiting, for, you, ...</td>\n",
              "      <td>[life, ive, waiting, wonderful, one, ive, begu...</td>\n",
              "      <td>[life, ive, waiting, wonderful, one, ive, begu...</td>\n",
              "    </tr>\n",
              "    <tr>\n",
              "      <th>4</th>\n",
              "      <td>Ella Fitzgerald</td>\n",
              "      <td>I'll be down to get you in a taxi honey\\r\\nBet...</td>\n",
              "      <td>female</td>\n",
              "      <td>False</td>\n",
              "      <td>ill be down to get you in a taxi honey better ...</td>\n",
              "      <td>[ill, be, down, to, get, you, in, a, taxi, hon...</td>\n",
              "      <td>[ill, get, taxi, honey, better, ready, bout, h...</td>\n",
              "      <td>[ill, get, taxi, honey, better, ready, bout, h...</td>\n",
              "    </tr>\n",
              "  </tbody>\n",
              "</table>\n",
              "</div>"
            ],
            "text/plain": [
              "                artist                                                seq  \\\n",
              "0  Elizabeth Naccarato  Oh, Danny boy, the pipes, the pipes are callin...   \n",
              "1      Ella Fitzgerald  I never feel a thing is real\\r\\nWhen I'm away ...   \n",
              "2      Ella Fitzgerald  I really can't stay\\r\\nBut, baby, it's cold ou...   \n",
              "3      Ella Fitzgerald  All my life\\r\\nI've been waiting for you\\r\\nMy...   \n",
              "4      Ella Fitzgerald  I'll be down to get you in a taxi honey\\r\\nBet...   \n",
              "\n",
              "   GENDER IS_BAND                                       clean_lyrics  \\\n",
              "0  female   False  oh danny boy the pipes the pipes are calling f...   \n",
              "1  female   False  i never feel a thing is real when im away from...   \n",
              "2  female   False  i really cant stay but baby its cold outside i...   \n",
              "3  female   False  all my life ive been waiting for you my wonder...   \n",
              "4  female   False  ill be down to get you in a taxi honey better ...   \n",
              "\n",
              "                                    tokenized_lyrics  \\\n",
              "0  [oh, danny, boy, the, pipes, the, pipes, are, ...   \n",
              "1  [i, never, feel, a, thing, is, real, when, im,...   \n",
              "2  [i, really, cant, stay, but, baby, its, cold, ...   \n",
              "3  [all, my, life, ive, been, waiting, for, you, ...   \n",
              "4  [ill, be, down, to, get, you, in, a, taxi, hon...   \n",
              "\n",
              "                                     filtered_lyrics  \\\n",
              "0  [oh, danny, boy, pipes, pipes, calling, glen, ...   \n",
              "1  [never, feel, thing, real, im, away, embrace, ...   \n",
              "2  [really, cant, stay, baby, cold, outside, got,...   \n",
              "3  [life, ive, waiting, wonderful, one, ive, begu...   \n",
              "4  [ill, get, taxi, honey, better, ready, bout, h...   \n",
              "\n",
              "                                   lemmatized_lyrics  \n",
              "0  [oh, danny, boy, pipe, pipe, calling, glen, gl...  \n",
              "1  [never, feel, thing, real, im, away, embrace, ...  \n",
              "2  [really, cant, stay, baby, cold, outside, got,...  \n",
              "3  [life, ive, waiting, wonderful, one, ive, begu...  \n",
              "4  [ill, get, taxi, honey, better, ready, bout, h...  "
            ]
          },
          "execution_count": 24,
          "metadata": {},
          "output_type": "execute_result"
        }
      ],
      "source": [
        "df.head()"
      ]
    },
    {
      "cell_type": "markdown",
      "id": "8d8dfbce",
      "metadata": {
        "id": "8d8dfbce"
      },
      "source": [
        "### Updated Data Frame"
      ]
    },
    {
      "cell_type": "code",
      "execution_count": null,
      "id": "948184e2",
      "metadata": {
        "id": "948184e2",
        "outputId": "d262529d-bb0a-40a4-8c38-6ba1439ee826"
      },
      "outputs": [
        {
          "data": {
            "text/html": [
              "<div>\n",
              "<style scoped>\n",
              "    .dataframe tbody tr th:only-of-type {\n",
              "        vertical-align: middle;\n",
              "    }\n",
              "\n",
              "    .dataframe tbody tr th {\n",
              "        vertical-align: top;\n",
              "    }\n",
              "\n",
              "    .dataframe thead th {\n",
              "        text-align: right;\n",
              "    }\n",
              "</style>\n",
              "<table border=\"1\" class=\"dataframe\">\n",
              "  <thead>\n",
              "    <tr style=\"text-align: right;\">\n",
              "      <th></th>\n",
              "      <th>lemmatized_lyrics</th>\n",
              "      <th>GENDER</th>\n",
              "    </tr>\n",
              "  </thead>\n",
              "  <tbody>\n",
              "    <tr>\n",
              "      <th>0</th>\n",
              "      <td>[oh, danny, boy, pipe, pipe, calling, glen, gl...</td>\n",
              "      <td>female</td>\n",
              "    </tr>\n",
              "    <tr>\n",
              "      <th>1</th>\n",
              "      <td>[never, feel, thing, real, im, away, embrace, ...</td>\n",
              "      <td>female</td>\n",
              "    </tr>\n",
              "    <tr>\n",
              "      <th>2</th>\n",
              "      <td>[really, cant, stay, baby, cold, outside, got,...</td>\n",
              "      <td>female</td>\n",
              "    </tr>\n",
              "    <tr>\n",
              "      <th>3</th>\n",
              "      <td>[life, ive, waiting, wonderful, one, ive, begu...</td>\n",
              "      <td>female</td>\n",
              "    </tr>\n",
              "    <tr>\n",
              "      <th>4</th>\n",
              "      <td>[ill, get, taxi, honey, better, ready, bout, h...</td>\n",
              "      <td>female</td>\n",
              "    </tr>\n",
              "  </tbody>\n",
              "</table>\n",
              "</div>"
            ],
            "text/plain": [
              "                                   lemmatized_lyrics  GENDER\n",
              "0  [oh, danny, boy, pipe, pipe, calling, glen, gl...  female\n",
              "1  [never, feel, thing, real, im, away, embrace, ...  female\n",
              "2  [really, cant, stay, baby, cold, outside, got,...  female\n",
              "3  [life, ive, waiting, wonderful, one, ive, begu...  female\n",
              "4  [ill, get, taxi, honey, better, ready, bout, h...  female"
            ]
          },
          "execution_count": 25,
          "metadata": {},
          "output_type": "execute_result"
        }
      ],
      "source": [
        "df2 = df[[\"lemmatized_lyrics\", \"GENDER\"]]\n",
        "df2.head()"
      ]
    },
    {
      "cell_type": "code",
      "execution_count": null,
      "id": "a175573d",
      "metadata": {
        "id": "a175573d",
        "outputId": "b126b270-f88f-442d-b0fd-1a3a2e0345eb"
      },
      "outputs": [
        {
          "data": {
            "text/plain": [
              "['oh',\n",
              " 'danny',\n",
              " 'boy',\n",
              " 'pipe',\n",
              " 'pipe',\n",
              " 'calling',\n",
              " 'glen',\n",
              " 'glen',\n",
              " 'mountain',\n",
              " 'side',\n",
              " 'summer',\n",
              " 'gone',\n",
              " 'rose',\n",
              " 'falling',\n",
              " 'must',\n",
              " 'go',\n",
              " 'must',\n",
              " 'bide',\n",
              " 'come',\n",
              " 'ye',\n",
              " 'back',\n",
              " 'summer',\n",
              " 'meadow',\n",
              " 'valley',\n",
              " 'hushed',\n",
              " 'white',\n",
              " 'snow',\n",
              " 'ill',\n",
              " 'sunshine',\n",
              " 'shadow',\n",
              " 'oh',\n",
              " 'danny',\n",
              " 'boy',\n",
              " 'oh',\n",
              " 'danny',\n",
              " 'boy',\n",
              " 'love',\n",
              " '!',\n",
              " 'ye',\n",
              " 'come',\n",
              " 'flower',\n",
              " 'dying',\n",
              " 'dead',\n",
              " 'dead',\n",
              " 'well',\n",
              " 'may',\n",
              " 'youll',\n",
              " 'come',\n",
              " 'find',\n",
              " 'place',\n",
              " 'lying',\n",
              " 'kneel',\n",
              " 'say',\n",
              " 'ave',\n",
              " 'shall',\n",
              " 'hear',\n",
              " 'though',\n",
              " 'soft',\n",
              " 'tread',\n",
              " 'grave',\n",
              " 'warmer',\n",
              " 'sweeter',\n",
              " 'bend',\n",
              " 'tell',\n",
              " 'love',\n",
              " 'shall',\n",
              " 'sleep',\n",
              " 'peace',\n",
              " 'come',\n",
              " '!']"
            ]
          },
          "execution_count": 26,
          "metadata": {},
          "output_type": "execute_result"
        }
      ],
      "source": [
        "df2['lemmatized_lyrics'].iloc[0]"
      ]
    },
    {
      "cell_type": "markdown",
      "id": "19e922cb",
      "metadata": {
        "id": "19e922cb"
      },
      "source": [
        "### Set Threshold for Minimum Token Count"
      ]
    },
    {
      "cell_type": "markdown",
      "id": "6863e78e",
      "metadata": {
        "id": "6863e78e"
      },
      "source": [
        "There may be songs that have very few lyrics, so we can't extract as much information. For now, an arbitrary minimum threshold of `25` tokens is set."
      ]
    },
    {
      "cell_type": "code",
      "execution_count": null,
      "id": "5d6d75d6",
      "metadata": {
        "id": "5d6d75d6",
        "outputId": "d59bf947-c6ad-43d2-cc10-1e0ee146d27d"
      },
      "outputs": [
        {
          "name": "stderr",
          "output_type": "stream",
          "text": [
            "C:\\Users\\asus\\AppData\\Local\\Temp\\ipykernel_12636\\3386239075.py:1: SettingWithCopyWarning: \n",
            "A value is trying to be set on a copy of a slice from a DataFrame.\n",
            "Try using .loc[row_indexer,col_indexer] = value instead\n",
            "\n",
            "See the caveats in the documentation: https://pandas.pydata.org/pandas-docs/stable/user_guide/indexing.html#returning-a-view-versus-a-copy\n",
            "  df2['lemmatized_lyrics_length'] = df2['lemmatized_lyrics'].apply(len)\n"
          ]
        }
      ],
      "source": [
        "df2['lemmatized_lyrics_length'] = df2['lemmatized_lyrics'].apply(len)"
      ]
    },
    {
      "cell_type": "code",
      "execution_count": null,
      "id": "4060bc17",
      "metadata": {
        "id": "4060bc17"
      },
      "outputs": [],
      "source": [
        "threshold = 25"
      ]
    },
    {
      "cell_type": "code",
      "execution_count": null,
      "id": "90569210",
      "metadata": {
        "id": "90569210"
      },
      "outputs": [],
      "source": [
        "df_length_count = df2[df2['lemmatized_lyrics_length'] >= threshold]\n",
        "df3 = df_length_count[[\"lemmatized_lyrics\", \"GENDER\"]]"
      ]
    },
    {
      "cell_type": "code",
      "execution_count": null,
      "id": "177392f8",
      "metadata": {
        "id": "177392f8",
        "outputId": "37251e1c-cd9d-440c-85a7-9c51d5e3bf89"
      },
      "outputs": [
        {
          "data": {
            "text/plain": [
              "19487"
            ]
          },
          "execution_count": 30,
          "metadata": {},
          "output_type": "execute_result"
        }
      ],
      "source": [
        "len(df3) #Decreased from 19721"
      ]
    },
    {
      "cell_type": "code",
      "execution_count": null,
      "id": "06602526",
      "metadata": {
        "id": "06602526",
        "outputId": "eb7b0cc5-0418-487a-b6f1-72f5d0fff5b4"
      },
      "outputs": [
        {
          "data": {
            "text/html": [
              "<div>\n",
              "<style scoped>\n",
              "    .dataframe tbody tr th:only-of-type {\n",
              "        vertical-align: middle;\n",
              "    }\n",
              "\n",
              "    .dataframe tbody tr th {\n",
              "        vertical-align: top;\n",
              "    }\n",
              "\n",
              "    .dataframe thead th {\n",
              "        text-align: right;\n",
              "    }\n",
              "</style>\n",
              "<table border=\"1\" class=\"dataframe\">\n",
              "  <thead>\n",
              "    <tr style=\"text-align: right;\">\n",
              "      <th></th>\n",
              "      <th>lemmatized_lyrics</th>\n",
              "      <th>GENDER</th>\n",
              "    </tr>\n",
              "  </thead>\n",
              "  <tbody>\n",
              "    <tr>\n",
              "      <th>0</th>\n",
              "      <td>[oh, danny, boy, pipe, pipe, calling, glen, gl...</td>\n",
              "      <td>female</td>\n",
              "    </tr>\n",
              "    <tr>\n",
              "      <th>1</th>\n",
              "      <td>[never, feel, thing, real, im, away, embrace, ...</td>\n",
              "      <td>female</td>\n",
              "    </tr>\n",
              "    <tr>\n",
              "      <th>2</th>\n",
              "      <td>[really, cant, stay, baby, cold, outside, got,...</td>\n",
              "      <td>female</td>\n",
              "    </tr>\n",
              "    <tr>\n",
              "      <th>3</th>\n",
              "      <td>[life, ive, waiting, wonderful, one, ive, begu...</td>\n",
              "      <td>female</td>\n",
              "    </tr>\n",
              "    <tr>\n",
              "      <th>4</th>\n",
              "      <td>[ill, get, taxi, honey, better, ready, bout, h...</td>\n",
              "      <td>female</td>\n",
              "    </tr>\n",
              "    <tr>\n",
              "      <th>...</th>\n",
              "      <td>...</td>\n",
              "      <td>...</td>\n",
              "    </tr>\n",
              "    <tr>\n",
              "      <th>21052</th>\n",
              "      <td>[tomboy, hail, mary, never, need, dress, make,...</td>\n",
              "      <td>female</td>\n",
              "    </tr>\n",
              "    <tr>\n",
              "      <th>21053</th>\n",
              "      <td>[throw, line, cant, reel, throw, dart, cant, m...</td>\n",
              "      <td>female</td>\n",
              "    </tr>\n",
              "    <tr>\n",
              "      <th>21054</th>\n",
              "      <td>[mind, cluttered, kitchen, sink, heart, empty,...</td>\n",
              "      <td>female</td>\n",
              "    </tr>\n",
              "    <tr>\n",
              "      <th>21055</th>\n",
              "      <td>[well, moment, heavy, im, ready, like, caged, ...</td>\n",
              "      <td>female</td>\n",
              "    </tr>\n",
              "    <tr>\n",
              "      <th>21056</th>\n",
              "      <td>[wouldnt, know, saw, wake, front, door, youll,...</td>\n",
              "      <td>female</td>\n",
              "    </tr>\n",
              "  </tbody>\n",
              "</table>\n",
              "<p>19487 rows × 2 columns</p>\n",
              "</div>"
            ],
            "text/plain": [
              "                                       lemmatized_lyrics  GENDER\n",
              "0      [oh, danny, boy, pipe, pipe, calling, glen, gl...  female\n",
              "1      [never, feel, thing, real, im, away, embrace, ...  female\n",
              "2      [really, cant, stay, baby, cold, outside, got,...  female\n",
              "3      [life, ive, waiting, wonderful, one, ive, begu...  female\n",
              "4      [ill, get, taxi, honey, better, ready, bout, h...  female\n",
              "...                                                  ...     ...\n",
              "21052  [tomboy, hail, mary, never, need, dress, make,...  female\n",
              "21053  [throw, line, cant, reel, throw, dart, cant, m...  female\n",
              "21054  [mind, cluttered, kitchen, sink, heart, empty,...  female\n",
              "21055  [well, moment, heavy, im, ready, like, caged, ...  female\n",
              "21056  [wouldnt, know, saw, wake, front, door, youll,...  female\n",
              "\n",
              "[19487 rows x 2 columns]"
            ]
          },
          "execution_count": 31,
          "metadata": {},
          "output_type": "execute_result"
        }
      ],
      "source": [
        "df3"
      ]
    },
    {
      "cell_type": "code",
      "execution_count": null,
      "id": "0b604a56",
      "metadata": {
        "id": "0b604a56",
        "outputId": "ebb7774c-db4a-42ca-a779-033028f146fb"
      },
      "outputs": [
        {
          "data": {
            "text/plain": [
              "male      0.777236\n",
              "female    0.222764\n",
              "Name: GENDER, dtype: float64"
            ]
          },
          "execution_count": 32,
          "metadata": {},
          "output_type": "execute_result"
        }
      ],
      "source": [
        "gender_proportions = df3['GENDER'].value_counts(normalize=True) # We have similar split\n",
        "gender_proportions"
      ]
    },
    {
      "cell_type": "code",
      "execution_count": null,
      "id": "a28ae2a0",
      "metadata": {
        "id": "a28ae2a0"
      },
      "outputs": [],
      "source": [
        "df3.to_csv(\"data/cleaned_eda.csv\", index = False)"
      ]
    },
    {
      "cell_type": "code",
      "execution_count": 104,
      "id": "c4330d42",
      "metadata": {
        "colab": {
          "base_uri": "https://localhost:8080/",
          "height": 206
        },
        "id": "c4330d42",
        "outputId": "319b1b4f-b995-4ea2-ad32-9599783a5e4f"
      },
      "outputs": [
        {
          "output_type": "execute_result",
          "data": {
            "text/plain": [
              "                                   lemmatized_lyrics  GENDER\n",
              "0  ['oh', 'danny', 'boy', 'pipe', 'pipe', 'callin...  female\n",
              "1  ['never', 'feel', 'thing', 'real', 'im', 'away...  female\n",
              "2  ['really', 'cant', 'stay', 'baby', 'cold', 'ou...  female\n",
              "3  ['life', 'ive', 'waiting', 'wonderful', 'one',...  female\n",
              "4  ['ill', 'get', 'taxi', 'honey', 'better', 'rea...  female"
            ],
            "text/html": [
              "\n",
              "  <div id=\"df-bf6684dd-2fd8-4036-973f-19fc79964856\" class=\"colab-df-container\">\n",
              "    <div>\n",
              "<style scoped>\n",
              "    .dataframe tbody tr th:only-of-type {\n",
              "        vertical-align: middle;\n",
              "    }\n",
              "\n",
              "    .dataframe tbody tr th {\n",
              "        vertical-align: top;\n",
              "    }\n",
              "\n",
              "    .dataframe thead th {\n",
              "        text-align: right;\n",
              "    }\n",
              "</style>\n",
              "<table border=\"1\" class=\"dataframe\">\n",
              "  <thead>\n",
              "    <tr style=\"text-align: right;\">\n",
              "      <th></th>\n",
              "      <th>lemmatized_lyrics</th>\n",
              "      <th>GENDER</th>\n",
              "    </tr>\n",
              "  </thead>\n",
              "  <tbody>\n",
              "    <tr>\n",
              "      <th>0</th>\n",
              "      <td>['oh', 'danny', 'boy', 'pipe', 'pipe', 'callin...</td>\n",
              "      <td>female</td>\n",
              "    </tr>\n",
              "    <tr>\n",
              "      <th>1</th>\n",
              "      <td>['never', 'feel', 'thing', 'real', 'im', 'away...</td>\n",
              "      <td>female</td>\n",
              "    </tr>\n",
              "    <tr>\n",
              "      <th>2</th>\n",
              "      <td>['really', 'cant', 'stay', 'baby', 'cold', 'ou...</td>\n",
              "      <td>female</td>\n",
              "    </tr>\n",
              "    <tr>\n",
              "      <th>3</th>\n",
              "      <td>['life', 'ive', 'waiting', 'wonderful', 'one',...</td>\n",
              "      <td>female</td>\n",
              "    </tr>\n",
              "    <tr>\n",
              "      <th>4</th>\n",
              "      <td>['ill', 'get', 'taxi', 'honey', 'better', 'rea...</td>\n",
              "      <td>female</td>\n",
              "    </tr>\n",
              "  </tbody>\n",
              "</table>\n",
              "</div>\n",
              "    <div class=\"colab-df-buttons\">\n",
              "\n",
              "  <div class=\"colab-df-container\">\n",
              "    <button class=\"colab-df-convert\" onclick=\"convertToInteractive('df-bf6684dd-2fd8-4036-973f-19fc79964856')\"\n",
              "            title=\"Convert this dataframe to an interactive table.\"\n",
              "            style=\"display:none;\">\n",
              "\n",
              "  <svg xmlns=\"http://www.w3.org/2000/svg\" height=\"24px\" viewBox=\"0 -960 960 960\">\n",
              "    <path d=\"M120-120v-720h720v720H120Zm60-500h600v-160H180v160Zm220 220h160v-160H400v160Zm0 220h160v-160H400v160ZM180-400h160v-160H180v160Zm440 0h160v-160H620v160ZM180-180h160v-160H180v160Zm440 0h160v-160H620v160Z\"/>\n",
              "  </svg>\n",
              "    </button>\n",
              "\n",
              "  <style>\n",
              "    .colab-df-container {\n",
              "      display:flex;\n",
              "      gap: 12px;\n",
              "    }\n",
              "\n",
              "    .colab-df-convert {\n",
              "      background-color: #E8F0FE;\n",
              "      border: none;\n",
              "      border-radius: 50%;\n",
              "      cursor: pointer;\n",
              "      display: none;\n",
              "      fill: #1967D2;\n",
              "      height: 32px;\n",
              "      padding: 0 0 0 0;\n",
              "      width: 32px;\n",
              "    }\n",
              "\n",
              "    .colab-df-convert:hover {\n",
              "      background-color: #E2EBFA;\n",
              "      box-shadow: 0px 1px 2px rgba(60, 64, 67, 0.3), 0px 1px 3px 1px rgba(60, 64, 67, 0.15);\n",
              "      fill: #174EA6;\n",
              "    }\n",
              "\n",
              "    .colab-df-buttons div {\n",
              "      margin-bottom: 4px;\n",
              "    }\n",
              "\n",
              "    [theme=dark] .colab-df-convert {\n",
              "      background-color: #3B4455;\n",
              "      fill: #D2E3FC;\n",
              "    }\n",
              "\n",
              "    [theme=dark] .colab-df-convert:hover {\n",
              "      background-color: #434B5C;\n",
              "      box-shadow: 0px 1px 3px 1px rgba(0, 0, 0, 0.15);\n",
              "      filter: drop-shadow(0px 1px 2px rgba(0, 0, 0, 0.3));\n",
              "      fill: #FFFFFF;\n",
              "    }\n",
              "  </style>\n",
              "\n",
              "    <script>\n",
              "      const buttonEl =\n",
              "        document.querySelector('#df-bf6684dd-2fd8-4036-973f-19fc79964856 button.colab-df-convert');\n",
              "      buttonEl.style.display =\n",
              "        google.colab.kernel.accessAllowed ? 'block' : 'none';\n",
              "\n",
              "      async function convertToInteractive(key) {\n",
              "        const element = document.querySelector('#df-bf6684dd-2fd8-4036-973f-19fc79964856');\n",
              "        const dataTable =\n",
              "          await google.colab.kernel.invokeFunction('convertToInteractive',\n",
              "                                                    [key], {});\n",
              "        if (!dataTable) return;\n",
              "\n",
              "        const docLinkHtml = 'Like what you see? Visit the ' +\n",
              "          '<a target=\"_blank\" href=https://colab.research.google.com/notebooks/data_table.ipynb>data table notebook</a>'\n",
              "          + ' to learn more about interactive tables.';\n",
              "        element.innerHTML = '';\n",
              "        dataTable['output_type'] = 'display_data';\n",
              "        await google.colab.output.renderOutput(dataTable, element);\n",
              "        const docLink = document.createElement('div');\n",
              "        docLink.innerHTML = docLinkHtml;\n",
              "        element.appendChild(docLink);\n",
              "      }\n",
              "    </script>\n",
              "  </div>\n",
              "\n",
              "\n",
              "    <div id=\"df-6e689dc7-f5da-4322-a998-b7f7c6a871fa\">\n",
              "      <button class=\"colab-df-quickchart\" onclick=\"quickchart('df-6e689dc7-f5da-4322-a998-b7f7c6a871fa')\"\n",
              "                title=\"Suggest charts\"\n",
              "                style=\"display:none;\">\n",
              "\n",
              "<svg xmlns=\"http://www.w3.org/2000/svg\" height=\"24px\"viewBox=\"0 0 24 24\"\n",
              "     width=\"24px\">\n",
              "    <g>\n",
              "        <path d=\"M19 3H5c-1.1 0-2 .9-2 2v14c0 1.1.9 2 2 2h14c1.1 0 2-.9 2-2V5c0-1.1-.9-2-2-2zM9 17H7v-7h2v7zm4 0h-2V7h2v10zm4 0h-2v-4h2v4z\"/>\n",
              "    </g>\n",
              "</svg>\n",
              "      </button>\n",
              "\n",
              "<style>\n",
              "  .colab-df-quickchart {\n",
              "      --bg-color: #E8F0FE;\n",
              "      --fill-color: #1967D2;\n",
              "      --hover-bg-color: #E2EBFA;\n",
              "      --hover-fill-color: #174EA6;\n",
              "      --disabled-fill-color: #AAA;\n",
              "      --disabled-bg-color: #DDD;\n",
              "  }\n",
              "\n",
              "  [theme=dark] .colab-df-quickchart {\n",
              "      --bg-color: #3B4455;\n",
              "      --fill-color: #D2E3FC;\n",
              "      --hover-bg-color: #434B5C;\n",
              "      --hover-fill-color: #FFFFFF;\n",
              "      --disabled-bg-color: #3B4455;\n",
              "      --disabled-fill-color: #666;\n",
              "  }\n",
              "\n",
              "  .colab-df-quickchart {\n",
              "    background-color: var(--bg-color);\n",
              "    border: none;\n",
              "    border-radius: 50%;\n",
              "    cursor: pointer;\n",
              "    display: none;\n",
              "    fill: var(--fill-color);\n",
              "    height: 32px;\n",
              "    padding: 0;\n",
              "    width: 32px;\n",
              "  }\n",
              "\n",
              "  .colab-df-quickchart:hover {\n",
              "    background-color: var(--hover-bg-color);\n",
              "    box-shadow: 0 1px 2px rgba(60, 64, 67, 0.3), 0 1px 3px 1px rgba(60, 64, 67, 0.15);\n",
              "    fill: var(--button-hover-fill-color);\n",
              "  }\n",
              "\n",
              "  .colab-df-quickchart-complete:disabled,\n",
              "  .colab-df-quickchart-complete:disabled:hover {\n",
              "    background-color: var(--disabled-bg-color);\n",
              "    fill: var(--disabled-fill-color);\n",
              "    box-shadow: none;\n",
              "  }\n",
              "\n",
              "  .colab-df-spinner {\n",
              "    border: 2px solid var(--fill-color);\n",
              "    border-color: transparent;\n",
              "    border-bottom-color: var(--fill-color);\n",
              "    animation:\n",
              "      spin 1s steps(1) infinite;\n",
              "  }\n",
              "\n",
              "  @keyframes spin {\n",
              "    0% {\n",
              "      border-color: transparent;\n",
              "      border-bottom-color: var(--fill-color);\n",
              "      border-left-color: var(--fill-color);\n",
              "    }\n",
              "    20% {\n",
              "      border-color: transparent;\n",
              "      border-left-color: var(--fill-color);\n",
              "      border-top-color: var(--fill-color);\n",
              "    }\n",
              "    30% {\n",
              "      border-color: transparent;\n",
              "      border-left-color: var(--fill-color);\n",
              "      border-top-color: var(--fill-color);\n",
              "      border-right-color: var(--fill-color);\n",
              "    }\n",
              "    40% {\n",
              "      border-color: transparent;\n",
              "      border-right-color: var(--fill-color);\n",
              "      border-top-color: var(--fill-color);\n",
              "    }\n",
              "    60% {\n",
              "      border-color: transparent;\n",
              "      border-right-color: var(--fill-color);\n",
              "    }\n",
              "    80% {\n",
              "      border-color: transparent;\n",
              "      border-right-color: var(--fill-color);\n",
              "      border-bottom-color: var(--fill-color);\n",
              "    }\n",
              "    90% {\n",
              "      border-color: transparent;\n",
              "      border-bottom-color: var(--fill-color);\n",
              "    }\n",
              "  }\n",
              "</style>\n",
              "\n",
              "      <script>\n",
              "        async function quickchart(key) {\n",
              "          const quickchartButtonEl =\n",
              "            document.querySelector('#' + key + ' button');\n",
              "          quickchartButtonEl.disabled = true;  // To prevent multiple clicks.\n",
              "          quickchartButtonEl.classList.add('colab-df-spinner');\n",
              "          try {\n",
              "            const charts = await google.colab.kernel.invokeFunction(\n",
              "                'suggestCharts', [key], {});\n",
              "          } catch (error) {\n",
              "            console.error('Error during call to suggestCharts:', error);\n",
              "          }\n",
              "          quickchartButtonEl.classList.remove('colab-df-spinner');\n",
              "          quickchartButtonEl.classList.add('colab-df-quickchart-complete');\n",
              "        }\n",
              "        (() => {\n",
              "          let quickchartButtonEl =\n",
              "            document.querySelector('#df-6e689dc7-f5da-4322-a998-b7f7c6a871fa button');\n",
              "          quickchartButtonEl.style.display =\n",
              "            google.colab.kernel.accessAllowed ? 'block' : 'none';\n",
              "        })();\n",
              "      </script>\n",
              "    </div>\n",
              "\n",
              "    </div>\n",
              "  </div>\n"
            ],
            "application/vnd.google.colaboratory.intrinsic+json": {
              "type": "dataframe",
              "variable_name": "df4",
              "summary": "{\n  \"name\": \"df4\",\n  \"rows\": 19487,\n  \"fields\": [\n    {\n      \"column\": \"lemmatized_lyrics\",\n      \"properties\": {\n        \"dtype\": \"string\",\n        \"num_unique_values\": 18254,\n        \"samples\": [\n          \"['woman', 'certain', 'age', 'learn', 'rely', 'judge', 'response', 'played', 'mating', 'game', 'doesnt', 'waste', 'time', 'cause', 'want', 'really', 'honest', 'emotion', 'one', 'cant', 'help', 'show', 'though', 'hardly', 'know', 'name', 'know', 'love', 'know', 'dont', 'want', 'lose', 'dont', 'even', 'want', 'say', 'goodbye', 'want', 'hold', 'true', 'love', 'true', 'love', 'woman', 'made', 'mistake', 'little', 'afraid', 'dont', 'like', 'taking', 'chance', 'play', 'waiting', 'game', 'shes', 'never', 'impressed', 'manly', 'advance', 'know', 'ive', 'met', 'maybe', 'know', 'better', 'look', 'way', 'there', 'something', 'inside', 'thats', 'right', 'dont', 'want', 'lose', 'dont', 'even', 'want', 'say', 'goodbye', 'oh', 'want', 'hold', 'true', 'love', 'true', 'love', 'dont', 'want', 'lose', 'always', 'want', 'feel', 'way', 'oh', 'yeah', 'cause', 'every', 'time', 'im', 'feel', 'true', 'love', 'true', 'love', 'true', 'love', 'tell', 'youre', 'real', 'youre', 'pretending', 'let', 'make', 'deal', 'cause', 'heart', 'depending', 'dont', 'want', 'lose', 'dont', 'even', 'want', 'say', 'goodbye', 'oh', 'want', 'hold', 'true', 'love', 'true', 'love', 'dont', 'want', 'lose', 'always', 'want', 'feel', 'way', 'oh', 'yeah', 'cause', 'every', 'time', 'im', 'feel', 'true', 'love', 'true', 'love', 'true', 'love', 'dont', 'want', 'lose', 'dont', 'even', 'want', 'say', 'goodbye', 'oh', 'want', 'hold', 'true', 'love', 'true', 'love', 'dont', 'want', 'lose', 'always', 'want', 'feel', 'way', 'cause', 'every', 'time', 'im', 'feel', 'true', 'love', 'true', 'love', 'true', 'love', 'dont', 'want', 'lose', 'dont', 'even', 'want', 'say', 'goodbye']\",\n          \"['created', 'likeness', 'fraud', 'hell', 'something', 'scary', 'prefer', 'loving', 'god', 'center', 'funny', 'universe', 'something', 'worse', 'serve', 'fear', 'curse', 'shallow', 'thy', 'game', 'two', 'thousand', 'year', 'look', 'mirror', 'play', 'game', 'shame', 'tell', 'people', 'live', 'fear', 'rival', 'way', 'see', 'bible', 'let', 'im', 'threat', 'survival', 'control', 'company', 'youll', 'never', 'burn', 'youll', 'never', 'burn', 'ill', 'heretic', 'cant', 'contain', 'power', 'free', 'truth', 'belongs', 'everybody', 'anyone', 'who', 'listenin', 'youre', 'born', 'sin', 'guilt', 'try', 'give', 'puke', 'nearest', 'bin', 'missionary', 'madness', 'sweep', 'culture', 'broom', 'trashing', 'ancient', 'way', 'par', 'course', 'fucking', 'rude', 'think', 'youre', 'law', 'nature', 'joke', 'purple', 'sash', 'feeding', 'mass', 'smoke', 'choke', 'might', 'monkey', 'come', 'holy', 'fundamental', 'hatred', 'get', 'knee', 'youll', 'never', 'burn', 'youll', 'never', 'burn', 'ill', 'heretic', 'cant', 'contain', 'power', 'free', 'truth', 'belongs', 'everybody']\",\n          \"['im', 'gettin', 'smell', 'perfume', 'sound', 'bare', 'foot', 'walkin', 'round', 'room', 'im', 'gettin', 'taste', 'lipstick', 'finger', 'hair', 'little', 'trick', 'chorus', 'im', 'alright', 'everything', 'still', 'got', 'problem', 'cutoff', 'jean', 'thats', 'whats', 'driving', 'crazy', 'deen', 'driving', 'crazy', 'driving', 'crazy', 'im', 'gettin', 'comeandgetme', 'eye', 'got', 'going', 'little', 'moan', 'sign', 'im', 'gettin', 'thing', 'used', 'thinking', 'le', 'late', 'night', 'rendezvous', 'chorus', 'doctor', 'doctor', 'doctor', 'help', 'something', 'cutoff', 'jean', 'keeping', 'doubt', 'thats', 'whats', 'driving', 'crazy', 'driving', 'crazy']\"\n        ],\n        \"semantic_type\": \"\",\n        \"description\": \"\"\n      }\n    },\n    {\n      \"column\": \"GENDER\",\n      \"properties\": {\n        \"dtype\": \"category\",\n        \"num_unique_values\": 2,\n        \"samples\": [\n          \"male\",\n          \"female\"\n        ],\n        \"semantic_type\": \"\",\n        \"description\": \"\"\n      }\n    }\n  ]\n}"
            }
          },
          "metadata": {},
          "execution_count": 104
        }
      ],
      "source": [
        "\n",
        "df4 = pd.read_csv('cleaned_eda.csv')\n",
        "df4.head()"
      ]
    },
    {
      "cell_type": "code",
      "source": [
        "import pandas as pd\n",
        "import numpy as np\n",
        "import re\n",
        "from nltk.tokenize import word_tokenize\n",
        "from nltk.stem import WordNetLemmatizer\n",
        "from collections import Counter\n",
        "\n",
        "df = df4\n",
        "\n",
        "def clean_lyrics(text):\n",
        "    text = re.sub(r'[^a-zA-Z0-9\\s!?]', '', str(text))\n",
        "    text = text.lower()\n",
        "    text = re.sub(r'\\s+', ' ', text).strip()\n",
        "    return text\n",
        "\n",
        "\n",
        "wnl = WordNetLemmatizer()\n",
        "\n",
        "\n",
        "\n",
        "vocab = {\"<PAD>\": 0, \"<UNK>\": 1}\n",
        "idx = 2\n",
        "for word in set(word for tokens in df[\"lemmatized_lyrics\"] for word in tokens):\n",
        "    if word not in vocab:\n",
        "        vocab[word] = idx\n",
        "        idx += 1\n",
        "\n",
        "\n",
        "def text_to_sequence(tokens, vocab):\n",
        "    return [vocab.get(word, vocab[\"<UNK>\"]) for word in tokens]\n",
        "\n",
        "df[\"seq\"] = df[\"lemmatized_lyrics\"].apply(lambda x: text_to_sequence(x, vocab))\n",
        "\n",
        "\n",
        "max_len = 100\n",
        "\n",
        "def pad_sequence(seq, max_len):\n",
        "    return seq[:max_len] + [0] * (max_len - len(seq)) if len(seq) < max_len else seq[:max_len]\n",
        "\n",
        "df[\"padded_seq\"] = df[\"seq\"].apply(lambda x: pad_sequence(x, max_len))\n",
        "\n",
        "\n",
        "label_map = {\"female\": 0, \"male\": 1}\n",
        "df[\"label\"] = df[\"GENDER\"].map(label_map)\n",
        "\n",
        "\n",
        "df_major = df[df[\"label\"] == 1]  # male\n",
        "df_minor = df[df[\"label\"] == 0]  # female\n",
        "\n",
        "n_major = len(df_major)\n",
        "n_minor = len(df_minor)\n",
        "n_to_add = n_major - n_minor\n",
        "\n",
        "df_minor_upsampled = df_minor.sample(n=n_to_add, replace=True, random_state=42)\n",
        "\n",
        "df_balanced = pd.concat([df_major, df_minor, df_minor_upsampled], axis=0)\n",
        "df_balanced = df_balanced.sample(frac=1.0, random_state=42).reset_index(drop=True)\n",
        "\n",
        "X = np.array(df_balanced[\"padded_seq\"].tolist())\n",
        "y = np.array(df_balanced[\"label\"])\n"
      ],
      "metadata": {
        "id": "Ipe1nXAsJhKX"
      },
      "id": "Ipe1nXAsJhKX",
      "execution_count": 105,
      "outputs": []
    },
    {
      "cell_type": "code",
      "source": [
        "# Shuffle & split\n",
        "np.random.seed(42)\n",
        "indices = np.random.permutation(len(X))\n",
        "split = int(len(X) * 0.8)\n",
        "\n",
        "X_train, X_test = X[indices[:split]], X[indices[split:]]\n",
        "y_train, y_test = y[indices[:split]], y[indices[split:]]\n"
      ],
      "metadata": {
        "id": "k92YG_MZJj8q"
      },
      "id": "k92YG_MZJj8q",
      "execution_count": 106,
      "outputs": []
    },
    {
      "cell_type": "code",
      "source": [
        "from mxnet import np as mx_np, npx, autograd\n",
        "npx.set_np()\n",
        "\n",
        "\n",
        "embed_size = 64\n",
        "hidden_size = 128\n",
        "output_size = 2\n",
        "lr = 0.001\n",
        "epochs = 5\n",
        "batch_size = 32\n",
        "\n",
        "\n",
        "X_train_nd = mx_np.array(X_train)\n",
        "y_train_nd = mx_np.array(y_train)\n",
        "X_test_nd = mx_np.array(X_test)\n",
        "y_test_nd = mx_np.array(y_test)\n",
        "X_train_nd = X_train_nd[:1024]\n",
        "y_train_nd = y_train_nd[:1024]\n",
        "\n",
        "\n",
        "vocab_size = len(vocab)\n",
        "W_embed = mx_np.random.normal(0, 0.01, (vocab_size, embed_size))\n",
        "W_xh    = mx_np.random.normal(0, 0.01, (embed_size, hidden_size))\n",
        "W_hh    = mx_np.random.normal(0, 0.01, (hidden_size, hidden_size))\n",
        "b_h     = mx_np.zeros(hidden_size)\n",
        "W_hq    = mx_np.random.normal(0, 0.01, (hidden_size * 2, output_size))  # bi-RNN\n",
        "b_q     = mx_np.zeros(output_size)\n",
        "\n",
        "params = [W_embed, W_xh, W_hh, b_h, W_hq, b_q]\n",
        "for p in params:\n",
        "    p.attach_grad()\n",
        "\n",
        "\n",
        "counts = np.bincount(y_train)\n",
        "weights_np = np.sum(counts) / (len(counts) * counts)\n",
        "weights_np /= weights_np.sum()\n",
        "weights = mx_np.array(weights_np, dtype=\"float32\")\n"
      ],
      "metadata": {
        "id": "nka47_pQJl9w"
      },
      "id": "nka47_pQJl9w",
      "execution_count": 107,
      "outputs": []
    },
    {
      "cell_type": "code",
      "source": [
        "from mxnet import np as mx_np, npx, autograd\n",
        "from mxnet.initializer import Xavier, InitDesc\n",
        "npx.set_np()\n",
        "\n",
        "\n",
        "embed_size = 64\n",
        "hidden_size = 128\n",
        "output_size = 2\n",
        "vocab_size = len(vocab)\n",
        "\n",
        "\n",
        "def init_xavier_params(param_shapes, ctx=None):\n",
        "    xavier = Xavier(rnd_type='gaussian', factor_type='avg', magnitude=2)\n",
        "    params = []\n",
        "    for _, shape in param_shapes.items():\n",
        "        arr = mx_np.empty(shape, ctx=ctx)\n",
        "        xavier(InitDesc('weight'), arr)\n",
        "        arr.attach_grad()\n",
        "        params.append(arr)\n",
        "    return params\n",
        "\n",
        "\n",
        "param_shapes = {\n",
        "    'W_embed': (vocab_size, embed_size),\n",
        "    'W_xh':    (embed_size, hidden_size),\n",
        "    'W_hh':    (hidden_size, hidden_size),\n",
        "    'W_hq':    (hidden_size * 2, output_size),\n",
        "}\n",
        "\n",
        "\n",
        "W_embed, W_xh, W_hh, W_hq = init_xavier_params(param_shapes)\n",
        "\n",
        "\n",
        "b_h = mx_np.zeros(hidden_size); b_h.attach_grad()\n",
        "b_q = mx_np.zeros(output_size); b_q.attach_grad()\n",
        "\n",
        "\n",
        "params = [W_embed, W_xh, W_hh, b_h, W_hq, b_q]\n"
      ],
      "metadata": {
        "id": "ewHmwCzbSMqP"
      },
      "id": "ewHmwCzbSMqP",
      "execution_count": 108,
      "outputs": []
    },
    {
      "cell_type": "code",
      "source": [
        "\n",
        "true_counts = np.bincount(df[\"label\"])\n",
        "weights_np = np.sum(true_counts) / (len(true_counts) * true_counts)\n",
        "weights_np /= weights_np.sum()\n",
        "weights = mx_np.array(weights_np, dtype=\"float32\")\n"
      ],
      "metadata": {
        "id": "S8Rwha-9Nj8P"
      },
      "id": "S8Rwha-9Nj8P",
      "execution_count": 109,
      "outputs": []
    },
    {
      "cell_type": "code",
      "source": [
        "def rnn_bi(X_batch, state_f, state_b, W_embed, W_xh, W_hh, b_h, W_hq, b_q, dropout_rate=0.5):\n",
        "    X_embed = W_embed[X_batch.astype(\"int32\")]\n",
        "    seq_len = X_embed.shape[1]\n",
        "\n",
        "    for t in range(seq_len):\n",
        "        xt = X_embed[:, t, :]\n",
        "        state_f = mx_np.tanh(mx_np.dot(xt, W_xh) + mx_np.dot(state_f, W_hh) + b_h)\n",
        "\n",
        "    for t in reversed(range(seq_len)):\n",
        "        xt = X_embed[:, t, :]\n",
        "        state_b = mx_np.tanh(mx_np.dot(xt, W_xh) + mx_np.dot(state_b, W_hh) + b_h)\n",
        "\n",
        "    state_cat = mx_np.concatenate([state_f, state_b], axis=1)\n",
        "    state_cat = npx.dropout(state_cat, p=dropout_rate)\n",
        "    return mx_np.dot(state_cat, W_hq) + b_q\n",
        "\n",
        "\n",
        "\n",
        "def cross_entropy(y_hat, y):\n",
        "    y = y.astype(\"int32\")\n",
        "    y_hat = mx_np.exp(y_hat - mx_np.max(y_hat, axis=1, keepdims=True))\n",
        "    y_hat = y_hat / mx_np.sum(y_hat, axis=1, keepdims=True)\n",
        "    return -mx_np.log(y_hat[mx_np.arange(y.shape[0]), y]).mean()\n",
        "\n",
        "def accuracy(y_hat, y):\n",
        "    return (mx_np.argmax(y_hat, axis=1) == y).mean().item()\n"
      ],
      "metadata": {
        "id": "4kDvLlx5JzPK"
      },
      "id": "4kDvLlx5JzPK",
      "execution_count": 110,
      "outputs": []
    },
    {
      "cell_type": "code",
      "source": [
        "def train_rnn():\n",
        "    for epoch in range(epochs):\n",
        "        total_loss, total_acc, num_batches = 0, 0, 0\n",
        "        idx = np.random.permutation(len(X_train_nd))\n",
        "        X_shuf = X_train_nd[idx]\n",
        "        y_shuf = y_train_nd[idx]\n",
        "\n",
        "        for i in range(0, len(X_shuf), batch_size):\n",
        "            X_batch = X_shuf[i:i+batch_size]\n",
        "            y_batch = y_shuf[i:i+batch_size]\n",
        "            bs = X_batch.shape[0]\n",
        "\n",
        "            state_f = mx_np.zeros((bs, hidden_size))\n",
        "            state_b = mx_np.zeros((bs, hidden_size))\n",
        "\n",
        "            for p in params:\n",
        "                p.grad[:] = 0\n",
        "\n",
        "            with autograd.record():\n",
        "                y_hat = rnn_bi(X_batch, state_f, state_b, *params)\n",
        "                loss = cross_entropy(y_hat, y_batch)\n",
        "\n",
        "            loss.backward()\n",
        "            for p in params:\n",
        "                p[:] -= lr * p.grad\n",
        "\n",
        "            total_loss += loss.item()\n",
        "            total_acc += accuracy(y_hat, y_batch)\n",
        "            num_batches += 1\n",
        "\n",
        "        print(f\"Epoch {epoch+1}: Loss = {total_loss/num_batches:.4f}, Acc = {total_acc/num_batches:.4f}\")\n",
        "\n",
        "train_rnn()"
      ],
      "metadata": {
        "colab": {
          "base_uri": "https://localhost:8080/"
        },
        "id": "cgw55sKvJ12U",
        "outputId": "6a039e32-5104-459b-c8d5-57b081212bad"
      },
      "id": "cgw55sKvJ12U",
      "execution_count": 111,
      "outputs": [
        {
          "output_type": "stream",
          "name": "stdout",
          "text": [
            "Epoch 1: Loss = 1.2133, Acc = 0.5059\n",
            "Epoch 2: Loss = 1.1624, Acc = 0.5029\n",
            "Epoch 3: Loss = 1.1071, Acc = 0.5137\n",
            "Epoch 4: Loss = 1.0825, Acc = 0.4980\n",
            "Epoch 5: Loss = 1.1014, Acc = 0.5107\n"
          ]
        }
      ]
    },
    {
      "cell_type": "code",
      "source": [
        "def evaluate(X_data, y_data):\n",
        "    y_preds = []\n",
        "    y_trues = []\n",
        "\n",
        "    for i in range(0, len(X_data), batch_size):\n",
        "        X_batch = X_data[i:i+batch_size]\n",
        "        y_batch = y_data[i:i+batch_size]\n",
        "        bs = X_batch.shape[0]\n",
        "\n",
        "        state_f = mx_np.zeros((bs, hidden_size))\n",
        "        state_b = mx_np.zeros((bs, hidden_size))\n",
        "        y_hat = rnn_bi(X_batch, state_f, state_b, *params, dropout_rate=0.0)\n",
        "        y_pred = mx_np.argmax(y_hat, axis=1)\n",
        "\n",
        "        y_preds.append(y_pred.asnumpy())\n",
        "        y_trues.append(y_batch.asnumpy())\n",
        "\n",
        "    y_preds = np.concatenate(y_preds)\n",
        "    y_true = np.concatenate(y_trues)\n",
        "\n",
        "\n",
        "    print(f\"\\nAccuracy: {(y_preds == y_true).mean() * 100:.2f}%\")\n",
        "    print(\"Predicted distribution:\", np.bincount(y_preds.astype(int)))\n",
        "\n",
        "    for label in [0, 1]:\n",
        "        tp = np.sum((y_preds == label) & (y_true == label))\n",
        "        fp = np.sum((y_preds == label) & (y_true != label))\n",
        "        fn = np.sum((y_preds != label) & (y_true == label))\n",
        "        support = np.sum(y_true == label)\n",
        "\n",
        "        precision = tp / (tp + fp) if (tp + fp) else 0.0\n",
        "        recall = tp / (tp + fn) if (tp + fn) else 0.0\n",
        "        f1 = 2 * precision * recall / (precision + recall) if (precision + recall) else 0.0\n",
        "\n",
        "        label_name = \"female\" if label == 0 else \"male\"\n",
        "        print(f\"{label_name}: Precision: {precision:.2f}  Recall: {recall:.2f}  F1: {f1:.2f}  Support: {support}\")\n",
        "\n",
        "\n",
        "evaluate(X_test_nd, y_test_nd)\n"
      ],
      "metadata": {
        "colab": {
          "base_uri": "https://localhost:8080/"
        },
        "id": "YYd1UQ5HKV2e",
        "outputId": "057c8fad-58bc-4d78-81bb-b24531f41e18"
      },
      "id": "YYd1UQ5HKV2e",
      "execution_count": 112,
      "outputs": [
        {
          "output_type": "stream",
          "name": "stdout",
          "text": [
            "\n",
            "Accuracy: 50.39%\n",
            "Predicted distribution: [4129 1930]\n",
            "female: Precision: 0.50  Recall: 0.69  F1: 0.58  Support: 3009\n",
            "male: Precision: 0.51  Recall: 0.32  F1: 0.40  Support: 3050\n"
          ]
        }
      ]
    },
    {
      "cell_type": "code",
      "source": [
        "import matplotlib.pyplot as plt\n",
        "import seaborn as sns\n",
        "import numpy as np\n",
        "\n",
        "def evaluate(X_data, y_data):\n",
        "    y_preds = []\n",
        "    y_probs = []\n",
        "    y_trues = []\n",
        "\n",
        "    for i in range(0, len(X_data), batch_size):\n",
        "        X_batch = X_data[i:i+batch_size]\n",
        "        y_batch = y_data[i:i+batch_size]\n",
        "        bs = X_batch.shape[0]\n",
        "\n",
        "        state_f = mx_np.zeros((bs, hidden_size))\n",
        "        state_b = mx_np.zeros((bs, hidden_size))\n",
        "        y_hat = rnn_bi(X_batch, state_f, state_b, *params, dropout_rate=0.0)\n",
        "\n",
        "        y_prob = npx.softmax(y_hat, axis=1)[:, 1]\n",
        "        y_pred = mx_np.argmax(y_hat, axis=1)\n",
        "\n",
        "        y_probs.append(y_prob.asnumpy())\n",
        "        y_preds.append(y_pred.asnumpy())\n",
        "        y_trues.append(y_batch.asnumpy())\n",
        "\n",
        "    y_probs = np.concatenate(y_probs)\n",
        "    y_preds = np.concatenate(y_preds)\n",
        "    y_true  = np.concatenate(y_trues)\n",
        "\n",
        "\n",
        "    tp = np.sum((y_preds == 1) & (y_true == 1))\n",
        "    fp = np.sum((y_preds == 1) & (y_true == 0))\n",
        "    fn = np.sum((y_preds == 0) & (y_true == 1))\n",
        "    tn = np.sum((y_preds == 0) & (y_true == 0))\n",
        "\n",
        "    precision = tp / (tp + fp) if (tp + fp) else 0.0\n",
        "    recall    = tp / (tp + fn) if (tp + fn) else 0.0\n",
        "    f1        = 2 * precision * recall / (precision + recall) if (precision + recall) else 0.0\n",
        "    accuracy  = (tp + tn) / len(y_true)\n",
        "\n",
        "    thresholds = np.unique(y_probs)[::-1]\n",
        "    tpr = []\n",
        "    fpr = []\n",
        "    for thresh in thresholds:\n",
        "        y_bin = (y_probs >= thresh).astype(int)\n",
        "        tp_ = np.sum((y_bin == 1) & (y_true == 1))\n",
        "        fp_ = np.sum((y_bin == 1) & (y_true == 0))\n",
        "        fn_ = np.sum((y_bin == 0) & (y_true == 1))\n",
        "        tn_ = np.sum((y_bin == 0) & (y_true == 0))\n",
        "        tpr.append(tp_ / (tp_ + fn_) if (tp_ + fn_) else 0.0)\n",
        "        fpr.append(fp_ / (fp_ + tn_) if (fp_ + tn_) else 0.0)\n",
        "\n",
        "    auc = np.trapz(tpr, fpr)\n",
        "\n",
        "\n",
        "    print(f\"\\nAccuracy : {accuracy * 100:.2f}%\")\n",
        "    print(f\"Precision: {precision:.4f}\")\n",
        "    print(f\"Recall   : {recall:.4f}\")\n",
        "    print(f\"F1 Score : {f1:.4f}\")\n",
        "    print(f\"AUC Score: {auc:.4f}\")\n",
        "\n",
        "\n",
        "    print(\"\\nConfusion Matrix:\")\n",
        "    print(\"         Predicted\")\n",
        "    print(\"         0 (female)    1 (male)\")\n",
        "    print(f\"Actual 0    {tn:5d}         {fp:5d}\")\n",
        "    print(f\"Actual 1    {fn:5d}         {tp:5d}\")\n",
        "\n",
        "\n",
        "    conf_matrix = np.array([[tn, fp], [fn, tp]])\n",
        "    labels = [\"Female\", \"Male\"]\n",
        "    plt.figure(figsize=(5.5, 4.5))\n",
        "    sns.heatmap(conf_matrix, annot=True, fmt=\"d\", cmap=\"Blues\",\n",
        "                xticklabels=labels, yticklabels=labels, cbar=False)\n",
        "    plt.xlabel(\"Predicted Label\")\n",
        "    plt.ylabel(\"True Label\")\n",
        "    plt.title(\"Confusion Matrix\")\n",
        "    plt.tight_layout()\n",
        "    plt.show()\n",
        "\n",
        "\n",
        "    plt.figure(figsize=(6, 4))\n",
        "    plt.plot(fpr, tpr, marker='.', label=f\"AUC = {auc:.4f}\")\n",
        "    plt.plot([0, 1], [0, 1], linestyle='--', color='gray')\n",
        "    plt.xlabel(\"False Positive Rate\")\n",
        "    plt.ylabel(\"True Positive Rate\")\n",
        "    plt.title(\"ROC Curve\")\n",
        "    plt.legend()\n",
        "    plt.grid(True)\n",
        "    plt.tight_layout()\n",
        "    plt.show()\n"
      ],
      "metadata": {
        "id": "zdMJbrYgaThr"
      },
      "id": "zdMJbrYgaThr",
      "execution_count": 123,
      "outputs": []
    },
    {
      "cell_type": "code",
      "source": [
        "evaluate(X_test_nd, y_test_nd)\n"
      ],
      "metadata": {
        "colab": {
          "base_uri": "https://localhost:8080/",
          "height": 1000
        },
        "id": "B4kN4LuxaXge",
        "outputId": "0175400c-a035-4a4b-a9d5-f41d12ae9d28"
      },
      "id": "B4kN4LuxaXge",
      "execution_count": 124,
      "outputs": [
        {
          "output_type": "stream",
          "name": "stdout",
          "text": [
            "\n",
            "Accuracy : 50.39%\n",
            "Precision: 0.5114\n",
            "Recall   : 0.3236\n",
            "F1 Score : 0.3964\n",
            "AUC Score: 0.5000\n",
            "\n",
            "Confusion Matrix:\n",
            "         Predicted\n",
            "         0 (female)    1 (male)\n",
            "Actual 0     2066           943\n",
            "Actual 1     2063           987\n"
          ]
        },
        {
          "output_type": "display_data",
          "data": {
            "text/plain": [
              "<Figure size 550x450 with 1 Axes>"
            ],
            "image/png": "[encoded data removed]"
          },
          "metadata": {}
        },
        {
          "output_type": "display_data",
          "data": {
            "text/plain": [
              "<Figure size 600x400 with 1 Axes>"
            ],
            "image/png": "[encoded data removed]"
          },
          "metadata": {}
        }
      ]
    }
  ],
  "metadata": {
    "kernelspec": {
      "display_name": "Python 3 (ipykernel)",
      "language": "python",
      "name": "python3"
    },
    "language_info": {
      "codemirror_mode": {
        "name": "ipython",
        "version": 3
      },
      "file_extension": ".py",
      "mimetype": "text/x-python",
      "name": "python",
      "nbconvert_exporter": "python",
      "pygments_lexer": "ipython3",
      "version": "3.9.12"
    },
    "colab": {
      "provenance": []
    }
  },
  "nbformat": 4,
  "nbformat_minor": 5
}