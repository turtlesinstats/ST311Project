{
 "cells": [
  {
   "cell_type": "markdown",
   "id": "e12b5940",
   "metadata": {},
   "source": [
    "# Creating Data Set"
   ]
  },
  {
   "cell_type": "markdown",
   "id": "c7894791",
   "metadata": {},
   "source": [
    "### Loading libraries"
   ]
  },
  {
   "cell_type": "code",
   "execution_count": 2,
   "id": "1d4f071e",
   "metadata": {},
   "outputs": [],
   "source": [
    "import pandas as pd"
   ]
  },
  {
   "cell_type": "code",
   "execution_count": 3,
   "id": "ed5beae3",
   "metadata": {},
   "outputs": [],
   "source": [
    "import re"
   ]
  },
  {
   "cell_type": "markdown",
   "id": "05d5643d",
   "metadata": {},
   "source": [
    "### Loading separate data sets"
   ]
  },
  {
   "cell_type": "code",
   "execution_count": 4,
   "id": "6347a09e",
   "metadata": {},
   "outputs": [
    {
     "name": "stderr",
     "output_type": "stream",
     "text": [
      "/var/folders/5v/khx63py14cb1kzdxlxgh37th0000gn/T/ipykernel_1188/1498009817.py:4: DtypeWarning: Columns (2) have mixed types. Specify dtype option on import or set low_memory=False.\n",
      "  genders_df = pd.read_csv(\"Gender_Dateset_2.5.csv\")\n"
     ]
    },
    {
     "data": {
      "text/html": [
       "<div>\n",
       "<style scoped>\n",
       "    .dataframe tbody tr th:only-of-type {\n",
       "        vertical-align: middle;\n",
       "    }\n",
       "\n",
       "    .dataframe tbody tr th {\n",
       "        vertical-align: top;\n",
       "    }\n",
       "\n",
       "    .dataframe thead th {\n",
       "        text-align: right;\n",
       "    }\n",
       "</style>\n",
       "<table border=\"1\" class=\"dataframe\">\n",
       "  <thead>\n",
       "    <tr style=\"text-align: right;\">\n",
       "      <th></th>\n",
       "      <th>Unnamed: 0</th>\n",
       "      <th>artist</th>\n",
       "      <th>seq</th>\n",
       "      <th>song</th>\n",
       "      <th>label</th>\n",
       "    </tr>\n",
       "  </thead>\n",
       "  <tbody>\n",
       "    <tr>\n",
       "      <th>0</th>\n",
       "      <td>0</td>\n",
       "      <td>Elijah Blake</td>\n",
       "      <td>No, no\\r\\nI ain't ever trapped out the bando\\r...</td>\n",
       "      <td>Everyday</td>\n",
       "      <td>0.626</td>\n",
       "    </tr>\n",
       "    <tr>\n",
       "      <th>1</th>\n",
       "      <td>1</td>\n",
       "      <td>Elijah Blake</td>\n",
       "      <td>The drinks go down and smoke goes up, I feel m...</td>\n",
       "      <td>Live Till We Die</td>\n",
       "      <td>0.630</td>\n",
       "    </tr>\n",
       "    <tr>\n",
       "      <th>2</th>\n",
       "      <td>2</td>\n",
       "      <td>Elijah Blake</td>\n",
       "      <td>She don't live on planet Earth no more\\r\\nShe ...</td>\n",
       "      <td>The Otherside</td>\n",
       "      <td>0.240</td>\n",
       "    </tr>\n",
       "    <tr>\n",
       "      <th>3</th>\n",
       "      <td>3</td>\n",
       "      <td>Elijah Blake</td>\n",
       "      <td>Trippin' off that Grigio, mobbin', lights low\\...</td>\n",
       "      <td>Pinot</td>\n",
       "      <td>0.536</td>\n",
       "    </tr>\n",
       "    <tr>\n",
       "      <th>4</th>\n",
       "      <td>4</td>\n",
       "      <td>Elijah Blake</td>\n",
       "      <td>I see a midnight panther, so gallant and so br...</td>\n",
       "      <td>Shadows &amp; Diamonds</td>\n",
       "      <td>0.371</td>\n",
       "    </tr>\n",
       "  </tbody>\n",
       "</table>\n",
       "</div>"
      ],
      "text/plain": [
       "   Unnamed: 0        artist  \\\n",
       "0           0  Elijah Blake   \n",
       "1           1  Elijah Blake   \n",
       "2           2  Elijah Blake   \n",
       "3           3  Elijah Blake   \n",
       "4           4  Elijah Blake   \n",
       "\n",
       "                                                 seq                song  \\\n",
       "0  No, no\\r\\nI ain't ever trapped out the bando\\r...            Everyday   \n",
       "1  The drinks go down and smoke goes up, I feel m...    Live Till We Die   \n",
       "2  She don't live on planet Earth no more\\r\\nShe ...       The Otherside   \n",
       "3  Trippin' off that Grigio, mobbin', lights low\\...               Pinot   \n",
       "4  I see a midnight panther, so gallant and so br...  Shadows & Diamonds   \n",
       "\n",
       "   label  \n",
       "0  0.626  \n",
       "1  0.630  \n",
       "2  0.240  \n",
       "3  0.536  \n",
       "4  0.371  "
      ]
     },
     "execution_count": 4,
     "metadata": {},
     "output_type": "execute_result"
    }
   ],
   "source": [
    "# Loading datasets \n",
    "lyrics_df = pd.read_csv(\"labeled_lyrics_cleaned.csv\")  \n",
    "\n",
    "genders_df = pd.read_csv(\"Gender_Dateset_2.5.csv\")\n",
    "\n",
    "# Verify\n",
    "lyrics_df.head()"
   ]
  },
  {
   "cell_type": "code",
   "execution_count": 5,
   "id": "47f19738",
   "metadata": {},
   "outputs": [
    {
     "data": {
      "text/html": [
       "<div>\n",
       "<style scoped>\n",
       "    .dataframe tbody tr th:only-of-type {\n",
       "        vertical-align: middle;\n",
       "    }\n",
       "\n",
       "    .dataframe tbody tr th {\n",
       "        vertical-align: top;\n",
       "    }\n",
       "\n",
       "    .dataframe thead th {\n",
       "        text-align: right;\n",
       "    }\n",
       "</style>\n",
       "<table border=\"1\" class=\"dataframe\">\n",
       "  <thead>\n",
       "    <tr style=\"text-align: right;\">\n",
       "      <th></th>\n",
       "      <th>CHARTMETRIC_ID</th>\n",
       "      <th>NAME</th>\n",
       "      <th>ARTIST_COUNTRY</th>\n",
       "      <th>PRONOUN</th>\n",
       "      <th>GENDER</th>\n",
       "      <th>IS_BAND</th>\n",
       "      <th>GENRE</th>\n",
       "    </tr>\n",
       "  </thead>\n",
       "  <tbody>\n",
       "    <tr>\n",
       "      <th>0</th>\n",
       "      <td>13268492</td>\n",
       "      <td>Anthony Moschella</td>\n",
       "      <td>NaN</td>\n",
       "      <td>he/him</td>\n",
       "      <td>NaN</td>\n",
       "      <td>NaN</td>\n",
       "      <td>[\\n  \"Others\"\\n]</td>\n",
       "    </tr>\n",
       "    <tr>\n",
       "      <th>1</th>\n",
       "      <td>9727628</td>\n",
       "      <td>thelostnoiz</td>\n",
       "      <td>NaN</td>\n",
       "      <td>NaN</td>\n",
       "      <td>NaN</td>\n",
       "      <td>NaN</td>\n",
       "      <td>[\\n  \"pop\",\\n  \"Electronic\"\\n]</td>\n",
       "    </tr>\n",
       "    <tr>\n",
       "      <th>2</th>\n",
       "      <td>7283739</td>\n",
       "      <td>Meech Lucidreamz</td>\n",
       "      <td>NaN</td>\n",
       "      <td>he/him</td>\n",
       "      <td>NaN</td>\n",
       "      <td>False</td>\n",
       "      <td>[\\n  \"lofi\",\\n  \"Hip-Hop/Rap\",\\n  \"R&amp;B/Soul\"\\n]</td>\n",
       "    </tr>\n",
       "    <tr>\n",
       "      <th>3</th>\n",
       "      <td>6418671</td>\n",
       "      <td>Johnny Mo Gospel</td>\n",
       "      <td>NaN</td>\n",
       "      <td>he/him</td>\n",
       "      <td>NaN</td>\n",
       "      <td>False</td>\n",
       "      <td>[\\n  \"soundtrack\",\\n  \"Christian\",\\n  \"Holiday...</td>\n",
       "    </tr>\n",
       "    <tr>\n",
       "      <th>4</th>\n",
       "      <td>11279715</td>\n",
       "      <td>Oneiro</td>\n",
       "      <td>NaN</td>\n",
       "      <td>NaN</td>\n",
       "      <td>NaN</td>\n",
       "      <td>NaN</td>\n",
       "      <td>[\\n  \"metal\",\\n  \"rock\",\\n  \"Metal\"\\n]</td>\n",
       "    </tr>\n",
       "  </tbody>\n",
       "</table>\n",
       "</div>"
      ],
      "text/plain": [
       "   CHARTMETRIC_ID               NAME ARTIST_COUNTRY PRONOUN GENDER IS_BAND  \\\n",
       "0        13268492  Anthony Moschella            NaN  he/him    NaN     NaN   \n",
       "1         9727628        thelostnoiz            NaN     NaN    NaN     NaN   \n",
       "2         7283739   Meech Lucidreamz            NaN  he/him    NaN   False   \n",
       "3         6418671   Johnny Mo Gospel            NaN  he/him    NaN   False   \n",
       "4        11279715             Oneiro            NaN     NaN    NaN     NaN   \n",
       "\n",
       "                                               GENRE  \n",
       "0                                   [\\n  \"Others\"\\n]  \n",
       "1                     [\\n  \"pop\",\\n  \"Electronic\"\\n]  \n",
       "2    [\\n  \"lofi\",\\n  \"Hip-Hop/Rap\",\\n  \"R&B/Soul\"\\n]  \n",
       "3  [\\n  \"soundtrack\",\\n  \"Christian\",\\n  \"Holiday...  \n",
       "4             [\\n  \"metal\",\\n  \"rock\",\\n  \"Metal\"\\n]  "
      ]
     },
     "execution_count": 5,
     "metadata": {},
     "output_type": "execute_result"
    }
   ],
   "source": [
    "genders_df.head()"
   ]
  },
  {
   "cell_type": "markdown",
   "id": "218abcc3",
   "metadata": {},
   "source": [
    "### Initial data wrangling"
   ]
  },
  {
   "cell_type": "code",
   "execution_count": 6,
   "id": "8ff52c6e",
   "metadata": {},
   "outputs": [],
   "source": [
    "# Removing columns\n",
    "lyrics_df = lyrics_df.drop(columns=[\"Unnamed: 0\", \"song\", \"label\"])"
   ]
  },
  {
   "cell_type": "code",
   "execution_count": 7,
   "id": "24930139",
   "metadata": {},
   "outputs": [],
   "source": [
    "genders_df = genders_df[[\"NAME\", \"GENDER\", \"IS_BAND\"]]"
   ]
  },
  {
   "cell_type": "code",
   "execution_count": 8,
   "id": "58300ff3",
   "metadata": {},
   "outputs": [
    {
     "data": {
      "text/plain": [
       "Index(['NAME', 'GENDER', 'IS_BAND'], dtype='object')"
      ]
     },
     "execution_count": 8,
     "metadata": {},
     "output_type": "execute_result"
    }
   ],
   "source": [
    "lyrics_df.columns"
   ]
  },
  {
   "cell_type": "code",
   "execution_count": 9,
   "id": "f4847874",
   "metadata": {},
   "outputs": [
    {
     "data": {
      "text/plain": [
       "Index(['NAME', 'GENDER', 'IS_BAND'], dtype='object')"
      ]
     },
     "execution_count": 9,
     "metadata": {},
     "output_type": "execute_result"
    }
   ],
   "source": [
    "genders_df.columns"
   ]
  },
  {
   "cell_type": "code",
   "execution_count": 10,
   "id": "942441e8",
   "metadata": {
    "scrolled": true
   },
   "outputs": [
    {
     "data": {
      "text/html": [
       "<div>\n",
       "<style scoped>\n",
       "    .dataframe tbody tr th:only-of-type {\n",
       "        vertical-align: middle;\n",
       "    }\n",
       "\n",
       "    .dataframe tbody tr th {\n",
       "        vertical-align: top;\n",
       "    }\n",
       "\n",
       "    .dataframe thead th {\n",
       "        text-align: right;\n",
       "    }\n",
       "</style>\n",
       "<table border=\"1\" class=\"dataframe\">\n",
       "  <thead>\n",
       "    <tr style=\"text-align: right;\">\n",
       "      <th></th>\n",
       "      <th>artist</th>\n",
       "      <th>seq</th>\n",
       "    </tr>\n",
       "  </thead>\n",
       "  <tbody>\n",
       "    <tr>\n",
       "      <th>0</th>\n",
       "      <td>Elijah Blake</td>\n",
       "      <td>No, no\\r\\nI ain't ever trapped out the bando\\r...</td>\n",
       "    </tr>\n",
       "    <tr>\n",
       "      <th>1</th>\n",
       "      <td>Elijah Blake</td>\n",
       "      <td>The drinks go down and smoke goes up, I feel m...</td>\n",
       "    </tr>\n",
       "    <tr>\n",
       "      <th>2</th>\n",
       "      <td>Elijah Blake</td>\n",
       "      <td>She don't live on planet Earth no more\\r\\nShe ...</td>\n",
       "    </tr>\n",
       "    <tr>\n",
       "      <th>3</th>\n",
       "      <td>Elijah Blake</td>\n",
       "      <td>Trippin' off that Grigio, mobbin', lights low\\...</td>\n",
       "    </tr>\n",
       "    <tr>\n",
       "      <th>4</th>\n",
       "      <td>Elijah Blake</td>\n",
       "      <td>I see a midnight panther, so gallant and so br...</td>\n",
       "    </tr>\n",
       "  </tbody>\n",
       "</table>\n",
       "</div>"
      ],
      "text/plain": [
       "         artist                                                seq\n",
       "0  Elijah Blake  No, no\\r\\nI ain't ever trapped out the bando\\r...\n",
       "1  Elijah Blake  The drinks go down and smoke goes up, I feel m...\n",
       "2  Elijah Blake  She don't live on planet Earth no more\\r\\nShe ...\n",
       "3  Elijah Blake  Trippin' off that Grigio, mobbin', lights low\\...\n",
       "4  Elijah Blake  I see a midnight panther, so gallant and so br..."
      ]
     },
     "execution_count": 10,
     "metadata": {},
     "output_type": "execute_result"
    }
   ],
   "source": [
    "lyrics_df.head()"
   ]
  },
  {
   "cell_type": "code",
   "execution_count": 11,
   "id": "6bf5210d",
   "metadata": {},
   "outputs": [
    {
     "data": {
      "text/html": [
       "<div>\n",
       "<style scoped>\n",
       "    .dataframe tbody tr th:only-of-type {\n",
       "        vertical-align: middle;\n",
       "    }\n",
       "\n",
       "    .dataframe tbody tr th {\n",
       "        vertical-align: top;\n",
       "    }\n",
       "\n",
       "    .dataframe thead th {\n",
       "        text-align: right;\n",
       "    }\n",
       "</style>\n",
       "<table border=\"1\" class=\"dataframe\">\n",
       "  <thead>\n",
       "    <tr style=\"text-align: right;\">\n",
       "      <th></th>\n",
       "      <th>NAME</th>\n",
       "      <th>GENDER</th>\n",
       "      <th>IS_BAND</th>\n",
       "    </tr>\n",
       "  </thead>\n",
       "  <tbody>\n",
       "    <tr>\n",
       "      <th>0</th>\n",
       "      <td>Anthony Moschella</td>\n",
       "      <td>NaN</td>\n",
       "      <td>NaN</td>\n",
       "    </tr>\n",
       "    <tr>\n",
       "      <th>1</th>\n",
       "      <td>thelostnoiz</td>\n",
       "      <td>NaN</td>\n",
       "      <td>NaN</td>\n",
       "    </tr>\n",
       "    <tr>\n",
       "      <th>2</th>\n",
       "      <td>Meech Lucidreamz</td>\n",
       "      <td>NaN</td>\n",
       "      <td>False</td>\n",
       "    </tr>\n",
       "    <tr>\n",
       "      <th>3</th>\n",
       "      <td>Johnny Mo Gospel</td>\n",
       "      <td>NaN</td>\n",
       "      <td>False</td>\n",
       "    </tr>\n",
       "    <tr>\n",
       "      <th>4</th>\n",
       "      <td>Oneiro</td>\n",
       "      <td>NaN</td>\n",
       "      <td>NaN</td>\n",
       "    </tr>\n",
       "  </tbody>\n",
       "</table>\n",
       "</div>"
      ],
      "text/plain": [
       "                NAME GENDER IS_BAND\n",
       "0  Anthony Moschella    NaN     NaN\n",
       "1        thelostnoiz    NaN     NaN\n",
       "2   Meech Lucidreamz    NaN   False\n",
       "3   Johnny Mo Gospel    NaN   False\n",
       "4             Oneiro    NaN     NaN"
      ]
     },
     "execution_count": 11,
     "metadata": {},
     "output_type": "execute_result"
    }
   ],
   "source": [
    "genders_df.head()"
   ]
  },
  {
   "cell_type": "code",
   "execution_count": 12,
   "id": "a332ed3f",
   "metadata": {},
   "outputs": [
    {
     "name": "stdout",
     "output_type": "stream",
     "text": [
      "male                     2198\n",
      "mixed                     889\n",
      "female                    323\n",
      "non-binary                108\n",
      "not specified              59\n",
      "androgynous                18\n",
      "transgender                12\n",
      "gender non-conforming       7\n",
      "gender neutral              7\n",
      "transgender woman           5\n",
      "genderqueer                 5\n",
      "genderfluid                 3\n",
      "agender                     2\n",
      "transgender man             1\n",
      "two-spirit                  1\n",
      "trans-masculine             1\n",
      "Name: GENDER, dtype: int64\n"
     ]
    }
   ],
   "source": [
    "# So we know what to do with bands\n",
    "# Bands have many genders linked, can discuss later\n",
    "print(genders_df[genders_df[\"IS_BAND\"] == True][\"GENDER\"].value_counts())\n",
    "\n"
   ]
  },
  {
   "cell_type": "code",
   "execution_count": 13,
   "id": "38ae7227",
   "metadata": {},
   "outputs": [
    {
     "name": "stdout",
     "output_type": "stream",
     "text": [
      "Done\n"
     ]
    }
   ],
   "source": [
    "# Check if name has missing values or is not string and remove those rows\n",
    "lyrics_df = lyrics_df.dropna(subset=[\"artist\"])\n",
    "gender_df = genders_df.dropna(subset=[\"NAME\"])\n",
    "\n",
    "lyrics_df = lyrics_df[lyrics_df[\"artist\"].apply(lambda x: isinstance(x, str))]\n",
    "genders_df = genders_df[genders_df[\"NAME\"].apply(lambda x: isinstance(x, str))]\n",
    "\n",
    "print(\"Done\")\n"
   ]
  },
  {
   "cell_type": "markdown",
   "id": "25b66301",
   "metadata": {},
   "source": [
    "### Cleaning names"
   ]
  },
  {
   "cell_type": "code",
   "execution_count": 14,
   "id": "b5ead8f4",
   "metadata": {},
   "outputs": [],
   "source": [
    "# Function to clean name\n",
    "def clean_name(name):\n",
    "    name = name.lower().strip()  \n",
    "    name = re.sub(r'[^\\w\\s]', '', name)   # Got re from chatgpt\n",
    "    \n",
    "    return name"
   ]
  },
  {
   "cell_type": "code",
   "execution_count": 15,
   "id": "4d63dfde",
   "metadata": {},
   "outputs": [],
   "source": [
    "# Cleaning both artists names\n",
    "lyrics_df[\"artist_clean\"] = lyrics_df[\"artist\"].apply(clean_name)\n",
    "genders_df[\"artist_clean\"] = genders_df[\"NAME\"].apply(clean_name)"
   ]
  },
  {
   "cell_type": "code",
   "execution_count": 16,
   "id": "a14477f2",
   "metadata": {},
   "outputs": [
    {
     "data": {
      "text/html": [
       "<div>\n",
       "<style scoped>\n",
       "    .dataframe tbody tr th:only-of-type {\n",
       "        vertical-align: middle;\n",
       "    }\n",
       "\n",
       "    .dataframe tbody tr th {\n",
       "        vertical-align: top;\n",
       "    }\n",
       "\n",
       "    .dataframe thead th {\n",
       "        text-align: right;\n",
       "    }\n",
       "</style>\n",
       "<table border=\"1\" class=\"dataframe\">\n",
       "  <thead>\n",
       "    <tr style=\"text-align: right;\">\n",
       "      <th></th>\n",
       "      <th>NAME</th>\n",
       "      <th>GENDER</th>\n",
       "      <th>IS_BAND</th>\n",
       "      <th>artist_clean</th>\n",
       "    </tr>\n",
       "  </thead>\n",
       "  <tbody>\n",
       "    <tr>\n",
       "      <th>0</th>\n",
       "      <td>Anthony Moschella</td>\n",
       "      <td>NaN</td>\n",
       "      <td>NaN</td>\n",
       "      <td>anthony moschella</td>\n",
       "    </tr>\n",
       "    <tr>\n",
       "      <th>1</th>\n",
       "      <td>thelostnoiz</td>\n",
       "      <td>NaN</td>\n",
       "      <td>NaN</td>\n",
       "      <td>thelostnoiz</td>\n",
       "    </tr>\n",
       "    <tr>\n",
       "      <th>2</th>\n",
       "      <td>Meech Lucidreamz</td>\n",
       "      <td>NaN</td>\n",
       "      <td>False</td>\n",
       "      <td>meech lucidreamz</td>\n",
       "    </tr>\n",
       "    <tr>\n",
       "      <th>3</th>\n",
       "      <td>Johnny Mo Gospel</td>\n",
       "      <td>NaN</td>\n",
       "      <td>False</td>\n",
       "      <td>johnny mo gospel</td>\n",
       "    </tr>\n",
       "    <tr>\n",
       "      <th>4</th>\n",
       "      <td>Oneiro</td>\n",
       "      <td>NaN</td>\n",
       "      <td>NaN</td>\n",
       "      <td>oneiro</td>\n",
       "    </tr>\n",
       "  </tbody>\n",
       "</table>\n",
       "</div>"
      ],
      "text/plain": [
       "                NAME GENDER IS_BAND       artist_clean\n",
       "0  Anthony Moschella    NaN     NaN  anthony moschella\n",
       "1        thelostnoiz    NaN     NaN        thelostnoiz\n",
       "2   Meech Lucidreamz    NaN   False   meech lucidreamz\n",
       "3   Johnny Mo Gospel    NaN   False   johnny mo gospel\n",
       "4             Oneiro    NaN     NaN             oneiro"
      ]
     },
     "execution_count": 16,
     "metadata": {},
     "output_type": "execute_result"
    }
   ],
   "source": [
    "genders_df.head()"
   ]
  },
  {
   "cell_type": "markdown",
   "id": "9a0a5606",
   "metadata": {},
   "source": [
    "### Keep only unique values"
   ]
  },
  {
   "cell_type": "code",
   "execution_count": 17,
   "id": "67d38a4c",
   "metadata": {},
   "outputs": [
    {
     "name": "stdout",
     "output_type": "stream",
     "text": [
      "149745\n"
     ]
    }
   ],
   "source": [
    "# Remove dupes in genders\n",
    "duplicated_artists = genders_df[genders_df.duplicated(subset='artist_clean', keep=False)]\n",
    "\n",
    "# Check count\n",
    "print(len(duplicated_artists))"
   ]
  },
  {
   "cell_type": "code",
   "execution_count": 18,
   "id": "14668037",
   "metadata": {},
   "outputs": [
    {
     "name": "stdout",
     "output_type": "stream",
     "text": [
      "949666\n"
     ]
    }
   ],
   "source": [
    "# List duplicates\n",
    "duplicated_artists_names = genders_df[genders_df.duplicated(subset='artist_clean', keep=False)]['artist_clean'].unique()\n",
    "\n",
    "# Remove relevant rows\n",
    "genders_df_cleaned = genders_df[~genders_df['artist_clean'].isin(duplicated_artists_names)]\n",
    "\n",
    "# Check remaining rows\n",
    "print(len(genders_df_cleaned))"
   ]
  },
  {
   "cell_type": "markdown",
   "id": "6565defe",
   "metadata": {},
   "source": [
    "### Merge"
   ]
  },
  {
   "cell_type": "code",
   "execution_count": 19,
   "id": "06490290",
   "metadata": {},
   "outputs": [
    {
     "name": "stdout",
     "output_type": "stream",
     "text": [
      "124242\n"
     ]
    }
   ],
   "source": [
    "# Merge, keep all rows from lyrics_df\n",
    "merged_df = lyrics_df.merge(genders_df_cleaned, left_on=\"artist_clean\", right_on=\"artist_clean\", how=\"inner\")\n",
    "\n",
    "# Check the number of rows in the merged dataset\n",
    "print(len(merged_df))\n"
   ]
  },
  {
   "cell_type": "code",
   "execution_count": 20,
   "id": "76b90bde",
   "metadata": {},
   "outputs": [
    {
     "data": {
      "text/html": [
       "<div>\n",
       "<style scoped>\n",
       "    .dataframe tbody tr th:only-of-type {\n",
       "        vertical-align: middle;\n",
       "    }\n",
       "\n",
       "    .dataframe tbody tr th {\n",
       "        vertical-align: top;\n",
       "    }\n",
       "\n",
       "    .dataframe thead th {\n",
       "        text-align: right;\n",
       "    }\n",
       "</style>\n",
       "<table border=\"1\" class=\"dataframe\">\n",
       "  <thead>\n",
       "    <tr style=\"text-align: right;\">\n",
       "      <th></th>\n",
       "      <th>artist</th>\n",
       "      <th>seq</th>\n",
       "      <th>artist_clean</th>\n",
       "      <th>NAME</th>\n",
       "      <th>GENDER</th>\n",
       "      <th>IS_BAND</th>\n",
       "    </tr>\n",
       "  </thead>\n",
       "  <tbody>\n",
       "    <tr>\n",
       "      <th>0</th>\n",
       "      <td>Elijah Harris</td>\n",
       "      <td>To believe\\r\\nOr not to believe\\r\\nThat is the...</td>\n",
       "      <td>elijah harris</td>\n",
       "      <td>Elijah Harris</td>\n",
       "      <td>NaN</td>\n",
       "      <td>False</td>\n",
       "    </tr>\n",
       "    <tr>\n",
       "      <th>1</th>\n",
       "      <td>Elis Regina</td>\n",
       "      <td>Deve ser bom, deve ser bom\\r\\nTo fechado pra b...</td>\n",
       "      <td>elis regina</td>\n",
       "      <td>Elis Regina</td>\n",
       "      <td>NaN</td>\n",
       "      <td>False</td>\n",
       "    </tr>\n",
       "    <tr>\n",
       "      <th>2</th>\n",
       "      <td>Elis Regina</td>\n",
       "      <td>Once there was a way to get back homeward\\r\\nO...</td>\n",
       "      <td>elis regina</td>\n",
       "      <td>Elis Regina</td>\n",
       "      <td>NaN</td>\n",
       "      <td>False</td>\n",
       "    </tr>\n",
       "    <tr>\n",
       "      <th>3</th>\n",
       "      <td>Elis Regina</td>\n",
       "      <td>Gracias a la vida que me ha dado tanto\\r\\nMe d...</td>\n",
       "      <td>elis regina</td>\n",
       "      <td>Elis Regina</td>\n",
       "      <td>NaN</td>\n",
       "      <td>False</td>\n",
       "    </tr>\n",
       "    <tr>\n",
       "      <th>4</th>\n",
       "      <td>Elis Regina</td>\n",
       "      <td>Sad is to live in solitude\\r\\nFar from your tr...</td>\n",
       "      <td>elis regina</td>\n",
       "      <td>Elis Regina</td>\n",
       "      <td>NaN</td>\n",
       "      <td>False</td>\n",
       "    </tr>\n",
       "  </tbody>\n",
       "</table>\n",
       "</div>"
      ],
      "text/plain": [
       "          artist                                                seq  \\\n",
       "0  Elijah Harris  To believe\\r\\nOr not to believe\\r\\nThat is the...   \n",
       "1    Elis Regina  Deve ser bom, deve ser bom\\r\\nTo fechado pra b...   \n",
       "2    Elis Regina  Once there was a way to get back homeward\\r\\nO...   \n",
       "3    Elis Regina  Gracias a la vida que me ha dado tanto\\r\\nMe d...   \n",
       "4    Elis Regina  Sad is to live in solitude\\r\\nFar from your tr...   \n",
       "\n",
       "    artist_clean           NAME GENDER IS_BAND  \n",
       "0  elijah harris  Elijah Harris    NaN   False  \n",
       "1    elis regina    Elis Regina    NaN   False  \n",
       "2    elis regina    Elis Regina    NaN   False  \n",
       "3    elis regina    Elis Regina    NaN   False  \n",
       "4    elis regina    Elis Regina    NaN   False  "
      ]
     },
     "execution_count": 20,
     "metadata": {},
     "output_type": "execute_result"
    }
   ],
   "source": [
    "merged_df.head(5)"
   ]
  },
  {
   "cell_type": "markdown",
   "id": "af9db5c9",
   "metadata": {},
   "source": [
    "### Filter for gender"
   ]
  },
  {
   "cell_type": "code",
   "execution_count": 21,
   "id": "dd32111e",
   "metadata": {},
   "outputs": [
    {
     "name": "stdout",
     "output_type": "stream",
     "text": [
      "21057\n"
     ]
    }
   ],
   "source": [
    "# Remove rows where the GENDER column is NaN\n",
    "merged_df = merged_df.dropna(subset=[\"GENDER\"])\n",
    "\n",
    "print(len(merged_df))\n"
   ]
  },
  {
   "cell_type": "code",
   "execution_count": 22,
   "id": "613316cb",
   "metadata": {},
   "outputs": [],
   "source": [
    "# Drop duplicate artists names\n",
    "columns_to_drop = [\"artist_clean\", \"NAME\"]\n",
    "\n",
    "merged_df = merged_df.drop(columns=columns_to_drop)"
   ]
  },
  {
   "cell_type": "code",
   "execution_count": 23,
   "id": "d0fd9dda",
   "metadata": {},
   "outputs": [
    {
     "data": {
      "text/html": [
       "<div>\n",
       "<style scoped>\n",
       "    .dataframe tbody tr th:only-of-type {\n",
       "        vertical-align: middle;\n",
       "    }\n",
       "\n",
       "    .dataframe tbody tr th {\n",
       "        vertical-align: top;\n",
       "    }\n",
       "\n",
       "    .dataframe thead th {\n",
       "        text-align: right;\n",
       "    }\n",
       "</style>\n",
       "<table border=\"1\" class=\"dataframe\">\n",
       "  <thead>\n",
       "    <tr style=\"text-align: right;\">\n",
       "      <th></th>\n",
       "      <th>artist</th>\n",
       "      <th>seq</th>\n",
       "      <th>GENDER</th>\n",
       "      <th>IS_BAND</th>\n",
       "    </tr>\n",
       "  </thead>\n",
       "  <tbody>\n",
       "    <tr>\n",
       "      <th>60</th>\n",
       "      <td>Elizabeth Naccarato</td>\n",
       "      <td>Oh, Danny boy, the pipes, the pipes are callin...</td>\n",
       "      <td>female</td>\n",
       "      <td>False</td>\n",
       "    </tr>\n",
       "    <tr>\n",
       "      <th>98</th>\n",
       "      <td>Ella Fitzgerald</td>\n",
       "      <td>I never feel a thing is real\\r\\nWhen I'm away ...</td>\n",
       "      <td>female</td>\n",
       "      <td>False</td>\n",
       "    </tr>\n",
       "    <tr>\n",
       "      <th>99</th>\n",
       "      <td>Ella Fitzgerald</td>\n",
       "      <td>I really can't stay\\r\\nBut, baby, it's cold ou...</td>\n",
       "      <td>female</td>\n",
       "      <td>False</td>\n",
       "    </tr>\n",
       "    <tr>\n",
       "      <th>100</th>\n",
       "      <td>Ella Fitzgerald</td>\n",
       "      <td>All my life\\r\\nI've been waiting for you\\r\\nMy...</td>\n",
       "      <td>female</td>\n",
       "      <td>False</td>\n",
       "    </tr>\n",
       "    <tr>\n",
       "      <th>101</th>\n",
       "      <td>Ella Fitzgerald</td>\n",
       "      <td>I'll be down to get you in a taxi honey\\r\\nBet...</td>\n",
       "      <td>female</td>\n",
       "      <td>False</td>\n",
       "    </tr>\n",
       "  </tbody>\n",
       "</table>\n",
       "</div>"
      ],
      "text/plain": [
       "                  artist                                                seq  \\\n",
       "60   Elizabeth Naccarato  Oh, Danny boy, the pipes, the pipes are callin...   \n",
       "98       Ella Fitzgerald  I never feel a thing is real\\r\\nWhen I'm away ...   \n",
       "99       Ella Fitzgerald  I really can't stay\\r\\nBut, baby, it's cold ou...   \n",
       "100      Ella Fitzgerald  All my life\\r\\nI've been waiting for you\\r\\nMy...   \n",
       "101      Ella Fitzgerald  I'll be down to get you in a taxi honey\\r\\nBet...   \n",
       "\n",
       "     GENDER IS_BAND  \n",
       "60   female   False  \n",
       "98   female   False  \n",
       "99   female   False  \n",
       "100  female   False  \n",
       "101  female   False  "
      ]
     },
     "execution_count": 23,
     "metadata": {},
     "output_type": "execute_result"
    }
   ],
   "source": [
    "merged_df.head()"
   ]
  },
  {
   "cell_type": "markdown",
   "id": "5fd12092",
   "metadata": {},
   "source": [
    "### Export "
   ]
  },
  {
   "cell_type": "code",
   "execution_count": 25,
   "id": "8383739e",
   "metadata": {},
   "outputs": [
    {
     "name": "stdout",
     "output_type": "stream",
     "text": [
      "done\n"
     ]
    }
   ],
   "source": [
    "merged_df.to_csv(\"cleaned_lyrics_gender.csv\", index=False)\n",
    "print(\"done\")"
   ]
  },
  {
   "cell_type": "code",
   "execution_count": null,
   "id": "2c5ad36d",
   "metadata": {},
   "outputs": [],
   "source": []
  }
 ],
 "metadata": {
  "kernelspec": {
   "display_name": "Python 3 (ipykernel)",
   "language": "python",
   "name": "python3"
  },
  "language_info": {
   "codemirror_mode": {
    "name": "ipython",
    "version": 3
   },
   "file_extension": ".py",
   "mimetype": "text/x-python",
   "name": "python",
   "nbconvert_exporter": "python",
   "pygments_lexer": "ipython3",
   "version": "3.9.13"
  }
 },
 "nbformat": 4,
 "nbformat_minor": 5
}
