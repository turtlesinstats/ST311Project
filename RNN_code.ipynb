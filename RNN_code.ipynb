{
 "cells": [
  {
   "cell_type": "markdown",
   "id": "2647157e",
   "metadata": {
    "id": "2647157e"
   },
   "source": [
    "# RNN"
   ]
  },
  {
   "cell_type": "markdown",
   "id": "399fad6a",
   "metadata": {},
   "source": [
    "## Build RNN"
   ]
  },
  {
   "cell_type": "markdown",
   "id": "21f4064f",
   "metadata": {},
   "source": [
    "Load data and libraries"
   ]
  },
  {
   "cell_type": "code",
   "execution_count": 71,
   "id": "f15c804c",
   "metadata": {},
   "outputs": [],
   "source": [
    "import torch\n",
    "from torch import nn\n",
    "from torch.nn.utils.rnn import pad_sequence\n",
    "from torch.utils.data import DataLoader, TensorDataset\n",
    "from collections import Counter\n",
    "import random"
   ]
  },
  {
   "cell_type": "code",
   "execution_count": 72,
   "id": "5337da5d",
   "metadata": {},
   "outputs": [
    {
     "data": {
      "text/html": [
       "<div>\n",
       "<style scoped>\n",
       "    .dataframe tbody tr th:only-of-type {\n",
       "        vertical-align: middle;\n",
       "    }\n",
       "\n",
       "    .dataframe tbody tr th {\n",
       "        vertical-align: top;\n",
       "    }\n",
       "\n",
       "    .dataframe thead th {\n",
       "        text-align: right;\n",
       "    }\n",
       "</style>\n",
       "<table border=\"1\" class=\"dataframe\">\n",
       "  <thead>\n",
       "    <tr style=\"text-align: right;\">\n",
       "      <th></th>\n",
       "      <th>lemmatized_lyrics</th>\n",
       "      <th>GENDER</th>\n",
       "    </tr>\n",
       "  </thead>\n",
       "  <tbody>\n",
       "    <tr>\n",
       "      <th>0</th>\n",
       "      <td>['oh', 'danny', 'boy', 'pipe', 'pipe', 'callin...</td>\n",
       "      <td>female</td>\n",
       "    </tr>\n",
       "    <tr>\n",
       "      <th>1</th>\n",
       "      <td>['never', 'feel', 'thing', 'real', 'im', 'away...</td>\n",
       "      <td>female</td>\n",
       "    </tr>\n",
       "    <tr>\n",
       "      <th>2</th>\n",
       "      <td>['really', 'cant', 'stay', 'baby', 'cold', 'ou...</td>\n",
       "      <td>female</td>\n",
       "    </tr>\n",
       "    <tr>\n",
       "      <th>3</th>\n",
       "      <td>['life', 'ive', 'waiting', 'wonderful', 'one',...</td>\n",
       "      <td>female</td>\n",
       "    </tr>\n",
       "    <tr>\n",
       "      <th>4</th>\n",
       "      <td>['ill', 'get', 'taxi', 'honey', 'better', 'rea...</td>\n",
       "      <td>female</td>\n",
       "    </tr>\n",
       "  </tbody>\n",
       "</table>\n",
       "</div>"
      ],
      "text/plain": [
       "                                   lemmatized_lyrics  GENDER\n",
       "0  ['oh', 'danny', 'boy', 'pipe', 'pipe', 'callin...  female\n",
       "1  ['never', 'feel', 'thing', 'real', 'im', 'away...  female\n",
       "2  ['really', 'cant', 'stay', 'baby', 'cold', 'ou...  female\n",
       "3  ['life', 'ive', 'waiting', 'wonderful', 'one',...  female\n",
       "4  ['ill', 'get', 'taxi', 'honey', 'better', 'rea...  female"
      ]
     },
     "execution_count": 72,
     "metadata": {},
     "output_type": "execute_result"
    }
   ],
   "source": [
    "df = pd.read_csv('data/cleaned_eda.csv')\n",
    "df = df[df[\"GENDER\"].isin([\"female\", \"male\"])]\n",
    "df.head()"
   ]
  },
  {
   "cell_type": "markdown",
   "id": "3516dc16",
   "metadata": {},
   "source": [
    "Create a token-to-index dictionary"
   ]
  },
  {
   "cell_type": "code",
   "execution_count": 73,
   "id": "18372a4d",
   "metadata": {},
   "outputs": [],
   "source": [
    "tokenized = df[\"lemmatized_lyrics\"]\n",
    "\n",
    "all_tokens = [token for row in tokenized for token in row]\n",
    "vocab = {token: i + 2 for i, token in enumerate(Counter(all_tokens).keys())}\n",
    "vocab[\"<pad>\"] = 0\n",
    "vocab[\"<unk>\"] = 1\n",
    "vocab_size = len(vocab)"
   ]
  },
  {
   "cell_type": "markdown",
   "id": "ecf83fb6",
   "metadata": {},
   "source": [
    "Encode lyrics and labels"
   ]
  },
  {
   "cell_type": "code",
   "execution_count": 74,
   "id": "6239e4b5",
   "metadata": {},
   "outputs": [],
   "source": [
    "def encode(tokens): return [vocab.get(t, 1) for t in tokens]\n",
    "X_encoded = tokenized.apply(encode)\n",
    "y_encoded = df[\"GENDER\"].map({\"female\": 0, \"male\": 1}).tolist()"
   ]
  },
  {
   "cell_type": "markdown",
   "id": "9f12f47d",
   "metadata": {},
   "source": [
    "Truncate and pad sequences"
   ]
  },
  {
   "cell_type": "code",
   "execution_count": 75,
   "id": "24105477",
   "metadata": {},
   "outputs": [],
   "source": [
    "seq_len = 100\n",
    "X_tensor = [torch.tensor(x[:seq_len]) for x in X_encoded]\n",
    "X_padded = pad_sequence(X_tensor, batch_first=True, padding_value=0)\n",
    "y_tensor = torch.tensor(y_encoded)"
   ]
  },
  {
   "cell_type": "markdown",
   "id": "da23b779",
   "metadata": {},
   "source": [
    "Preparing preprocessed dataset for training and testing"
   ]
  },
  {
   "cell_type": "code",
   "execution_count": 76,
   "id": "tll_VpNHxEI8",
   "metadata": {
    "id": "tll_VpNHxEI8"
   },
   "outputs": [],
   "source": [
    "indices = list(range(len(X_padded)))\n",
    "random.shuffle(indices)\n",
    "\n",
    "split = int(0.8 * len(indices))\n",
    "train_idx, test_idx = indices[:split], indices[split:]\n",
    "\n",
    "X_train, X_test = X_padded[train_idx], X_padded[test_idx]\n",
    "y_train, y_test = y_tensor[train_idx], y_tensor[test_idx]\n",
    "\n",
    "batch_size = 32\n",
    "train_loader = DataLoader(TensorDataset(X_train, y_train), batch_size=batch_size, shuffle=True)\n",
    "test_loader = DataLoader(TensorDataset(X_test, y_test), batch_size=batch_size)"
   ]
  },
  {
   "cell_type": "markdown",
   "id": "dd8fcf19",
   "metadata": {},
   "source": [
    "Compute class frequencies"
   ]
  },
  {
   "cell_type": "code",
   "execution_count": 79,
   "id": "0eb44075",
   "metadata": {},
   "outputs": [],
   "source": [
    "from collections import Counter\n",
    "import torch\n",
    "\n",
    "label_counts = Counter(y_train.tolist())\n",
    "total = sum(label_counts.values())\n",
    "\n",
    "class_weights = [total / label_counts[i] for i in range(len(label_counts))]\n",
    "class_weights = torch.tensor(class_weights, dtype=torch.float32)"
   ]
  },
  {
   "cell_type": "markdown",
   "id": "9907f73d",
   "metadata": {},
   "source": [
    "Set up hyperparameters"
   ]
  },
  {
   "cell_type": "code",
   "execution_count": 80,
   "id": "FkCTLUdYxXlU",
   "metadata": {
    "id": "FkCTLUdYxXlU"
   },
   "outputs": [],
   "source": [
    "embed_size = 64\n",
    "num_hiddens = 128\n",
    "output_size = 2\n",
    "lr = 0.01\n",
    "num_epochs = 5\n",
    "\n",
    "embedding = nn.Embedding(vocab_size, embed_size)\n",
    "rnn = RNNScratch(embed_size, num_hiddens)\n",
    "linear = nn.Linear(num_hiddens, output_size)\n",
    "dropout = nn.Dropout(p=0.5)\n",
    "loss_fn = nn.CrossEntropyLoss(weight=class_weights)"
   ]
  },
  {
   "cell_type": "markdown",
   "id": "5beedb83",
   "metadata": {},
   "source": [
    "### Train RNN with Pytorch"
   ]
  },
  {
   "cell_type": "code",
   "execution_count": 81,
   "id": "NLoUe9ayxbYu",
   "metadata": {
    "colab": {
     "base_uri": "https://localhost:8080/"
    },
    "id": "NLoUe9ayxbYu",
    "outputId": "4c5b20b4-2939-45c9-8ccb-513f87d59a65"
   },
   "outputs": [
    {
     "name": "stdout",
     "output_type": "stream",
     "text": [
      "Epoch 1: Loss=342.4510, Train Accuracy=0.6223\n",
      "Epoch 2: Loss=341.7393, Train Accuracy=0.5865\n",
      "Epoch 3: Loss=341.8852, Train Accuracy=0.5836\n",
      "Epoch 4: Loss=341.6976, Train Accuracy=0.5875\n",
      "Epoch 5: Loss=341.5004, Train Accuracy=0.5673\n"
     ]
    }
   ],
   "source": [
    "for epoch in range(num_epochs):\n",
    "    rnn.train()\n",
    "    dropout.train()\n",
    "    embedding.train()\n",
    "\n",
    "    total_loss, correct, total = 0, 0, 0\n",
    "\n",
    "    for X_batch, y_batch in train_loader:\n",
    "        X_embed = embedding(X_batch)\n",
    "        X_input = X_embed.permute(1, 0, 2) \n",
    "\n",
    "        outputs, (state,) = rnn(X_input)\n",
    "        dropped = dropout(outputs[-1])\n",
    "        y_hat = linear(dropped)\n",
    "\n",
    "        loss = loss_fn(y_hat, y_batch)\n",
    "        loss.backward()\n",
    "\n",
    "        with torch.no_grad():\n",
    "            for param in rnn.parameters():\n",
    "                param -= lr * param.grad\n",
    "                param.grad.zero_()\n",
    "            for param in linear.parameters():\n",
    "                param -= lr * param.grad\n",
    "                param.grad.zero_()\n",
    "            for param in embedding.parameters():\n",
    "                param -= lr * param.grad\n",
    "                param.grad.zero_()\n",
    "\n",
    "        total_loss += loss.item()\n",
    "        correct += (y_hat.argmax(1) == y_batch).sum().item()\n",
    "        total += y_batch.size(0)\n",
    "\n",
    "    train_acc = correct / total\n",
    "    print(f\"Epoch {epoch+1}: Loss={total_loss:.4f}, Train Accuracy={train_acc:.4f}\")"
   ]
  },
  {
   "cell_type": "markdown",
   "id": "a42890e4",
   "metadata": {},
   "source": [
    "Evaluate on the test set"
   ]
  },
  {
   "cell_type": "code",
   "execution_count": 82,
   "id": "zXUg2DXgy_lq",
   "metadata": {
    "id": "zXUg2DXgy_lq"
   },
   "outputs": [
    {
     "name": "stdout",
     "output_type": "stream",
     "text": [
      "Test Accuracy: 0.6378\n"
     ]
    }
   ],
   "source": [
    "import numpy as np\n",
    "import matplotlib.pyplot as plt\n",
    "\n",
    "rnn.eval()\n",
    "dropout.eval()\n",
    "embedding.eval()\n",
    "\n",
    "all_preds = []\n",
    "all_probs = []\n",
    "all_labels = []\n",
    "\n",
    "with torch.no_grad():\n",
    "    for X_batch, y_batch in test_loader:\n",
    "        X_embed = embedding(X_batch)\n",
    "        X_input = X_embed.permute(1, 0, 2)\n",
    "\n",
    "        outputs, (state,) = rnn(X_input)\n",
    "        logits = linear(outputs[-1])  # no dropout here\n",
    "\n",
    "        probs = torch.softmax(logits, dim=1)\n",
    "        preds = torch.argmax(probs, dim=1)\n",
    "\n",
    "        all_preds.extend(preds.tolist())\n",
    "        all_probs.extend(probs[:, 1].tolist())\n",
    "        all_labels.extend(y_batch.tolist())\n",
    "\n",
    "# Compute test accuracy\n",
    "all_preds_np = np.array(all_preds)\n",
    "all_labels_np = np.array(all_labels)\n",
    "test_acc = (all_preds_np == all_labels_np).mean()\n",
    "print(f\"Test Accuracy: {test_acc:.4f}\")"
   ]
  },
  {
   "cell_type": "markdown",
   "id": "85611b17",
   "metadata": {},
   "source": [
    "Function to compute accuracy"
   ]
  },
  {
   "cell_type": "code",
   "execution_count": 83,
   "id": "J7sdNXsJzcBA",
   "metadata": {
    "id": "J7sdNXsJzcBA"
   },
   "outputs": [],
   "source": [
    "def compute_metrics(y_true, y_pred, y_prob, threshold=0.5):\n",
    "    TP = sum((y_pred[i] == 1 and y_true[i] == 1) for i in range(len(y_true)))\n",
    "    TN = sum((y_pred[i] == 0 and y_true[i] == 0) for i in range(len(y_true)))\n",
    "    FP = sum((y_pred[i] == 1 and y_true[i] == 0) for i in range(len(y_true)))\n",
    "    FN = sum((y_pred[i] == 0 and y_true[i] == 1) for i in range(len(y_true)))\n",
    "\n",
    "    accuracy = (TP + TN) / len(y_true)\n",
    "    precision = TP / (TP + FP) if (TP + FP) > 0 else 0\n",
    "    recall = TP / (TP + FN) if (TP + FN) > 0 else 0\n",
    "    f1 = 2 * precision * recall / (precision + recall) if (precision + recall) > 0 else 0\n",
    "\n",
    "    sorted_pairs = sorted(zip(y_prob, y_true), reverse=True)\n",
    "    TPRs, FPRs = [], []\n",
    "    P = sum(y_true)\n",
    "    N = len(y_true) - P\n",
    "    TP = FP = 0\n",
    "    for prob, label in sorted_pairs:\n",
    "        if label == 1:\n",
    "            TP += 1\n",
    "        else:\n",
    "            FP += 1\n",
    "        TPRs.append(TP / P if P else 0)\n",
    "        FPRs.append(FP / N if N else 0)\n",
    "    auc = np.trapz(TPRs, FPRs)\n",
    "\n",
    "    return accuracy, precision, recall, f1, auc, TPRs, FPRs\n"
   ]
  },
  {
   "cell_type": "markdown",
   "id": "aa29105b",
   "metadata": {},
   "source": [
    "Plot ROC curve and state metrics"
   ]
  },
  {
   "cell_type": "code",
   "execution_count": 84,
   "id": "XHzGccbZzgvD",
   "metadata": {
    "colab": {
     "base_uri": "https://localhost:8080/",
     "height": 580
    },
    "id": "XHzGccbZzgvD",
    "outputId": "a4754e0e-24bd-47ab-dd9e-8a8d692e742d"
   },
   "outputs": [
    {
     "name": "stdout",
     "output_type": "stream",
     "text": [
      "Accuracy : 0.6378\n",
      "Precision: 0.7800\n",
      "Recall   : 0.7452\n",
      "F1-score : 0.7622\n",
      "AUC      : 0.4962\n"
     ]
    },
    {
     "data": {
      "image/png": "[encoded data removed]",
      "text/plain": [
       "<Figure size 600x500 with 1 Axes>"
      ]
     },
     "metadata": {},
     "output_type": "display_data"
    }
   ],
   "source": [
    "accuracy, precision, recall, f1, auc_score, tprs, fprs = compute_metrics(all_labels, all_preds, all_probs)\n",
    "\n",
    "print(f\"Accuracy : {accuracy:.4f}\")\n",
    "print(f\"Precision: {precision:.4f}\")\n",
    "print(f\"Recall   : {recall:.4f}\")\n",
    "print(f\"F1-score : {f1:.4f}\")\n",
    "print(f\"AUC      : {auc_score:.4f}\")\n",
    "\n",
    "plt.figure(figsize=(6, 5))\n",
    "plt.plot(fprs, tprs, label=f\"AUC = {auc_score:.4f}\")\n",
    "plt.plot([0, 1], [0, 1], '--', color='gray')\n",
    "plt.xlabel(\"False Positive Rate\")\n",
    "plt.ylabel(\"True Positive Rate\")\n",
    "plt.title(\"ROC Curve\")\n",
    "plt.legend()\n",
    "plt.grid(True)\n",
    "plt.show()\n"
   ]
  },
  {
   "cell_type": "markdown",
   "id": "cc576d66",
   "metadata": {},
   "source": [
    "Plot Confusion Matrix"
   ]
  },
  {
   "cell_type": "code",
   "execution_count": 85,
   "id": "IpjjqVL9zmR5",
   "metadata": {
    "colab": {
     "base_uri": "https://localhost:8080/",
     "height": 407
    },
    "id": "IpjjqVL9zmR5",
    "outputId": "30bd6447-473c-461f-92ac-970e515bfea1"
   },
   "outputs": [
    {
     "data": {
      "image/png": "[encoded data removed]",
      "text/plain": [
       "<Figure size 500x400 with 2 Axes>"
      ]
     },
     "metadata": {},
     "output_type": "display_data"
    }
   ],
   "source": [
    "TP = sum((p == 1 and y == 1) for p, y in zip(all_preds, all_labels))\n",
    "TN = sum((p == 0 and y == 0) for p, y in zip(all_preds, all_labels))\n",
    "FP = sum((p == 1 and y == 0) for p, y in zip(all_preds, all_labels))\n",
    "FN = sum((p == 0 and y == 1) for p, y in zip(all_preds, all_labels))\n",
    "\n",
    "conf_matrix = np.array([[TN, FP],\n",
    "                        [FN, TP]])\n",
    "\n",
    "fig, ax = plt.subplots(figsize=(5, 4))\n",
    "im = ax.imshow(conf_matrix, cmap=\"Blues\")\n",
    "\n",
    "for i in range(2):\n",
    "    for j in range(2):\n",
    "        ax.text(j, i, conf_matrix[i, j], ha=\"center\", va=\"center\", fontsize=12)\n",
    "\n",
    "ax.set_xticks([0, 1])\n",
    "ax.set_yticks([0, 1])\n",
    "ax.set_xticklabels([\"Pred 0\", \"Pred 1\"])\n",
    "ax.set_yticklabels([\"Actual 0\", \"Actual 1\"])\n",
    "ax.set_xlabel(\"Predicted\")\n",
    "ax.set_ylabel(\"Actual\")\n",
    "ax.set_title(\"Confusion Matrix\")\n",
    "plt.colorbar(im)\n",
    "plt.tight_layout()\n",
    "plt.show()"
   ]
  },
  {
   "cell_type": "code",
   "execution_count": null,
   "id": "876431a9",
   "metadata": {},
   "outputs": [],
   "source": []
  }
 ],
 "metadata": {
  "colab": {
   "provenance": []
  },
  "kernelspec": {
   "display_name": "Python 3 (ipykernel)",
   "language": "python",
   "name": "python3"
  },
  "language_info": {
   "codemirror_mode": {
    "name": "ipython",
    "version": 3
   },
   "file_extension": ".py",
   "mimetype": "text/x-python",
   "name": "python",
   "nbconvert_exporter": "python",
   "pygments_lexer": "ipython3",
   "version": "3.9.12"
  }
 },
 "nbformat": 4,
 "nbformat_minor": 5
}
